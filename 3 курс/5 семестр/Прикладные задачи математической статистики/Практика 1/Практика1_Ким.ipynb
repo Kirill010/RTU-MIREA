{
 "cells": [
  {
   "cell_type": "markdown",
   "metadata": {
    "id": "BjMRaiYz6o_E"
   },
   "source": [
    "# **Пункт 1**"
   ]
  },
  {
   "cell_type": "markdown",
   "metadata": {
    "id": "AenF7pAPuKpu"
   },
   "source": [
    "Целочисленные данные"
   ]
  },
  {
   "cell_type": "code",
   "execution_count": null,
   "metadata": {
    "colab": {
     "base_uri": "https://localhost:8080/"
    },
    "id": "hH-RLLjsMWCt",
    "outputId": "b455046a-9d48-4d76-b31c-9ffc0be49f11"
   },
   "outputs": [
    {
     "name": "stdout",
     "output_type": "stream",
     "text": [
      "      name  num  height  month\n",
      "0  Timofey    7    1.84      1\n",
      "1   Kirill    0    1.75     11\n",
      "2   Bogdan    8    1.80     12\n",
      "3  Arseniy    2    1.84      9\n",
      "4     Aisa    1    1.57      1\n",
      "5    Vanya    0    1.85     12\n",
      "6     Dima    5    1.83      8\n",
      "7   Arthur    7    1.80     12\n"
     ]
    }
   ],
   "source": [
    "import pandas as pd\n",
    "import numpy as np\n",
    "\n",
    "\n",
    "students_marks_dict = {\"name\": [\"Timofey\", \"Kirill\", \"Bogdan\", \"Arseniy\", \"Aisa\", \"Vanya\", \"Dima\", \"Arthur\"],\n",
    "                        \"num\": [7, 0, 8, 2, 1, 0, 5, 7],\n",
    "                        \"height\": [1.84, 1.75, 1.80, 1.84, 1.57, 1.85, 1.83, 1.80],\n",
    "                        \"month\": [1, 11, 12, 9, 1, 12, 8, 12]}\n",
    "students = pd.DataFrame(students_marks_dict)\n",
    "print(students)"
   ]
  },
  {
   "cell_type": "code",
   "execution_count": null,
   "metadata": {
    "colab": {
     "base_uri": "https://localhost:8080/",
     "height": 300
    },
    "id": "tAtIECKgQTCM",
    "outputId": "aafc1a9c-6e65-4368-d4f1-42869c326e5a"
   },
   "outputs": [
    {
     "data": {
      "application/vnd.google.colaboratory.intrinsic+json": {
       "summary": "{\n  \"name\": \"students\",\n  \"rows\": 8,\n  \"fields\": [\n    {\n      \"column\": \"num\",\n      \"properties\": {\n        \"dtype\": \"number\",\n        \"std\": 3.106898332784432,\n        \"min\": 0.0,\n        \"max\": 8.0,\n        \"num_unique_values\": 7,\n        \"samples\": [\n          8.0,\n          3.75,\n          3.5\n        ],\n        \"semantic_type\": \"\",\n        \"description\": \"\"\n      }\n    },\n    {\n      \"column\": \"height\",\n      \"properties\": {\n        \"dtype\": \"number\",\n        \"std\": 2.362131292967467,\n        \"min\": 0.09273618495495704,\n        \"max\": 8.0,\n        \"num_unique_values\": 8,\n        \"samples\": [\n          1.7850000000000001,\n          1.815,\n          8.0\n        ],\n        \"semantic_type\": \"\",\n        \"description\": \"\"\n      }\n    },\n    {\n      \"column\": \"month\",\n      \"properties\": {\n        \"dtype\": \"number\",\n        \"std\": 3.75174153851247,\n        \"min\": 1.0,\n        \"max\": 12.0,\n        \"num_unique_values\": 7,\n        \"samples\": [\n          8.0,\n          8.25,\n          10.0\n        ],\n        \"semantic_type\": \"\",\n        \"description\": \"\"\n      }\n    }\n  ]\n}",
       "type": "dataframe"
      },
      "text/html": [
       "\n",
       "  <div id=\"df-89eef995-cb71-402f-868f-44886a8bf266\" class=\"colab-df-container\">\n",
       "    <div>\n",
       "<style scoped>\n",
       "    .dataframe tbody tr th:only-of-type {\n",
       "        vertical-align: middle;\n",
       "    }\n",
       "\n",
       "    .dataframe tbody tr th {\n",
       "        vertical-align: top;\n",
       "    }\n",
       "\n",
       "    .dataframe thead th {\n",
       "        text-align: right;\n",
       "    }\n",
       "</style>\n",
       "<table border=\"1\" class=\"dataframe\">\n",
       "  <thead>\n",
       "    <tr style=\"text-align: right;\">\n",
       "      <th></th>\n",
       "      <th>num</th>\n",
       "      <th>height</th>\n",
       "      <th>month</th>\n",
       "    </tr>\n",
       "  </thead>\n",
       "  <tbody>\n",
       "    <tr>\n",
       "      <th>count</th>\n",
       "      <td>8.000000</td>\n",
       "      <td>8.000000</td>\n",
       "      <td>8.000000</td>\n",
       "    </tr>\n",
       "    <tr>\n",
       "      <th>mean</th>\n",
       "      <td>3.750000</td>\n",
       "      <td>1.785000</td>\n",
       "      <td>8.250000</td>\n",
       "    </tr>\n",
       "    <tr>\n",
       "      <th>std</th>\n",
       "      <td>3.370036</td>\n",
       "      <td>0.092736</td>\n",
       "      <td>4.713203</td>\n",
       "    </tr>\n",
       "    <tr>\n",
       "      <th>min</th>\n",
       "      <td>0.000000</td>\n",
       "      <td>1.570000</td>\n",
       "      <td>1.000000</td>\n",
       "    </tr>\n",
       "    <tr>\n",
       "      <th>25%</th>\n",
       "      <td>0.750000</td>\n",
       "      <td>1.787500</td>\n",
       "      <td>6.250000</td>\n",
       "    </tr>\n",
       "    <tr>\n",
       "      <th>50%</th>\n",
       "      <td>3.500000</td>\n",
       "      <td>1.815000</td>\n",
       "      <td>10.000000</td>\n",
       "    </tr>\n",
       "    <tr>\n",
       "      <th>75%</th>\n",
       "      <td>7.000000</td>\n",
       "      <td>1.840000</td>\n",
       "      <td>12.000000</td>\n",
       "    </tr>\n",
       "    <tr>\n",
       "      <th>max</th>\n",
       "      <td>8.000000</td>\n",
       "      <td>1.850000</td>\n",
       "      <td>12.000000</td>\n",
       "    </tr>\n",
       "  </tbody>\n",
       "</table>\n",
       "</div>\n",
       "    <div class=\"colab-df-buttons\">\n",
       "\n",
       "  <div class=\"colab-df-container\">\n",
       "    <button class=\"colab-df-convert\" onclick=\"convertToInteractive('df-89eef995-cb71-402f-868f-44886a8bf266')\"\n",
       "            title=\"Convert this dataframe to an interactive table.\"\n",
       "            style=\"display:none;\">\n",
       "\n",
       "  <svg xmlns=\"http://www.w3.org/2000/svg\" height=\"24px\" viewBox=\"0 -960 960 960\">\n",
       "    <path d=\"M120-120v-720h720v720H120Zm60-500h600v-160H180v160Zm220 220h160v-160H400v160Zm0 220h160v-160H400v160ZM180-400h160v-160H180v160Zm440 0h160v-160H620v160ZM180-180h160v-160H180v160Zm440 0h160v-160H620v160Z\"/>\n",
       "  </svg>\n",
       "    </button>\n",
       "\n",
       "  <style>\n",
       "    .colab-df-container {\n",
       "      display:flex;\n",
       "      gap: 12px;\n",
       "    }\n",
       "\n",
       "    .colab-df-convert {\n",
       "      background-color: #E8F0FE;\n",
       "      border: none;\n",
       "      border-radius: 50%;\n",
       "      cursor: pointer;\n",
       "      display: none;\n",
       "      fill: #1967D2;\n",
       "      height: 32px;\n",
       "      padding: 0 0 0 0;\n",
       "      width: 32px;\n",
       "    }\n",
       "\n",
       "    .colab-df-convert:hover {\n",
       "      background-color: #E2EBFA;\n",
       "      box-shadow: 0px 1px 2px rgba(60, 64, 67, 0.3), 0px 1px 3px 1px rgba(60, 64, 67, 0.15);\n",
       "      fill: #174EA6;\n",
       "    }\n",
       "\n",
       "    .colab-df-buttons div {\n",
       "      margin-bottom: 4px;\n",
       "    }\n",
       "\n",
       "    [theme=dark] .colab-df-convert {\n",
       "      background-color: #3B4455;\n",
       "      fill: #D2E3FC;\n",
       "    }\n",
       "\n",
       "    [theme=dark] .colab-df-convert:hover {\n",
       "      background-color: #434B5C;\n",
       "      box-shadow: 0px 1px 3px 1px rgba(0, 0, 0, 0.15);\n",
       "      filter: drop-shadow(0px 1px 2px rgba(0, 0, 0, 0.3));\n",
       "      fill: #FFFFFF;\n",
       "    }\n",
       "  </style>\n",
       "\n",
       "    <script>\n",
       "      const buttonEl =\n",
       "        document.querySelector('#df-89eef995-cb71-402f-868f-44886a8bf266 button.colab-df-convert');\n",
       "      buttonEl.style.display =\n",
       "        google.colab.kernel.accessAllowed ? 'block' : 'none';\n",
       "\n",
       "      async function convertToInteractive(key) {\n",
       "        const element = document.querySelector('#df-89eef995-cb71-402f-868f-44886a8bf266');\n",
       "        const dataTable =\n",
       "          await google.colab.kernel.invokeFunction('convertToInteractive',\n",
       "                                                    [key], {});\n",
       "        if (!dataTable) return;\n",
       "\n",
       "        const docLinkHtml = 'Like what you see? Visit the ' +\n",
       "          '<a target=\"_blank\" href=https://colab.research.google.com/notebooks/data_table.ipynb>data table notebook</a>'\n",
       "          + ' to learn more about interactive tables.';\n",
       "        element.innerHTML = '';\n",
       "        dataTable['output_type'] = 'display_data';\n",
       "        await google.colab.output.renderOutput(dataTable, element);\n",
       "        const docLink = document.createElement('div');\n",
       "        docLink.innerHTML = docLinkHtml;\n",
       "        element.appendChild(docLink);\n",
       "      }\n",
       "    </script>\n",
       "  </div>\n",
       "\n",
       "\n",
       "<div id=\"df-bf29325f-4779-494c-841f-ac6d5889fd01\">\n",
       "  <button class=\"colab-df-quickchart\" onclick=\"quickchart('df-bf29325f-4779-494c-841f-ac6d5889fd01')\"\n",
       "            title=\"Suggest charts\"\n",
       "            style=\"display:none;\">\n",
       "\n",
       "<svg xmlns=\"http://www.w3.org/2000/svg\" height=\"24px\"viewBox=\"0 0 24 24\"\n",
       "     width=\"24px\">\n",
       "    <g>\n",
       "        <path d=\"M19 3H5c-1.1 0-2 .9-2 2v14c0 1.1.9 2 2 2h14c1.1 0 2-.9 2-2V5c0-1.1-.9-2-2-2zM9 17H7v-7h2v7zm4 0h-2V7h2v10zm4 0h-2v-4h2v4z\"/>\n",
       "    </g>\n",
       "</svg>\n",
       "  </button>\n",
       "\n",
       "<style>\n",
       "  .colab-df-quickchart {\n",
       "      --bg-color: #E8F0FE;\n",
       "      --fill-color: #1967D2;\n",
       "      --hover-bg-color: #E2EBFA;\n",
       "      --hover-fill-color: #174EA6;\n",
       "      --disabled-fill-color: #AAA;\n",
       "      --disabled-bg-color: #DDD;\n",
       "  }\n",
       "\n",
       "  [theme=dark] .colab-df-quickchart {\n",
       "      --bg-color: #3B4455;\n",
       "      --fill-color: #D2E3FC;\n",
       "      --hover-bg-color: #434B5C;\n",
       "      --hover-fill-color: #FFFFFF;\n",
       "      --disabled-bg-color: #3B4455;\n",
       "      --disabled-fill-color: #666;\n",
       "  }\n",
       "\n",
       "  .colab-df-quickchart {\n",
       "    background-color: var(--bg-color);\n",
       "    border: none;\n",
       "    border-radius: 50%;\n",
       "    cursor: pointer;\n",
       "    display: none;\n",
       "    fill: var(--fill-color);\n",
       "    height: 32px;\n",
       "    padding: 0;\n",
       "    width: 32px;\n",
       "  }\n",
       "\n",
       "  .colab-df-quickchart:hover {\n",
       "    background-color: var(--hover-bg-color);\n",
       "    box-shadow: 0 1px 2px rgba(60, 64, 67, 0.3), 0 1px 3px 1px rgba(60, 64, 67, 0.15);\n",
       "    fill: var(--button-hover-fill-color);\n",
       "  }\n",
       "\n",
       "  .colab-df-quickchart-complete:disabled,\n",
       "  .colab-df-quickchart-complete:disabled:hover {\n",
       "    background-color: var(--disabled-bg-color);\n",
       "    fill: var(--disabled-fill-color);\n",
       "    box-shadow: none;\n",
       "  }\n",
       "\n",
       "  .colab-df-spinner {\n",
       "    border: 2px solid var(--fill-color);\n",
       "    border-color: transparent;\n",
       "    border-bottom-color: var(--fill-color);\n",
       "    animation:\n",
       "      spin 1s steps(1) infinite;\n",
       "  }\n",
       "\n",
       "  @keyframes spin {\n",
       "    0% {\n",
       "      border-color: transparent;\n",
       "      border-bottom-color: var(--fill-color);\n",
       "      border-left-color: var(--fill-color);\n",
       "    }\n",
       "    20% {\n",
       "      border-color: transparent;\n",
       "      border-left-color: var(--fill-color);\n",
       "      border-top-color: var(--fill-color);\n",
       "    }\n",
       "    30% {\n",
       "      border-color: transparent;\n",
       "      border-left-color: var(--fill-color);\n",
       "      border-top-color: var(--fill-color);\n",
       "      border-right-color: var(--fill-color);\n",
       "    }\n",
       "    40% {\n",
       "      border-color: transparent;\n",
       "      border-right-color: var(--fill-color);\n",
       "      border-top-color: var(--fill-color);\n",
       "    }\n",
       "    60% {\n",
       "      border-color: transparent;\n",
       "      border-right-color: var(--fill-color);\n",
       "    }\n",
       "    80% {\n",
       "      border-color: transparent;\n",
       "      border-right-color: var(--fill-color);\n",
       "      border-bottom-color: var(--fill-color);\n",
       "    }\n",
       "    90% {\n",
       "      border-color: transparent;\n",
       "      border-bottom-color: var(--fill-color);\n",
       "    }\n",
       "  }\n",
       "</style>\n",
       "\n",
       "  <script>\n",
       "    async function quickchart(key) {\n",
       "      const quickchartButtonEl =\n",
       "        document.querySelector('#' + key + ' button');\n",
       "      quickchartButtonEl.disabled = true;  // To prevent multiple clicks.\n",
       "      quickchartButtonEl.classList.add('colab-df-spinner');\n",
       "      try {\n",
       "        const charts = await google.colab.kernel.invokeFunction(\n",
       "            'suggestCharts', [key], {});\n",
       "      } catch (error) {\n",
       "        console.error('Error during call to suggestCharts:', error);\n",
       "      }\n",
       "      quickchartButtonEl.classList.remove('colab-df-spinner');\n",
       "      quickchartButtonEl.classList.add('colab-df-quickchart-complete');\n",
       "    }\n",
       "    (() => {\n",
       "      let quickchartButtonEl =\n",
       "        document.querySelector('#df-bf29325f-4779-494c-841f-ac6d5889fd01 button');\n",
       "      quickchartButtonEl.style.display =\n",
       "        google.colab.kernel.accessAllowed ? 'block' : 'none';\n",
       "    })();\n",
       "  </script>\n",
       "</div>\n",
       "    </div>\n",
       "  </div>\n"
      ],
      "text/plain": [
       "            num    height      month\n",
       "count  8.000000  8.000000   8.000000\n",
       "mean   3.750000  1.785000   8.250000\n",
       "std    3.370036  0.092736   4.713203\n",
       "min    0.000000  1.570000   1.000000\n",
       "25%    0.750000  1.787500   6.250000\n",
       "50%    3.500000  1.815000  10.000000\n",
       "75%    7.000000  1.840000  12.000000\n",
       "max    8.000000  1.850000  12.000000"
      ]
     },
     "execution_count": 53,
     "metadata": {},
     "output_type": "execute_result"
    }
   ],
   "source": [
    "students.describe()"
   ]
  },
  {
   "cell_type": "markdown",
   "metadata": {
    "id": "PeqTP4eTuygD"
   },
   "source": [
    "1. Вариационный ряд"
   ]
  },
  {
   "cell_type": "code",
   "execution_count": null,
   "metadata": {
    "colab": {
     "base_uri": "https://localhost:8080/"
    },
    "id": "zklGZ-NoQgPu",
    "outputId": "04dc0880-bc9a-404f-fda8-74e88a14f5ca"
   },
   "outputs": [
    {
     "data": {
      "text/plain": [
       "[0, 0, 1, 2, 5, 7, 7, 8]"
      ]
     },
     "execution_count": 54,
     "metadata": {},
     "output_type": "execute_result"
    }
   ],
   "source": [
    "sort_num1 = sorted(students['num'])\n",
    "sort_num1"
   ]
  },
  {
   "cell_type": "code",
   "execution_count": null,
   "metadata": {
    "colab": {
     "base_uri": "https://localhost:8080/",
     "height": 303
    },
    "id": "-TyrU_1d4fOP",
    "outputId": "da7ef967-e25c-40c9-8a29-78b2f1d59d12"
   },
   "outputs": [
    {
     "data": {
      "text/html": [
       "<div>\n",
       "<style scoped>\n",
       "    .dataframe tbody tr th:only-of-type {\n",
       "        vertical-align: middle;\n",
       "    }\n",
       "\n",
       "    .dataframe tbody tr th {\n",
       "        vertical-align: top;\n",
       "    }\n",
       "\n",
       "    .dataframe thead th {\n",
       "        text-align: right;\n",
       "    }\n",
       "</style>\n",
       "<table border=\"1\" class=\"dataframe\">\n",
       "  <thead>\n",
       "    <tr style=\"text-align: right;\">\n",
       "      <th></th>\n",
       "      <th>count</th>\n",
       "    </tr>\n",
       "    <tr>\n",
       "      <th>num</th>\n",
       "      <th></th>\n",
       "    </tr>\n",
       "  </thead>\n",
       "  <tbody>\n",
       "    <tr>\n",
       "      <th>7</th>\n",
       "      <td>2</td>\n",
       "    </tr>\n",
       "    <tr>\n",
       "      <th>0</th>\n",
       "      <td>2</td>\n",
       "    </tr>\n",
       "    <tr>\n",
       "      <th>8</th>\n",
       "      <td>1</td>\n",
       "    </tr>\n",
       "    <tr>\n",
       "      <th>2</th>\n",
       "      <td>1</td>\n",
       "    </tr>\n",
       "    <tr>\n",
       "      <th>1</th>\n",
       "      <td>1</td>\n",
       "    </tr>\n",
       "    <tr>\n",
       "      <th>5</th>\n",
       "      <td>1</td>\n",
       "    </tr>\n",
       "  </tbody>\n",
       "</table>\n",
       "</div><br><label><b>dtype:</b> int64</label>"
      ],
      "text/plain": [
       "num\n",
       "7    2\n",
       "0    2\n",
       "8    1\n",
       "2    1\n",
       "1    1\n",
       "5    1\n",
       "Name: count, dtype: int64"
      ]
     },
     "execution_count": 55,
     "metadata": {},
     "output_type": "execute_result"
    }
   ],
   "source": [
    "absolute_frequencies1 = students['num'].value_counts()\n",
    "absolute_frequencies1"
   ]
  },
  {
   "cell_type": "code",
   "execution_count": null,
   "metadata": {
    "colab": {
     "base_uri": "https://localhost:8080/"
    },
    "id": "g_EjhimlRP8M",
    "outputId": "69e97846-8633-4008-bae0-8aa674d4a51d"
   },
   "outputs": [
    {
     "name": "stdout",
     "output_type": "stream",
     "text": [
      "[0.25, 0.125, 0.125, 0.125, 0.25, 0.125]\n"
     ]
    }
   ],
   "source": [
    "ryad1 = [0, 1, 2, 5, 7, 8]\n",
    "absol1 = [2, 1, 1, 1, 2, 1] # вариационный ряд с абсолютными частотами\n",
    "otn1 = []\n",
    "for i in range(len(absol1)):\n",
    "    otn1.append(absol1[i] / sum(absol1))\n",
    "print(otn1) # вариационный ряд с относительными частотами"
   ]
  },
  {
   "cell_type": "markdown",
   "metadata": {
    "id": "7ttuJD2HvhAt"
   },
   "source": [
    "2. Полигон относительных частот вариационного ряда"
   ]
  },
  {
   "cell_type": "code",
   "execution_count": null,
   "metadata": {
    "colab": {
     "base_uri": "https://localhost:8080/",
     "height": 430
    },
    "id": "gje-rJTSSj5w",
    "outputId": "6a5a6211-e024-403c-c539-f43994cb3e47"
   },
   "outputs": [
    {
     "data": {
      "image/png": "[encoded data removed]",
      "text/plain": [
       "<Figure size 640x480 with 1 Axes>"
      ]
     },
     "metadata": {},
     "output_type": "display_data"
    }
   ],
   "source": [
    "import matplotlib.pyplot as plt\n",
    "\n",
    "\n",
    "plt.plot(ryad1, otn1)\n",
    "plt.show()"
   ]
  },
  {
   "cell_type": "markdown",
   "metadata": {
    "id": "CC1HXzAH61Ql"
   },
   "source": [
    "3. Эмпирическая функция распределения"
   ]
  },
  {
   "cell_type": "code",
   "execution_count": null,
   "metadata": {
    "colab": {
     "base_uri": "https://localhost:8080/",
     "height": 581
    },
    "id": "jt4dtPPE62QC",
    "outputId": "75e7f3d5-9420-4bfe-bebb-db27d04ac2a7"
   },
   "outputs": [
    {
     "data": {
      "text/plain": [
       "<matplotlib.legend.Legend at 0x7f5189402320>"
      ]
     },
     "execution_count": 58,
     "metadata": {},
     "output_type": "execute_result"
    },
    {
     "data": {
      "image/png": "[encoded data removed]",
      "text/plain": [
       "<Figure size 1200x600 with 1 Axes>"
      ]
     },
     "metadata": {},
     "output_type": "display_data"
    }
   ],
   "source": [
    "def emp_func(data):\n",
    "    sorted_data = np.sort(data)\n",
    "    n = len(data)\n",
    "    return sorted_data, np.arange(1, n + 1) / n\n",
    "\n",
    "\n",
    "x_num, y_num = emp_func(students['num'])\n",
    "\n",
    "plt.figure(figsize=(12, 6))\n",
    "plt.subplot(1, 2, 1)\n",
    "plt.step(x_num, y_num, where='post', label='Эмпирическая функция распределения', color = 'red')\n",
    "plt.title('Эмпирическая функция распределения для number')\n",
    "plt.xlabel('Значения')\n",
    "plt.ylabel('Эмпирическая вероятность')\n",
    "plt.grid()\n",
    "plt.legend()"
   ]
  },
  {
   "cell_type": "markdown",
   "metadata": {
    "id": "7O07D9fdwMFj"
   },
   "source": [
    "4.1 Рассчитать выборочное среднее"
   ]
  },
  {
   "cell_type": "code",
   "execution_count": null,
   "metadata": {
    "colab": {
     "base_uri": "https://localhost:8080/"
    },
    "id": "Ltl-WhMdPpyk",
    "outputId": "1f75dce7-918c-4d58-8a17-e859260666ea"
   },
   "outputs": [
    {
     "data": {
      "text/plain": [
       "3.75"
      ]
     },
     "execution_count": 59,
     "metadata": {},
     "output_type": "execute_result"
    }
   ],
   "source": [
    "sred1 = students['num'].sum() / len(students)\n",
    "sred1"
   ]
  },
  {
   "cell_type": "markdown",
   "metadata": {
    "id": "OoPJSt8ywWoM"
   },
   "source": [
    "4.2 Рассчитать выборочную дисперсию"
   ]
  },
  {
   "cell_type": "code",
   "execution_count": null,
   "metadata": {
    "colab": {
     "base_uri": "https://localhost:8080/"
    },
    "id": "JcdoFpw1XVX-",
    "outputId": "b51b857e-385a-47d1-8c00-9c661795cb8d"
   },
   "outputs": [
    {
     "name": "stdout",
     "output_type": "stream",
     "text": [
      "9.9375\n"
     ]
    }
   ],
   "source": [
    "c1 = []\n",
    "for i in range(len(students)):\n",
    "    c1.append((students['num'][i] - sred1) ** 2)\n",
    "\n",
    "v1 = sum(c1) / len(students)\n",
    "print(v1)"
   ]
  },
  {
   "cell_type": "markdown",
   "metadata": {
    "id": "bKwlwkWAwda1"
   },
   "source": [
    "4.3 Рассчитать выборочное стандартное отклонение"
   ]
  },
  {
   "cell_type": "code",
   "execution_count": null,
   "metadata": {
    "colab": {
     "base_uri": "https://localhost:8080/"
    },
    "id": "bjxU_ClvW3IJ",
    "outputId": "aac8a96d-58b3-4d00-ba49-5331b64f77a8"
   },
   "outputs": [
    {
     "name": "stdout",
     "output_type": "stream",
     "text": [
      "3.152380053229623\n"
     ]
    }
   ],
   "source": [
    "s1 = v1 ** 0.5\n",
    "print(s1)"
   ]
  },
  {
   "cell_type": "markdown",
   "metadata": {
    "id": "m7idxEPvwiUu"
   },
   "source": [
    "4.4 Рассчитать медиану и моду"
   ]
  },
  {
   "cell_type": "code",
   "execution_count": null,
   "metadata": {
    "colab": {
     "base_uri": "https://localhost:8080/"
    },
    "id": "Om_p-EX-aI45",
    "outputId": "d40c6316-3cc7-464e-842f-8c2e1a3f7f9c"
   },
   "outputs": [
    {
     "name": "stdout",
     "output_type": "stream",
     "text": [
      "3.5\n"
     ]
    }
   ],
   "source": [
    "n1 = len(sort_num1)\n",
    "if n1 % 2 == 0:\n",
    "    median1 = (sort_num1[n1 // 2 - 1] + sort_num1[n1 // 2]) / 2\n",
    "else:\n",
    "    median1 = sort_num1[n1 // 2]\n",
    "\n",
    "print(median1)"
   ]
  },
  {
   "cell_type": "code",
   "execution_count": null,
   "metadata": {
    "colab": {
     "base_uri": "https://localhost:8080/"
    },
    "id": "WDKvWk0Fk8VT",
    "outputId": "c9519ddd-d5d0-402b-986b-1af5270e557d"
   },
   "outputs": [
    {
     "name": "stdout",
     "output_type": "stream",
     "text": [
      "0\n"
     ]
    }
   ],
   "source": [
    "import statistics\n",
    "\n",
    "\n",
    "print(statistics.mode(sort_num1))"
   ]
  },
  {
   "cell_type": "markdown",
   "metadata": {
    "id": "5ohyv_kWwnhk"
   },
   "source": [
    "4.5 Рассчитать коэффициент вариации"
   ]
  },
  {
   "cell_type": "code",
   "execution_count": null,
   "metadata": {
    "colab": {
     "base_uri": "https://localhost:8080/"
    },
    "id": "8Hjz5p-tbMbJ",
    "outputId": "f008800b-9047-4fef-a004-5833fce5c66b"
   },
   "outputs": [
    {
     "name": "stdout",
     "output_type": "stream",
     "text": [
      "0.8406346808612327\n"
     ]
    }
   ],
   "source": [
    "var1 = s1 / sred1\n",
    "print(var1)"
   ]
  },
  {
   "cell_type": "markdown",
   "metadata": {
    "id": "R2CM6JwP64RH"
   },
   "source": [
    "# **Пункт 3**"
   ]
  },
  {
   "cell_type": "markdown",
   "metadata": {
    "id": "ntTFp0ltxCh1"
   },
   "source": [
    "1. Вариационный ряд"
   ]
  },
  {
   "cell_type": "code",
   "execution_count": null,
   "metadata": {
    "colab": {
     "base_uri": "https://localhost:8080/"
    },
    "id": "l6jTgIh2pZ4B",
    "outputId": "c8ed2316-5b0a-4abc-b339-280c6dc1f75b"
   },
   "outputs": [
    {
     "data": {
      "text/plain": [
       "[1, 1, 8, 9, 11, 12, 12, 12]"
      ]
     },
     "execution_count": 65,
     "metadata": {},
     "output_type": "execute_result"
    }
   ],
   "source": [
    "sort_num3 = sorted(students['month'])\n",
    "sort_num3"
   ]
  },
  {
   "cell_type": "code",
   "execution_count": null,
   "metadata": {
    "colab": {
     "base_uri": "https://localhost:8080/",
     "height": 272
    },
    "id": "uZ-jwFAM5Dm5",
    "outputId": "b7f8c65b-d855-487d-da00-08cde6d60b15"
   },
   "outputs": [
    {
     "data": {
      "text/html": [
       "<div>\n",
       "<style scoped>\n",
       "    .dataframe tbody tr th:only-of-type {\n",
       "        vertical-align: middle;\n",
       "    }\n",
       "\n",
       "    .dataframe tbody tr th {\n",
       "        vertical-align: top;\n",
       "    }\n",
       "\n",
       "    .dataframe thead th {\n",
       "        text-align: right;\n",
       "    }\n",
       "</style>\n",
       "<table border=\"1\" class=\"dataframe\">\n",
       "  <thead>\n",
       "    <tr style=\"text-align: right;\">\n",
       "      <th></th>\n",
       "      <th>count</th>\n",
       "    </tr>\n",
       "    <tr>\n",
       "      <th>month</th>\n",
       "      <th></th>\n",
       "    </tr>\n",
       "  </thead>\n",
       "  <tbody>\n",
       "    <tr>\n",
       "      <th>12</th>\n",
       "      <td>3</td>\n",
       "    </tr>\n",
       "    <tr>\n",
       "      <th>1</th>\n",
       "      <td>2</td>\n",
       "    </tr>\n",
       "    <tr>\n",
       "      <th>11</th>\n",
       "      <td>1</td>\n",
       "    </tr>\n",
       "    <tr>\n",
       "      <th>9</th>\n",
       "      <td>1</td>\n",
       "    </tr>\n",
       "    <tr>\n",
       "      <th>8</th>\n",
       "      <td>1</td>\n",
       "    </tr>\n",
       "  </tbody>\n",
       "</table>\n",
       "</div><br><label><b>dtype:</b> int64</label>"
      ],
      "text/plain": [
       "month\n",
       "12    3\n",
       "1     2\n",
       "11    1\n",
       "9     1\n",
       "8     1\n",
       "Name: count, dtype: int64"
      ]
     },
     "execution_count": 66,
     "metadata": {},
     "output_type": "execute_result"
    }
   ],
   "source": [
    "absolute_frequencies2 = students['month'].value_counts()\n",
    "absolute_frequencies2"
   ]
  },
  {
   "cell_type": "code",
   "execution_count": null,
   "metadata": {
    "colab": {
     "base_uri": "https://localhost:8080/"
    },
    "id": "TE8MRVeupm3B",
    "outputId": "5a934cc1-a852-45b4-b18d-dab66d7db069"
   },
   "outputs": [
    {
     "name": "stdout",
     "output_type": "stream",
     "text": [
      "[0.25, 0.125, 0.125, 0.125, 0.375]\n"
     ]
    }
   ],
   "source": [
    "ryad3 = [1, 8, 9, 11, 12]\n",
    "absol3 = [2, 1, 1, 1, 3] # вариационный ряд с абсолютными частотами\n",
    "otn3 = []\n",
    "for i in range(len(absol3)):\n",
    "    otn3.append(absol3[i] / sum(absol3))\n",
    "print(otn3) # вариационный ряд с относительными частотами"
   ]
  },
  {
   "cell_type": "markdown",
   "metadata": {
    "id": "nzTHUWwpxhU-"
   },
   "source": [
    "2. Полигон относительных частот вариационного ряда"
   ]
  },
  {
   "cell_type": "code",
   "execution_count": null,
   "metadata": {
    "colab": {
     "base_uri": "https://localhost:8080/",
     "height": 430
    },
    "id": "jxA-CB2Kp3qz",
    "outputId": "8235f2b4-57cf-4c88-d988-36420e720fe1"
   },
   "outputs": [
    {
     "data": {
      "image/png": "[encoded data removed]",
      "text/plain": [
       "<Figure size 640x480 with 1 Axes>"
      ]
     },
     "metadata": {},
     "output_type": "display_data"
    }
   ],
   "source": [
    "import matplotlib.pyplot as plt\n",
    "\n",
    "\n",
    "plt.plot(ryad3, otn3)\n",
    "plt.show()"
   ]
  },
  {
   "cell_type": "markdown",
   "metadata": {
    "id": "u2EzobiJ7Imq"
   },
   "source": [
    "3. Эмпирическая функция распределения"
   ]
  },
  {
   "cell_type": "code",
   "execution_count": null,
   "metadata": {
    "colab": {
     "base_uri": "https://localhost:8080/",
     "height": 607
    },
    "id": "7wg-8fV57I3_",
    "outputId": "a237a3db-575b-404f-b5f5-9c44c7b62b20"
   },
   "outputs": [
    {
     "data": {
      "image/png": "[encoded data removed]",
      "text/plain": [
       "<Figure size 1200x600 with 1 Axes>"
      ]
     },
     "metadata": {},
     "output_type": "display_data"
    }
   ],
   "source": [
    "def emp_func(data):\n",
    "    sorted_data = np.sort(data)\n",
    "    n = len(data)\n",
    "    return sorted_data, np.arange(1, n + 1) / n\n",
    "\n",
    "\n",
    "x_num, y_num = emp_func(students['num'])\n",
    "x_month, y_month = emp_func(students['month'])\n",
    "\n",
    "plt.figure(figsize=(12, 6))\n",
    "\n",
    "plt.subplot(1, 2, 2)\n",
    "plt.step(x_month, y_month, where='post', label='Эмпирическая функция распределения', color='green')\n",
    "plt.title('Эмпирическая функция распределения для month')\n",
    "plt.xlabel('Значения')\n",
    "plt.ylabel('Эмпирическая вероятность')\n",
    "plt.grid()\n",
    "plt.legend()\n",
    "\n",
    "plt.tight_layout()\n",
    "plt.show()"
   ]
  },
  {
   "cell_type": "markdown",
   "metadata": {
    "id": "H4GYnTyfx_kT"
   },
   "source": [
    "4.1 Рассчитать выборочное среднее"
   ]
  },
  {
   "cell_type": "code",
   "execution_count": null,
   "metadata": {
    "colab": {
     "base_uri": "https://localhost:8080/"
    },
    "id": "Tbe6w1xlw4B0",
    "outputId": "31de0101-43a7-4f21-f563-ea5284a4a765"
   },
   "outputs": [
    {
     "data": {
      "text/plain": [
       "8.25"
      ]
     },
     "execution_count": 70,
     "metadata": {},
     "output_type": "execute_result"
    }
   ],
   "source": [
    "sred3 = students['month'].sum() / len(students)\n",
    "sred3"
   ]
  },
  {
   "cell_type": "markdown",
   "metadata": {
    "id": "-ghy0Dsp2M-W"
   },
   "source": [
    "4.2 Рассчитать выборочную дисперсию"
   ]
  },
  {
   "cell_type": "code",
   "execution_count": null,
   "metadata": {
    "colab": {
     "base_uri": "https://localhost:8080/"
    },
    "id": "t_8ywWZEqRon",
    "outputId": "bd5ed9bc-7e60-469f-e48f-cad1cfaa578f"
   },
   "outputs": [
    {
     "name": "stdout",
     "output_type": "stream",
     "text": [
      "19.4375\n"
     ]
    }
   ],
   "source": [
    "c3 = []\n",
    "for i in range(len(students)):\n",
    "    c3.append((students['month'][i] - sred3) ** 2)\n",
    "\n",
    "v3 = sum(c3) / len(students)\n",
    "print(v3)"
   ]
  },
  {
   "cell_type": "markdown",
   "metadata": {
    "id": "H_k93u7w2gRD"
   },
   "source": [
    "4.3 Рассчитать выборочное стандартное отклонение"
   ]
  },
  {
   "cell_type": "code",
   "execution_count": null,
   "metadata": {
    "colab": {
     "base_uri": "https://localhost:8080/"
    },
    "id": "NgKuFx1DqZhS",
    "outputId": "f6e29232-933b-4895-acff-7f6e33c375c6"
   },
   "outputs": [
    {
     "name": "stdout",
     "output_type": "stream",
     "text": [
      "4.408798022137099\n"
     ]
    }
   ],
   "source": [
    "s3 = v3 ** 0.5\n",
    "print(s3)"
   ]
  },
  {
   "cell_type": "markdown",
   "metadata": {
    "id": "9IAW_yo-2n5D"
   },
   "source": [
    "4.4 Рассчитать медиану и моду"
   ]
  },
  {
   "cell_type": "code",
   "execution_count": null,
   "metadata": {
    "colab": {
     "base_uri": "https://localhost:8080/"
    },
    "id": "7ukg6-lPqdZr",
    "outputId": "e55ca34f-b880-440b-8ba1-adb82bc4e9d2"
   },
   "outputs": [
    {
     "name": "stdout",
     "output_type": "stream",
     "text": [
      "10.0\n"
     ]
    }
   ],
   "source": [
    "n3 = len(sort_num3)\n",
    "if n3 % 2 == 0:\n",
    "    median3 = (sort_num3[n3 // 2 - 1] + sort_num3[n3 // 2]) / 2\n",
    "else:\n",
    "    median3 = sort_num3[n3 // 2]\n",
    "\n",
    "print(median3)"
   ]
  },
  {
   "cell_type": "code",
   "execution_count": null,
   "metadata": {
    "colab": {
     "base_uri": "https://localhost:8080/"
    },
    "id": "xvCKvzoGq3sW",
    "outputId": "faacb9fe-7078-4486-b66a-b8770a712cde"
   },
   "outputs": [
    {
     "name": "stdout",
     "output_type": "stream",
     "text": [
      "12\n"
     ]
    }
   ],
   "source": [
    "import statistics\n",
    "\n",
    "\n",
    "print(statistics.mode(sort_num3))"
   ]
  },
  {
   "cell_type": "markdown",
   "metadata": {
    "id": "SAgomdRo3Adz"
   },
   "source": [
    "4.5 Рассчитать коэффициент вариации"
   ]
  },
  {
   "cell_type": "code",
   "execution_count": null,
   "metadata": {
    "colab": {
     "base_uri": "https://localhost:8080/"
    },
    "id": "1jq7NGhjciiv",
    "outputId": "644834a6-ecea-44e6-d71a-17e5afc5133a"
   },
   "outputs": [
    {
     "name": "stdout",
     "output_type": "stream",
     "text": [
      "0.5343997602590423\n"
     ]
    }
   ],
   "source": [
    "var3 = s3 / sred3\n",
    "print(var3)"
   ]
  },
  {
   "cell_type": "markdown",
   "metadata": {
    "id": "c9bq4HZQ6-YR"
   },
   "source": [
    "# **Пункт 2**"
   ]
  },
  {
   "cell_type": "markdown",
   "metadata": {
    "id": "SGgOSu725VM-"
   },
   "source": [
    "1. Рассчитать число групп (интервалов) m для квантования исходных данных по правилу Стёрджесса\n",
    "2. Вычислить значения m+1 границ групп для значений выборки по\n",
    "правилу фиксированной величины интервала"
   ]
  },
  {
   "cell_type": "code",
   "execution_count": null,
   "metadata": {
    "colab": {
     "base_uri": "https://localhost:8080/",
     "height": 303
    },
    "id": "OIP2RNAA5Ova",
    "outputId": "e986500f-4347-4379-c7e7-88385f029bf3"
   },
   "outputs": [
    {
     "data": {
      "text/html": [
       "<div>\n",
       "<style scoped>\n",
       "    .dataframe tbody tr th:only-of-type {\n",
       "        vertical-align: middle;\n",
       "    }\n",
       "\n",
       "    .dataframe tbody tr th {\n",
       "        vertical-align: top;\n",
       "    }\n",
       "\n",
       "    .dataframe thead th {\n",
       "        text-align: right;\n",
       "    }\n",
       "</style>\n",
       "<table border=\"1\" class=\"dataframe\">\n",
       "  <thead>\n",
       "    <tr style=\"text-align: right;\">\n",
       "      <th></th>\n",
       "      <th>count</th>\n",
       "    </tr>\n",
       "    <tr>\n",
       "      <th>height</th>\n",
       "      <th></th>\n",
       "    </tr>\n",
       "  </thead>\n",
       "  <tbody>\n",
       "    <tr>\n",
       "      <th>1.84</th>\n",
       "      <td>2</td>\n",
       "    </tr>\n",
       "    <tr>\n",
       "      <th>1.80</th>\n",
       "      <td>2</td>\n",
       "    </tr>\n",
       "    <tr>\n",
       "      <th>1.75</th>\n",
       "      <td>1</td>\n",
       "    </tr>\n",
       "    <tr>\n",
       "      <th>1.57</th>\n",
       "      <td>1</td>\n",
       "    </tr>\n",
       "    <tr>\n",
       "      <th>1.85</th>\n",
       "      <td>1</td>\n",
       "    </tr>\n",
       "    <tr>\n",
       "      <th>1.83</th>\n",
       "      <td>1</td>\n",
       "    </tr>\n",
       "  </tbody>\n",
       "</table>\n",
       "</div><br><label><b>dtype:</b> int64</label>"
      ],
      "text/plain": [
       "height\n",
       "1.84    2\n",
       "1.80    2\n",
       "1.75    1\n",
       "1.57    1\n",
       "1.85    1\n",
       "1.83    1\n",
       "Name: count, dtype: int64"
      ]
     },
     "execution_count": 76,
     "metadata": {},
     "output_type": "execute_result"
    }
   ],
   "source": [
    "absolute_frequencies3 = students['height'].value_counts()\n",
    "absolute_frequencies3"
   ]
  },
  {
   "cell_type": "code",
   "execution_count": null,
   "metadata": {
    "colab": {
     "base_uri": "https://localhost:8080/"
    },
    "id": "IUZ_Rty4dled",
    "outputId": "342b4a1c-3ab6-4fbd-8daa-03c8efdf51a6"
   },
   "outputs": [
    {
     "name": "stdout",
     "output_type": "stream",
     "text": [
      "[0.125, 0.125, 0.25, 0.125, 0.25, 0.125]\n"
     ]
    },
    {
     "data": {
      "text/plain": [
       "4"
      ]
     },
     "execution_count": 1,
     "metadata": {},
     "output_type": "execute_result"
    }
   ],
   "source": [
    "import math\n",
    "\n",
    "\n",
    "ryad2 = [1.57, 1.75, 1.8, 1.83, 1.84, 1.85]\n",
    "absol2 = [1, 1, 2, 1, 2, 1] # вариационный ряд с абсолютными частотами\n",
    "otn2 = []\n",
    "for i in range(len(absol2)):\n",
    "    otn2.append(absol2[i] / sum(absol2))\n",
    "print(otn2) # вариационный ряд с относительными частотами\n",
    "m = int(1 + 3.332 * math.log10(sum(absol2))) # границ\n",
    "m"
   ]
  },
  {
   "cell_type": "code",
   "execution_count": null,
   "metadata": {
    "colab": {
     "base_uri": "https://localhost:8080/"
    },
    "id": "X5adfmliqDpf",
    "outputId": "cec9bed0-89cd-447e-a24a-3cba2dfde33c"
   },
   "outputs": [
    {
     "data": {
      "text/plain": [
       "4"
      ]
     },
     "execution_count": 2,
     "metadata": {},
     "output_type": "execute_result"
    }
   ],
   "source": [
    "m = int(1 + 3.332 * math.log10(8)) # границ\n",
    "m"
   ]
  },
  {
   "cell_type": "markdown",
   "metadata": {
    "id": "Le2A6Rnu5vF_"
   },
   "source": [
    "3. Вариационный ряд"
   ]
  },
  {
   "cell_type": "code",
   "execution_count": null,
   "metadata": {
    "colab": {
     "base_uri": "https://localhost:8080/"
    },
    "id": "mfrFVl67aeUG",
    "outputId": "2215282d-6268-4e7e-e744-6422421fe0c9"
   },
   "outputs": [
    {
     "data": {
      "text/plain": [
       "[1.57, 1.75, 1.8, 1.8, 1.83, 1.84, 1.84, 1.85]"
      ]
     },
     "execution_count": 4,
     "metadata": {},
     "output_type": "execute_result"
    }
   ],
   "source": [
    "sort_num2 = sorted(students['height'])\n",
    "sort_num2"
   ]
  },
  {
   "cell_type": "markdown",
   "metadata": {
    "id": "fxZyJcak6R8v"
   },
   "source": [
    "4. Гистограмма распределения относительных частот для\n",
    "рассчитанных интервалов выборки"
   ]
  },
  {
   "cell_type": "code",
   "execution_count": null,
   "metadata": {
    "colab": {
     "base_uri": "https://localhost:8080/"
    },
    "id": "K7c8ToSGemWG",
    "outputId": "78b7dcdf-907e-483a-9a4a-8f02a1d0c17c"
   },
   "outputs": [
    {
     "data": {
      "text/plain": [
       "0.07"
      ]
     },
     "execution_count": 5,
     "metadata": {},
     "output_type": "execute_result"
    }
   ],
   "source": [
    "max_ryad2 = max(ryad2)\n",
    "min_ryad2 = min(ryad2)\n",
    "h = (max_ryad2 - min_ryad2) / m\n",
    "h"
   ]
  },
  {
   "cell_type": "code",
   "execution_count": null,
   "metadata": {
    "id": "HuoQ-huuxF_G"
   },
   "outputs": [],
   "source": [
    "intervals = np.arange(min(sort_num2) - h/2, max(sort_num2) + h, h)\n",
    "intervals = intervals[:-1]"
   ]
  },
  {
   "cell_type": "code",
   "execution_count": null,
   "metadata": {
    "colab": {
     "base_uri": "https://localhost:8080/"
    },
    "id": "0VbiNYGExm_O",
    "outputId": "68d94469-9ca8-4345-ac25-352905b8d785"
   },
   "outputs": [
    {
     "data": {
      "text/plain": [
       "array([1.535, 1.605, 1.675, 1.745, 1.815])"
      ]
     },
     "execution_count": 7,
     "metadata": {},
     "output_type": "execute_result"
    }
   ],
   "source": [
    "intervals"
   ]
  },
  {
   "cell_type": "code",
   "execution_count": null,
   "metadata": {
    "colab": {
     "base_uri": "https://localhost:8080/",
     "height": 175
    },
    "id": "TGVhPfjIxROL",
    "outputId": "656eef15-68d9-41e4-f9c3-1d65ad472363"
   },
   "outputs": [
    {
     "data": {
      "application/vnd.google.colaboratory.intrinsic+json": {
       "summary": "{\n  \"name\": \"var_series\",\n  \"rows\": 4,\n  \"fields\": [\n    {\n      \"column\": \"\\u0418\\u043d\\u0442\\u0435\\u0440\\u0432\\u0430\\u043b\",\n      \"properties\": {\n        \"dtype\": \"interval[float64, right]\",\n        \"num_unique_values\": 4,\n        \"samples\": [\n          \"(1.6050000000000002, 1.6750000000000003]\",\n          \"(1.7450000000000003, 1.8150000000000004]\",\n          \"(1.5350000000000001, 1.6050000000000002]\"\n        ],\n        \"semantic_type\": \"\",\n        \"description\": \"\"\n      }\n    },\n    {\n      \"column\": \"\\u0410\\u0431\\u0441\\u043e\\u043b\\u044e\\u0442\\u043d\\u0430\\u044f \\u0447\\u0430\\u0441\\u0442\\u043e\\u0442\\u0430\",\n      \"properties\": {\n        \"dtype\": \"number\",\n        \"std\": 1,\n        \"min\": 0,\n        \"max\": 3,\n        \"num_unique_values\": 3,\n        \"samples\": [\n          1,\n          0,\n          3\n        ],\n        \"semantic_type\": \"\",\n        \"description\": \"\"\n      }\n    },\n    {\n      \"column\": \"\\u041e\\u0442\\u043d\\u043e\\u0441\\u0438\\u0442\\u0435\\u043b\\u044c\\u043d\\u0430\\u044f \\u0447\\u0430\\u0441\\u0442\\u043e\\u0442\\u0430\",\n      \"properties\": {\n        \"dtype\": \"number\",\n        \"std\": 0.1767766952966369,\n        \"min\": 0.0,\n        \"max\": 0.375,\n        \"num_unique_values\": 3,\n        \"samples\": [\n          0.125,\n          0.0,\n          0.375\n        ],\n        \"semantic_type\": \"\",\n        \"description\": \"\"\n      }\n    }\n  ]\n}",
       "type": "dataframe",
       "variable_name": "var_series"
      },
      "text/html": [
       "\n",
       "  <div id=\"df-8a122622-ba83-468d-be7a-ffdf35e21184\" class=\"colab-df-container\">\n",
       "    <div>\n",
       "<style scoped>\n",
       "    .dataframe tbody tr th:only-of-type {\n",
       "        vertical-align: middle;\n",
       "    }\n",
       "\n",
       "    .dataframe tbody tr th {\n",
       "        vertical-align: top;\n",
       "    }\n",
       "\n",
       "    .dataframe thead th {\n",
       "        text-align: right;\n",
       "    }\n",
       "</style>\n",
       "<table border=\"1\" class=\"dataframe\">\n",
       "  <thead>\n",
       "    <tr style=\"text-align: right;\">\n",
       "      <th></th>\n",
       "      <th>Интервал</th>\n",
       "      <th>Абсолютная частота</th>\n",
       "      <th>Относительная частота</th>\n",
       "    </tr>\n",
       "  </thead>\n",
       "  <tbody>\n",
       "    <tr>\n",
       "      <th>0</th>\n",
       "      <td>(1.5350000000000001, 1.6050000000000002]</td>\n",
       "      <td>1</td>\n",
       "      <td>0.125</td>\n",
       "    </tr>\n",
       "    <tr>\n",
       "      <th>1</th>\n",
       "      <td>(1.6050000000000002, 1.6750000000000003]</td>\n",
       "      <td>0</td>\n",
       "      <td>0.000</td>\n",
       "    </tr>\n",
       "    <tr>\n",
       "      <th>2</th>\n",
       "      <td>(1.6750000000000003, 1.7450000000000003]</td>\n",
       "      <td>0</td>\n",
       "      <td>0.000</td>\n",
       "    </tr>\n",
       "    <tr>\n",
       "      <th>3</th>\n",
       "      <td>(1.7450000000000003, 1.8150000000000004]</td>\n",
       "      <td>3</td>\n",
       "      <td>0.375</td>\n",
       "    </tr>\n",
       "  </tbody>\n",
       "</table>\n",
       "</div>\n",
       "    <div class=\"colab-df-buttons\">\n",
       "\n",
       "  <div class=\"colab-df-container\">\n",
       "    <button class=\"colab-df-convert\" onclick=\"convertToInteractive('df-8a122622-ba83-468d-be7a-ffdf35e21184')\"\n",
       "            title=\"Convert this dataframe to an interactive table.\"\n",
       "            style=\"display:none;\">\n",
       "\n",
       "  <svg xmlns=\"http://www.w3.org/2000/svg\" height=\"24px\" viewBox=\"0 -960 960 960\">\n",
       "    <path d=\"M120-120v-720h720v720H120Zm60-500h600v-160H180v160Zm220 220h160v-160H400v160Zm0 220h160v-160H400v160ZM180-400h160v-160H180v160Zm440 0h160v-160H620v160ZM180-180h160v-160H180v160Zm440 0h160v-160H620v160Z\"/>\n",
       "  </svg>\n",
       "    </button>\n",
       "\n",
       "  <style>\n",
       "    .colab-df-container {\n",
       "      display:flex;\n",
       "      gap: 12px;\n",
       "    }\n",
       "\n",
       "    .colab-df-convert {\n",
       "      background-color: #E8F0FE;\n",
       "      border: none;\n",
       "      border-radius: 50%;\n",
       "      cursor: pointer;\n",
       "      display: none;\n",
       "      fill: #1967D2;\n",
       "      height: 32px;\n",
       "      padding: 0 0 0 0;\n",
       "      width: 32px;\n",
       "    }\n",
       "\n",
       "    .colab-df-convert:hover {\n",
       "      background-color: #E2EBFA;\n",
       "      box-shadow: 0px 1px 2px rgba(60, 64, 67, 0.3), 0px 1px 3px 1px rgba(60, 64, 67, 0.15);\n",
       "      fill: #174EA6;\n",
       "    }\n",
       "\n",
       "    .colab-df-buttons div {\n",
       "      margin-bottom: 4px;\n",
       "    }\n",
       "\n",
       "    [theme=dark] .colab-df-convert {\n",
       "      background-color: #3B4455;\n",
       "      fill: #D2E3FC;\n",
       "    }\n",
       "\n",
       "    [theme=dark] .colab-df-convert:hover {\n",
       "      background-color: #434B5C;\n",
       "      box-shadow: 0px 1px 3px 1px rgba(0, 0, 0, 0.15);\n",
       "      filter: drop-shadow(0px 1px 2px rgba(0, 0, 0, 0.3));\n",
       "      fill: #FFFFFF;\n",
       "    }\n",
       "  </style>\n",
       "\n",
       "    <script>\n",
       "      const buttonEl =\n",
       "        document.querySelector('#df-8a122622-ba83-468d-be7a-ffdf35e21184 button.colab-df-convert');\n",
       "      buttonEl.style.display =\n",
       "        google.colab.kernel.accessAllowed ? 'block' : 'none';\n",
       "\n",
       "      async function convertToInteractive(key) {\n",
       "        const element = document.querySelector('#df-8a122622-ba83-468d-be7a-ffdf35e21184');\n",
       "        const dataTable =\n",
       "          await google.colab.kernel.invokeFunction('convertToInteractive',\n",
       "                                                    [key], {});\n",
       "        if (!dataTable) return;\n",
       "\n",
       "        const docLinkHtml = 'Like what you see? Visit the ' +\n",
       "          '<a target=\"_blank\" href=https://colab.research.google.com/notebooks/data_table.ipynb>data table notebook</a>'\n",
       "          + ' to learn more about interactive tables.';\n",
       "        element.innerHTML = '';\n",
       "        dataTable['output_type'] = 'display_data';\n",
       "        await google.colab.output.renderOutput(dataTable, element);\n",
       "        const docLink = document.createElement('div');\n",
       "        docLink.innerHTML = docLinkHtml;\n",
       "        element.appendChild(docLink);\n",
       "      }\n",
       "    </script>\n",
       "  </div>\n",
       "\n",
       "\n",
       "<div id=\"df-f21e391f-854b-409e-ae68-7d422e4426dc\">\n",
       "  <button class=\"colab-df-quickchart\" onclick=\"quickchart('df-f21e391f-854b-409e-ae68-7d422e4426dc')\"\n",
       "            title=\"Suggest charts\"\n",
       "            style=\"display:none;\">\n",
       "\n",
       "<svg xmlns=\"http://www.w3.org/2000/svg\" height=\"24px\"viewBox=\"0 0 24 24\"\n",
       "     width=\"24px\">\n",
       "    <g>\n",
       "        <path d=\"M19 3H5c-1.1 0-2 .9-2 2v14c0 1.1.9 2 2 2h14c1.1 0 2-.9 2-2V5c0-1.1-.9-2-2-2zM9 17H7v-7h2v7zm4 0h-2V7h2v10zm4 0h-2v-4h2v4z\"/>\n",
       "    </g>\n",
       "</svg>\n",
       "  </button>\n",
       "\n",
       "<style>\n",
       "  .colab-df-quickchart {\n",
       "      --bg-color: #E8F0FE;\n",
       "      --fill-color: #1967D2;\n",
       "      --hover-bg-color: #E2EBFA;\n",
       "      --hover-fill-color: #174EA6;\n",
       "      --disabled-fill-color: #AAA;\n",
       "      --disabled-bg-color: #DDD;\n",
       "  }\n",
       "\n",
       "  [theme=dark] .colab-df-quickchart {\n",
       "      --bg-color: #3B4455;\n",
       "      --fill-color: #D2E3FC;\n",
       "      --hover-bg-color: #434B5C;\n",
       "      --hover-fill-color: #FFFFFF;\n",
       "      --disabled-bg-color: #3B4455;\n",
       "      --disabled-fill-color: #666;\n",
       "  }\n",
       "\n",
       "  .colab-df-quickchart {\n",
       "    background-color: var(--bg-color);\n",
       "    border: none;\n",
       "    border-radius: 50%;\n",
       "    cursor: pointer;\n",
       "    display: none;\n",
       "    fill: var(--fill-color);\n",
       "    height: 32px;\n",
       "    padding: 0;\n",
       "    width: 32px;\n",
       "  }\n",
       "\n",
       "  .colab-df-quickchart:hover {\n",
       "    background-color: var(--hover-bg-color);\n",
       "    box-shadow: 0 1px 2px rgba(60, 64, 67, 0.3), 0 1px 3px 1px rgba(60, 64, 67, 0.15);\n",
       "    fill: var(--button-hover-fill-color);\n",
       "  }\n",
       "\n",
       "  .colab-df-quickchart-complete:disabled,\n",
       "  .colab-df-quickchart-complete:disabled:hover {\n",
       "    background-color: var(--disabled-bg-color);\n",
       "    fill: var(--disabled-fill-color);\n",
       "    box-shadow: none;\n",
       "  }\n",
       "\n",
       "  .colab-df-spinner {\n",
       "    border: 2px solid var(--fill-color);\n",
       "    border-color: transparent;\n",
       "    border-bottom-color: var(--fill-color);\n",
       "    animation:\n",
       "      spin 1s steps(1) infinite;\n",
       "  }\n",
       "\n",
       "  @keyframes spin {\n",
       "    0% {\n",
       "      border-color: transparent;\n",
       "      border-bottom-color: var(--fill-color);\n",
       "      border-left-color: var(--fill-color);\n",
       "    }\n",
       "    20% {\n",
       "      border-color: transparent;\n",
       "      border-left-color: var(--fill-color);\n",
       "      border-top-color: var(--fill-color);\n",
       "    }\n",
       "    30% {\n",
       "      border-color: transparent;\n",
       "      border-left-color: var(--fill-color);\n",
       "      border-top-color: var(--fill-color);\n",
       "      border-right-color: var(--fill-color);\n",
       "    }\n",
       "    40% {\n",
       "      border-color: transparent;\n",
       "      border-right-color: var(--fill-color);\n",
       "      border-top-color: var(--fill-color);\n",
       "    }\n",
       "    60% {\n",
       "      border-color: transparent;\n",
       "      border-right-color: var(--fill-color);\n",
       "    }\n",
       "    80% {\n",
       "      border-color: transparent;\n",
       "      border-right-color: var(--fill-color);\n",
       "      border-bottom-color: var(--fill-color);\n",
       "    }\n",
       "    90% {\n",
       "      border-color: transparent;\n",
       "      border-bottom-color: var(--fill-color);\n",
       "    }\n",
       "  }\n",
       "</style>\n",
       "\n",
       "  <script>\n",
       "    async function quickchart(key) {\n",
       "      const quickchartButtonEl =\n",
       "        document.querySelector('#' + key + ' button');\n",
       "      quickchartButtonEl.disabled = true;  // To prevent multiple clicks.\n",
       "      quickchartButtonEl.classList.add('colab-df-spinner');\n",
       "      try {\n",
       "        const charts = await google.colab.kernel.invokeFunction(\n",
       "            'suggestCharts', [key], {});\n",
       "      } catch (error) {\n",
       "        console.error('Error during call to suggestCharts:', error);\n",
       "      }\n",
       "      quickchartButtonEl.classList.remove('colab-df-spinner');\n",
       "      quickchartButtonEl.classList.add('colab-df-quickchart-complete');\n",
       "    }\n",
       "    (() => {\n",
       "      let quickchartButtonEl =\n",
       "        document.querySelector('#df-f21e391f-854b-409e-ae68-7d422e4426dc button');\n",
       "      quickchartButtonEl.style.display =\n",
       "        google.colab.kernel.accessAllowed ? 'block' : 'none';\n",
       "    })();\n",
       "  </script>\n",
       "</div>\n",
       "    </div>\n",
       "  </div>\n"
      ],
      "text/plain": [
       "                                   Интервал  Абсолютная частота  \\\n",
       "0  (1.5350000000000001, 1.6050000000000002]                   1   \n",
       "1  (1.6050000000000002, 1.6750000000000003]                   0   \n",
       "2  (1.6750000000000003, 1.7450000000000003]                   0   \n",
       "3  (1.7450000000000003, 1.8150000000000004]                   3   \n",
       "\n",
       "   Относительная частота  \n",
       "0                  0.125  \n",
       "1                  0.000  \n",
       "2                  0.000  \n",
       "3                  0.375  "
      ]
     },
     "execution_count": 8,
     "metadata": {},
     "output_type": "execute_result"
    }
   ],
   "source": [
    "frequencies, bin_edges = np.histogram(students['height'], bins=intervals)\n",
    "\n",
    "var_series = pd.DataFrame({\n",
    "    'Интервал': pd.IntervalIndex.from_breaks(intervals),\n",
    "    'Абсолютная частота': frequencies\n",
    "})\n",
    "\n",
    "var_series['Относительная частота'] = var_series['Абсолютная частота'] / sum(var_series['Абсолютная частота'])\n",
    "var_series"
   ]
  },
  {
   "cell_type": "code",
   "execution_count": null,
   "metadata": {
    "colab": {
     "base_uri": "https://localhost:8080/",
     "height": 564
    },
    "id": "rTfd51w-ye_u",
    "outputId": "5762d1eb-16b6-43c0-c8a7-28e947b23493"
   },
   "outputs": [
    {
     "data": {
      "image/png": "[encoded data removed]",
      "text/plain": [
       "<Figure size 800x600 with 1 Axes>"
      ]
     },
     "metadata": {},
     "output_type": "display_data"
    }
   ],
   "source": [
    "import matplotlib.pyplot as plt\n",
    "\n",
    "plt.figure(figsize=(8, 6))\n",
    "plt.hist(students['height'], bins=intervals, density=True)\n",
    "\n",
    "plt.title('Гистограмма распределения относительных частот для height')\n",
    "plt.xlabel('height')\n",
    "plt.ylabel('Относительная частота')\n",
    "plt.grid(True)\n",
    "\n",
    "plt.show()"
   ]
  },
  {
   "cell_type": "code",
   "execution_count": null,
   "metadata": {
    "colab": {
     "base_uri": "https://localhost:8080/"
    },
    "id": "_rXgXoy7sWc-",
    "outputId": "f95b24f9-7347-4fbb-8524-7aa33af5b727"
   },
   "outputs": [
    {
     "data": {
      "text/plain": [
       "[1.535, 1.605, 1.675, 1.745, 1.815]"
      ]
     },
     "execution_count": 81,
     "metadata": {},
     "output_type": "execute_result"
    }
   ],
   "source": [
    "first_height = round(min_ryad2 - (h / 2), 5)\n",
    "hh = []\n",
    "for i in range(m + 1):\n",
    "    hh.append(first_height)\n",
    "    first_height = round(first_height + h, 5)\n",
    "hh"
   ]
  },
  {
   "cell_type": "code",
   "execution_count": null,
   "metadata": {
    "colab": {
     "base_uri": "https://localhost:8080/"
    },
    "id": "13dVCJt47WdD",
    "outputId": "9456f36a-a4dc-4f3b-f942-b494b7e71b60"
   },
   "outputs": [
    {
     "name": "stdout",
     "output_type": "stream",
     "text": [
      "[1 0 0 3]\n"
     ]
    }
   ],
   "source": [
    "hist, _ = np.histogram(students['height'], bins=hh)\n",
    "print(hist)"
   ]
  },
  {
   "cell_type": "markdown",
   "metadata": {
    "id": "5VeYDzDb6glO"
   },
   "source": [
    "5. Эмпирическая функция распределения"
   ]
  },
  {
   "cell_type": "code",
   "execution_count": null,
   "metadata": {
    "colab": {
     "base_uri": "https://localhost:8080/",
     "height": 607
    },
    "id": "SZhC1OPr6ltr",
    "outputId": "f696f569-aac6-4eb4-fdc8-27a2292fee0e"
   },
   "outputs": [
    {
     "data": {
      "image/png": "[encoded data removed]",
      "text/plain": [
       "<Figure size 1200x600 with 1 Axes>"
      ]
     },
     "metadata": {},
     "output_type": "display_data"
    }
   ],
   "source": [
    "def emp_func(data):\n",
    "    sorted_data = np.sort(data)\n",
    "    n = len(data)\n",
    "    return sorted_data, np.arange(1, n + 1) / n\n",
    "\n",
    "\n",
    "x_h, y_h = emp_func(students['height'])\n",
    "\n",
    "plt.figure(figsize=(12, 6))\n",
    "\n",
    "plt.subplot(1, 2, 1)\n",
    "plt.step(x_h, y_h, where='post', label='Эмпирическая функция распределения', color = 'blue')\n",
    "plt.title('Эмпирическая функция распределения для height')\n",
    "plt.xlabel('Значения')\n",
    "plt.ylabel('Эмпирическая вероятность')\n",
    "plt.grid()\n",
    "plt.legend()\n",
    "\n",
    "\n",
    "plt.tight_layout()\n",
    "plt.show()"
   ]
  },
  {
   "cell_type": "markdown",
   "metadata": {
    "id": "GgZKQudW3Y7i"
   },
   "source": [
    "6.1 Рассчитать выборочное среднее"
   ]
  },
  {
   "cell_type": "code",
   "execution_count": null,
   "metadata": {
    "colab": {
     "base_uri": "https://localhost:8080/"
    },
    "id": "y2-BimFF3YtX",
    "outputId": "7029c66d-6a88-42ae-f7ab-d8b82829188d"
   },
   "outputs": [
    {
     "data": {
      "text/plain": [
       "1.7850000000000001"
      ]
     },
     "execution_count": 87,
     "metadata": {},
     "output_type": "execute_result"
    }
   ],
   "source": [
    "sred2 = students['height'].sum() / len(students)\n",
    "sred2"
   ]
  },
  {
   "cell_type": "markdown",
   "metadata": {
    "id": "zrFbFwdk32u8"
   },
   "source": [
    "6.2 Рассчитать выборочную дисперсию"
   ]
  },
  {
   "cell_type": "code",
   "execution_count": null,
   "metadata": {
    "colab": {
     "base_uri": "https://localhost:8080/"
    },
    "id": "aS6cgw11YoQ4",
    "outputId": "897cf75f-f14d-4294-ae23-5b270a1275f7"
   },
   "outputs": [
    {
     "name": "stdout",
     "output_type": "stream",
     "text": [
      "0.007525000000000001\n"
     ]
    }
   ],
   "source": [
    "c2 = []\n",
    "for i in range(len(students)):\n",
    "    c2.append((students['height'][i] - sred2) ** 2)\n",
    "\n",
    "v2 = sum(c2) / len(students)\n",
    "print(v2)"
   ]
  },
  {
   "cell_type": "markdown",
   "metadata": {
    "id": "3rsGalky3_u6"
   },
   "source": [
    "6.3 Рассчитать выборочное стандартное отклонение"
   ]
  },
  {
   "cell_type": "code",
   "execution_count": null,
   "metadata": {
    "colab": {
     "base_uri": "https://localhost:8080/"
    },
    "id": "I7UNjJOyZDct",
    "outputId": "c57b8f1c-058a-4db8-d2cf-aad69077ef76"
   },
   "outputs": [
    {
     "name": "stdout",
     "output_type": "stream",
     "text": [
      "0.08674675786448736\n"
     ]
    }
   ],
   "source": [
    "s2 = v2 ** 0.5\n",
    "print(s2)"
   ]
  },
  {
   "cell_type": "markdown",
   "metadata": {
    "id": "PJrQJdXi4NxX"
   },
   "source": [
    "6.4 Рассчитать медиану и моду"
   ]
  },
  {
   "cell_type": "code",
   "execution_count": null,
   "metadata": {
    "colab": {
     "base_uri": "https://localhost:8080/"
    },
    "id": "tfTWwGeaZsZu",
    "outputId": "dbbf5d86-0aba-40dd-fb8b-532500c1e7aa"
   },
   "outputs": [
    {
     "name": "stdout",
     "output_type": "stream",
     "text": [
      "1.815\n"
     ]
    }
   ],
   "source": [
    "n2 = len(sort_num2)\n",
    "if n2 % 2 == 0:\n",
    "    median2 = (sort_num2[n2 // 2 - 1] + sort_num2[n2 // 2]) / 2\n",
    "else:\n",
    "    median2 = sort_num2[n2 // 2]\n",
    "\n",
    "print(median2)"
   ]
  },
  {
   "cell_type": "code",
   "execution_count": null,
   "metadata": {
    "colab": {
     "base_uri": "https://localhost:8080/"
    },
    "id": "OQI43yjDk8PB",
    "outputId": "476b7f40-671c-4781-97f3-d7272cfa76de"
   },
   "outputs": [
    {
     "name": "stdout",
     "output_type": "stream",
     "text": [
      "1.8\n"
     ]
    }
   ],
   "source": [
    "import statistics\n",
    "\n",
    "\n",
    "print(statistics.mode(sort_num2))"
   ]
  },
  {
   "cell_type": "markdown",
   "metadata": {
    "id": "vUAQbkHn4QwF"
   },
   "source": [
    "6.5 Рассчитать коэффициент вариации"
   ]
  },
  {
   "cell_type": "code",
   "execution_count": null,
   "metadata": {
    "colab": {
     "base_uri": "https://localhost:8080/"
    },
    "id": "ayzhs2W3bZe5",
    "outputId": "e852e920-8ffe-4dce-b124-6856aedf50e4"
   },
   "outputs": [
    {
     "name": "stdout",
     "output_type": "stream",
     "text": [
      "0.04859762345349432\n"
     ]
    }
   ],
   "source": [
    "var2 = s2 / sred2\n",
    "print(var2)"
   ]
  }
 ],
 "metadata": {
  "colab": {
   "provenance": []
  },
  "kernelspec": {
   "display_name": "Python 3",
   "name": "python3"
  },
  "language_info": {
   "name": "python"
  }
 },
 "nbformat": 4,
 "nbformat_minor": 0
}
