{
  "nbformat": 4,
  "nbformat_minor": 0,
  "metadata": {
    "colab": {
      "provenance": []
    },
    "kernelspec": {
      "name": "python3",
      "display_name": "Python 3"
    },
    "language_info": {
      "name": "python"
    }
  },
  "cells": [
    {
      "cell_type": "markdown",
      "source": [
        "# **Пункт 1**"
      ],
      "metadata": {
        "id": "BjMRaiYz6o_E"
      }
    },
    {
      "cell_type": "markdown",
      "source": [
        "Целочисленные данные"
      ],
      "metadata": {
        "id": "AenF7pAPuKpu"
      }
    },
    {
      "cell_type": "code",
      "execution_count": null,
      "metadata": {
        "colab": {
          "base_uri": "https://localhost:8080/"
        },
        "id": "hH-RLLjsMWCt",
        "outputId": "87a81e7b-66bd-4a4e-c45e-97979292f03d"
      },
      "outputs": [
        {
          "output_type": "stream",
          "name": "stdout",
          "text": [
            "      name  num  height  month\n",
            "0  Timofey    7    1.84      1\n",
            "1   Kirill    0    1.75     11\n",
            "2   Bogdan    8    1.80     12\n",
            "3  Arseniy    2    1.84      9\n",
            "4     Aisa    1    1.57      1\n",
            "5    Vanya    0    1.85     12\n",
            "6     Dima    5    1.83      8\n",
            "7   Arthur    7    1.80     12\n"
          ]
        }
      ],
      "source": [
        "import pandas as pd\n",
        "import numpy as np\n",
        "\n",
        "\n",
        "students_marks_dict = {\"name\": [\"Timofey\", \"Kirill\", \"Bogdan\", \"Arseniy\", \"Aisa\", \"Vanya\", \"Dima\", \"Arthur\"],\n",
        "                        \"num\": [7, 0, 8, 2, 1, 0, 5, 7],\n",
        "                        \"height\": [1.84, 1.75, 1.80, 1.84, 1.57, 1.85, 1.83, 1.80],\n",
        "                        \"month\": [1, 11, 12, 9, 1, 12, 8, 12]}\n",
        "students = pd.DataFrame(students_marks_dict)\n",
        "print(students)"
      ]
    },
    {
      "cell_type": "code",
      "source": [
        "students.describe()"
      ],
      "metadata": {
        "colab": {
          "base_uri": "https://localhost:8080/",
          "height": 300
        },
        "id": "tAtIECKgQTCM",
        "outputId": "3ea0a78e-619b-4bea-b3c8-45b85de231b6"
      },
      "execution_count": null,
      "outputs": [
        {
          "output_type": "execute_result",
          "data": {
            "text/plain": [
              "            num    height      month\n",
              "count  8.000000  8.000000   8.000000\n",
              "mean   3.750000  1.785000   8.250000\n",
              "std    3.370036  0.092736   4.713203\n",
              "min    0.000000  1.570000   1.000000\n",
              "25%    0.750000  1.787500   6.250000\n",
              "50%    3.500000  1.815000  10.000000\n",
              "75%    7.000000  1.840000  12.000000\n",
              "max    8.000000  1.850000  12.000000"
            ],
            "text/html": [
              "\n",
              "  <div id=\"df-08249819-eb98-45a3-bf2c-aa752bce6e69\" class=\"colab-df-container\">\n",
              "    <div>\n",
              "<style scoped>\n",
              "    .dataframe tbody tr th:only-of-type {\n",
              "        vertical-align: middle;\n",
              "    }\n",
              "\n",
              "    .dataframe tbody tr th {\n",
              "        vertical-align: top;\n",
              "    }\n",
              "\n",
              "    .dataframe thead th {\n",
              "        text-align: right;\n",
              "    }\n",
              "</style>\n",
              "<table border=\"1\" class=\"dataframe\">\n",
              "  <thead>\n",
              "    <tr style=\"text-align: right;\">\n",
              "      <th></th>\n",
              "      <th>num</th>\n",
              "      <th>height</th>\n",
              "      <th>month</th>\n",
              "    </tr>\n",
              "  </thead>\n",
              "  <tbody>\n",
              "    <tr>\n",
              "      <th>count</th>\n",
              "      <td>8.000000</td>\n",
              "      <td>8.000000</td>\n",
              "      <td>8.000000</td>\n",
              "    </tr>\n",
              "    <tr>\n",
              "      <th>mean</th>\n",
              "      <td>3.750000</td>\n",
              "      <td>1.785000</td>\n",
              "      <td>8.250000</td>\n",
              "    </tr>\n",
              "    <tr>\n",
              "      <th>std</th>\n",
              "      <td>3.370036</td>\n",
              "      <td>0.092736</td>\n",
              "      <td>4.713203</td>\n",
              "    </tr>\n",
              "    <tr>\n",
              "      <th>min</th>\n",
              "      <td>0.000000</td>\n",
              "      <td>1.570000</td>\n",
              "      <td>1.000000</td>\n",
              "    </tr>\n",
              "    <tr>\n",
              "      <th>25%</th>\n",
              "      <td>0.750000</td>\n",
              "      <td>1.787500</td>\n",
              "      <td>6.250000</td>\n",
              "    </tr>\n",
              "    <tr>\n",
              "      <th>50%</th>\n",
              "      <td>3.500000</td>\n",
              "      <td>1.815000</td>\n",
              "      <td>10.000000</td>\n",
              "    </tr>\n",
              "    <tr>\n",
              "      <th>75%</th>\n",
              "      <td>7.000000</td>\n",
              "      <td>1.840000</td>\n",
              "      <td>12.000000</td>\n",
              "    </tr>\n",
              "    <tr>\n",
              "      <th>max</th>\n",
              "      <td>8.000000</td>\n",
              "      <td>1.850000</td>\n",
              "      <td>12.000000</td>\n",
              "    </tr>\n",
              "  </tbody>\n",
              "</table>\n",
              "</div>\n",
              "    <div class=\"colab-df-buttons\">\n",
              "\n",
              "  <div class=\"colab-df-container\">\n",
              "    <button class=\"colab-df-convert\" onclick=\"convertToInteractive('df-08249819-eb98-45a3-bf2c-aa752bce6e69')\"\n",
              "            title=\"Convert this dataframe to an interactive table.\"\n",
              "            style=\"display:none;\">\n",
              "\n",
              "  <svg xmlns=\"http://www.w3.org/2000/svg\" height=\"24px\" viewBox=\"0 -960 960 960\">\n",
              "    <path d=\"M120-120v-720h720v720H120Zm60-500h600v-160H180v160Zm220 220h160v-160H400v160Zm0 220h160v-160H400v160ZM180-400h160v-160H180v160Zm440 0h160v-160H620v160ZM180-180h160v-160H180v160Zm440 0h160v-160H620v160Z\"/>\n",
              "  </svg>\n",
              "    </button>\n",
              "\n",
              "  <style>\n",
              "    .colab-df-container {\n",
              "      display:flex;\n",
              "      gap: 12px;\n",
              "    }\n",
              "\n",
              "    .colab-df-convert {\n",
              "      background-color: #E8F0FE;\n",
              "      border: none;\n",
              "      border-radius: 50%;\n",
              "      cursor: pointer;\n",
              "      display: none;\n",
              "      fill: #1967D2;\n",
              "      height: 32px;\n",
              "      padding: 0 0 0 0;\n",
              "      width: 32px;\n",
              "    }\n",
              "\n",
              "    .colab-df-convert:hover {\n",
              "      background-color: #E2EBFA;\n",
              "      box-shadow: 0px 1px 2px rgba(60, 64, 67, 0.3), 0px 1px 3px 1px rgba(60, 64, 67, 0.15);\n",
              "      fill: #174EA6;\n",
              "    }\n",
              "\n",
              "    .colab-df-buttons div {\n",
              "      margin-bottom: 4px;\n",
              "    }\n",
              "\n",
              "    [theme=dark] .colab-df-convert {\n",
              "      background-color: #3B4455;\n",
              "      fill: #D2E3FC;\n",
              "    }\n",
              "\n",
              "    [theme=dark] .colab-df-convert:hover {\n",
              "      background-color: #434B5C;\n",
              "      box-shadow: 0px 1px 3px 1px rgba(0, 0, 0, 0.15);\n",
              "      filter: drop-shadow(0px 1px 2px rgba(0, 0, 0, 0.3));\n",
              "      fill: #FFFFFF;\n",
              "    }\n",
              "  </style>\n",
              "\n",
              "    <script>\n",
              "      const buttonEl =\n",
              "        document.querySelector('#df-08249819-eb98-45a3-bf2c-aa752bce6e69 button.colab-df-convert');\n",
              "      buttonEl.style.display =\n",
              "        google.colab.kernel.accessAllowed ? 'block' : 'none';\n",
              "\n",
              "      async function convertToInteractive(key) {\n",
              "        const element = document.querySelector('#df-08249819-eb98-45a3-bf2c-aa752bce6e69');\n",
              "        const dataTable =\n",
              "          await google.colab.kernel.invokeFunction('convertToInteractive',\n",
              "                                                    [key], {});\n",
              "        if (!dataTable) return;\n",
              "\n",
              "        const docLinkHtml = 'Like what you see? Visit the ' +\n",
              "          '<a target=\"_blank\" href=https://colab.research.google.com/notebooks/data_table.ipynb>data table notebook</a>'\n",
              "          + ' to learn more about interactive tables.';\n",
              "        element.innerHTML = '';\n",
              "        dataTable['output_type'] = 'display_data';\n",
              "        await google.colab.output.renderOutput(dataTable, element);\n",
              "        const docLink = document.createElement('div');\n",
              "        docLink.innerHTML = docLinkHtml;\n",
              "        element.appendChild(docLink);\n",
              "      }\n",
              "    </script>\n",
              "  </div>\n",
              "\n",
              "\n",
              "<div id=\"df-8aae2903-377d-40a1-8984-9f58ffdb33d1\">\n",
              "  <button class=\"colab-df-quickchart\" onclick=\"quickchart('df-8aae2903-377d-40a1-8984-9f58ffdb33d1')\"\n",
              "            title=\"Suggest charts\"\n",
              "            style=\"display:none;\">\n",
              "\n",
              "<svg xmlns=\"http://www.w3.org/2000/svg\" height=\"24px\"viewBox=\"0 0 24 24\"\n",
              "     width=\"24px\">\n",
              "    <g>\n",
              "        <path d=\"M19 3H5c-1.1 0-2 .9-2 2v14c0 1.1.9 2 2 2h14c1.1 0 2-.9 2-2V5c0-1.1-.9-2-2-2zM9 17H7v-7h2v7zm4 0h-2V7h2v10zm4 0h-2v-4h2v4z\"/>\n",
              "    </g>\n",
              "</svg>\n",
              "  </button>\n",
              "\n",
              "<style>\n",
              "  .colab-df-quickchart {\n",
              "      --bg-color: #E8F0FE;\n",
              "      --fill-color: #1967D2;\n",
              "      --hover-bg-color: #E2EBFA;\n",
              "      --hover-fill-color: #174EA6;\n",
              "      --disabled-fill-color: #AAA;\n",
              "      --disabled-bg-color: #DDD;\n",
              "  }\n",
              "\n",
              "  [theme=dark] .colab-df-quickchart {\n",
              "      --bg-color: #3B4455;\n",
              "      --fill-color: #D2E3FC;\n",
              "      --hover-bg-color: #434B5C;\n",
              "      --hover-fill-color: #FFFFFF;\n",
              "      --disabled-bg-color: #3B4455;\n",
              "      --disabled-fill-color: #666;\n",
              "  }\n",
              "\n",
              "  .colab-df-quickchart {\n",
              "    background-color: var(--bg-color);\n",
              "    border: none;\n",
              "    border-radius: 50%;\n",
              "    cursor: pointer;\n",
              "    display: none;\n",
              "    fill: var(--fill-color);\n",
              "    height: 32px;\n",
              "    padding: 0;\n",
              "    width: 32px;\n",
              "  }\n",
              "\n",
              "  .colab-df-quickchart:hover {\n",
              "    background-color: var(--hover-bg-color);\n",
              "    box-shadow: 0 1px 2px rgba(60, 64, 67, 0.3), 0 1px 3px 1px rgba(60, 64, 67, 0.15);\n",
              "    fill: var(--button-hover-fill-color);\n",
              "  }\n",
              "\n",
              "  .colab-df-quickchart-complete:disabled,\n",
              "  .colab-df-quickchart-complete:disabled:hover {\n",
              "    background-color: var(--disabled-bg-color);\n",
              "    fill: var(--disabled-fill-color);\n",
              "    box-shadow: none;\n",
              "  }\n",
              "\n",
              "  .colab-df-spinner {\n",
              "    border: 2px solid var(--fill-color);\n",
              "    border-color: transparent;\n",
              "    border-bottom-color: var(--fill-color);\n",
              "    animation:\n",
              "      spin 1s steps(1) infinite;\n",
              "  }\n",
              "\n",
              "  @keyframes spin {\n",
              "    0% {\n",
              "      border-color: transparent;\n",
              "      border-bottom-color: var(--fill-color);\n",
              "      border-left-color: var(--fill-color);\n",
              "    }\n",
              "    20% {\n",
              "      border-color: transparent;\n",
              "      border-left-color: var(--fill-color);\n",
              "      border-top-color: var(--fill-color);\n",
              "    }\n",
              "    30% {\n",
              "      border-color: transparent;\n",
              "      border-left-color: var(--fill-color);\n",
              "      border-top-color: var(--fill-color);\n",
              "      border-right-color: var(--fill-color);\n",
              "    }\n",
              "    40% {\n",
              "      border-color: transparent;\n",
              "      border-right-color: var(--fill-color);\n",
              "      border-top-color: var(--fill-color);\n",
              "    }\n",
              "    60% {\n",
              "      border-color: transparent;\n",
              "      border-right-color: var(--fill-color);\n",
              "    }\n",
              "    80% {\n",
              "      border-color: transparent;\n",
              "      border-right-color: var(--fill-color);\n",
              "      border-bottom-color: var(--fill-color);\n",
              "    }\n",
              "    90% {\n",
              "      border-color: transparent;\n",
              "      border-bottom-color: var(--fill-color);\n",
              "    }\n",
              "  }\n",
              "</style>\n",
              "\n",
              "  <script>\n",
              "    async function quickchart(key) {\n",
              "      const quickchartButtonEl =\n",
              "        document.querySelector('#' + key + ' button');\n",
              "      quickchartButtonEl.disabled = true;  // To prevent multiple clicks.\n",
              "      quickchartButtonEl.classList.add('colab-df-spinner');\n",
              "      try {\n",
              "        const charts = await google.colab.kernel.invokeFunction(\n",
              "            'suggestCharts', [key], {});\n",
              "      } catch (error) {\n",
              "        console.error('Error during call to suggestCharts:', error);\n",
              "      }\n",
              "      quickchartButtonEl.classList.remove('colab-df-spinner');\n",
              "      quickchartButtonEl.classList.add('colab-df-quickchart-complete');\n",
              "    }\n",
              "    (() => {\n",
              "      let quickchartButtonEl =\n",
              "        document.querySelector('#df-8aae2903-377d-40a1-8984-9f58ffdb33d1 button');\n",
              "      quickchartButtonEl.style.display =\n",
              "        google.colab.kernel.accessAllowed ? 'block' : 'none';\n",
              "    })();\n",
              "  </script>\n",
              "</div>\n",
              "    </div>\n",
              "  </div>\n"
            ],
            "application/vnd.google.colaboratory.intrinsic+json": {
              "type": "dataframe",
              "summary": "{\n  \"name\": \"students\",\n  \"rows\": 8,\n  \"fields\": [\n    {\n      \"column\": \"num\",\n      \"properties\": {\n        \"dtype\": \"number\",\n        \"std\": 3.106898332784432,\n        \"min\": 0.0,\n        \"max\": 8.0,\n        \"num_unique_values\": 7,\n        \"samples\": [\n          8.0,\n          3.75,\n          3.5\n        ],\n        \"semantic_type\": \"\",\n        \"description\": \"\"\n      }\n    },\n    {\n      \"column\": \"height\",\n      \"properties\": {\n        \"dtype\": \"number\",\n        \"std\": 2.362131292967467,\n        \"min\": 0.09273618495495704,\n        \"max\": 8.0,\n        \"num_unique_values\": 8,\n        \"samples\": [\n          1.7850000000000001,\n          1.815,\n          8.0\n        ],\n        \"semantic_type\": \"\",\n        \"description\": \"\"\n      }\n    },\n    {\n      \"column\": \"month\",\n      \"properties\": {\n        \"dtype\": \"number\",\n        \"std\": 3.75174153851247,\n        \"min\": 1.0,\n        \"max\": 12.0,\n        \"num_unique_values\": 7,\n        \"samples\": [\n          8.0,\n          8.25,\n          10.0\n        ],\n        \"semantic_type\": \"\",\n        \"description\": \"\"\n      }\n    }\n  ]\n}"
            }
          },
          "metadata": {},
          "execution_count": 2
        }
      ]
    },
    {
      "cell_type": "markdown",
      "source": [
        "1. Вариационный ряд"
      ],
      "metadata": {
        "id": "PeqTP4eTuygD"
      }
    },
    {
      "cell_type": "code",
      "source": [
        "sort_num1 = sorted(students['num'])\n",
        "sort_num1"
      ],
      "metadata": {
        "colab": {
          "base_uri": "https://localhost:8080/"
        },
        "id": "zklGZ-NoQgPu",
        "outputId": "77849699-0185-4f82-ce71-a65ad74ef654"
      },
      "execution_count": null,
      "outputs": [
        {
          "output_type": "execute_result",
          "data": {
            "text/plain": [
              "[0, 0, 1, 2, 5, 7, 7, 8]"
            ]
          },
          "metadata": {},
          "execution_count": 3
        }
      ]
    },
    {
      "cell_type": "code",
      "source": [
        "absolute_frequencies1 = students['num'].value_counts()\n",
        "absolute_frequencies1"
      ],
      "metadata": {
        "colab": {
          "base_uri": "https://localhost:8080/",
          "height": 303
        },
        "id": "-TyrU_1d4fOP",
        "outputId": "7a3ae62a-f82e-411f-ab14-438a0676d15c"
      },
      "execution_count": null,
      "outputs": [
        {
          "output_type": "execute_result",
          "data": {
            "text/plain": [
              "num\n",
              "7    2\n",
              "0    2\n",
              "8    1\n",
              "2    1\n",
              "1    1\n",
              "5    1\n",
              "Name: count, dtype: int64"
            ],
            "text/html": [
              "<div>\n",
              "<style scoped>\n",
              "    .dataframe tbody tr th:only-of-type {\n",
              "        vertical-align: middle;\n",
              "    }\n",
              "\n",
              "    .dataframe tbody tr th {\n",
              "        vertical-align: top;\n",
              "    }\n",
              "\n",
              "    .dataframe thead th {\n",
              "        text-align: right;\n",
              "    }\n",
              "</style>\n",
              "<table border=\"1\" class=\"dataframe\">\n",
              "  <thead>\n",
              "    <tr style=\"text-align: right;\">\n",
              "      <th></th>\n",
              "      <th>count</th>\n",
              "    </tr>\n",
              "    <tr>\n",
              "      <th>num</th>\n",
              "      <th></th>\n",
              "    </tr>\n",
              "  </thead>\n",
              "  <tbody>\n",
              "    <tr>\n",
              "      <th>7</th>\n",
              "      <td>2</td>\n",
              "    </tr>\n",
              "    <tr>\n",
              "      <th>0</th>\n",
              "      <td>2</td>\n",
              "    </tr>\n",
              "    <tr>\n",
              "      <th>8</th>\n",
              "      <td>1</td>\n",
              "    </tr>\n",
              "    <tr>\n",
              "      <th>2</th>\n",
              "      <td>1</td>\n",
              "    </tr>\n",
              "    <tr>\n",
              "      <th>1</th>\n",
              "      <td>1</td>\n",
              "    </tr>\n",
              "    <tr>\n",
              "      <th>5</th>\n",
              "      <td>1</td>\n",
              "    </tr>\n",
              "  </tbody>\n",
              "</table>\n",
              "</div><br><label><b>dtype:</b> int64</label>"
            ]
          },
          "metadata": {},
          "execution_count": 13
        }
      ]
    },
    {
      "cell_type": "code",
      "source": [
        "ryad1 = [0, 1, 2, 5, 7, 8]\n",
        "absol1 = [2, 1, 1, 1, 2, 1] # вариационный ряд с абсолютными частотами\n",
        "otn1 = []\n",
        "for i in range(len(absol1)):\n",
        "    otn1.append(absol1[i] / sum(absol1))\n",
        "print(otn1) # вариационный ряд с относительными частотами"
      ],
      "metadata": {
        "colab": {
          "base_uri": "https://localhost:8080/"
        },
        "id": "g_EjhimlRP8M",
        "outputId": "2e7f4450-55b7-4f1e-828e-37fae9694cc5"
      },
      "execution_count": 1,
      "outputs": [
        {
          "output_type": "stream",
          "name": "stdout",
          "text": [
            "[0.25, 0.125, 0.125, 0.125, 0.25, 0.125]\n"
          ]
        }
      ]
    },
    {
      "cell_type": "markdown",
      "source": [
        "2. Полигон относительных частот вариационного ряда"
      ],
      "metadata": {
        "id": "7ttuJD2HvhAt"
      }
    },
    {
      "cell_type": "code",
      "source": [
        "import matplotlib.pyplot as plt\n",
        "\n",
        "\n",
        "plt.plot(ryad1, otn1)\n",
        "plt.show()"
      ],
      "metadata": {
        "colab": {
          "base_uri": "https://localhost:8080/",
          "height": 430
        },
        "id": "gje-rJTSSj5w",
        "outputId": "898117df-6c51-4de7-f1aa-259836473ca7"
      },
      "execution_count": null,
      "outputs": [
        {
          "output_type": "display_data",
          "data": {
            "text/plain": [
              "<Figure size 640x480 with 1 Axes>"
            ],
            "image/png": "[encoded data removed]"
          },
          "metadata": {}
        }
      ]
    },
    {
      "cell_type": "markdown",
      "source": [
        "3. Эмпирическая функция распределения"
      ],
      "metadata": {
        "id": "CC1HXzAH61Ql"
      }
    },
    {
      "cell_type": "code",
      "source": [
        "def emp_func(data):\n",
        "    sorted_data = np.sort(data)\n",
        "    n = len(data)\n",
        "    return sorted_data, np.arange(1, n + 1) / n\n",
        "\n",
        "\n",
        "x_num, y_num = emp_func(students['num'])\n",
        "\n",
        "plt.figure(figsize=(12, 6))\n",
        "plt.subplot(1, 2, 1)\n",
        "plt.step(x_num, y_num, where='post', label='Эмпирическая функция распределения', color = 'red')\n",
        "plt.title('Эмпирическая функция распределения для number')\n",
        "plt.xlabel('Значения')\n",
        "plt.ylabel('Эмпирическая вероятность')\n",
        "plt.grid()\n",
        "plt.legend()"
      ],
      "metadata": {
        "colab": {
          "base_uri": "https://localhost:8080/",
          "height": 581
        },
        "id": "jt4dtPPE62QC",
        "outputId": "1ee7fac1-0239-44d3-fc17-fa1c1aa62fb6"
      },
      "execution_count": null,
      "outputs": [
        {
          "output_type": "execute_result",
          "data": {
            "text/plain": [
              "<matplotlib.legend.Legend at 0x7abd13369a50>"
            ]
          },
          "metadata": {},
          "execution_count": 15
        },
        {
          "output_type": "display_data",
          "data": {
            "text/plain": [
              "<Figure size 1200x600 with 1 Axes>"
            ],
            "image/png": "[encoded data removed]"
          },
          "metadata": {}
        }
      ]
    },
    {
      "cell_type": "markdown",
      "source": [
        "4.1 Рассчитать выборочное среднее"
      ],
      "metadata": {
        "id": "7O07D9fdwMFj"
      }
    },
    {
      "cell_type": "code",
      "source": [
        "sred1 = students['num'].sum() / len(students)\n",
        "sred1"
      ],
      "metadata": {
        "colab": {
          "base_uri": "https://localhost:8080/"
        },
        "id": "Ltl-WhMdPpyk",
        "outputId": "61f004fe-466c-4587-c0b1-979d2c482ea0"
      },
      "execution_count": null,
      "outputs": [
        {
          "output_type": "execute_result",
          "data": {
            "text/plain": [
              "3.75"
            ]
          },
          "metadata": {},
          "execution_count": 16
        }
      ]
    },
    {
      "cell_type": "markdown",
      "source": [
        "4.2 Рассчитать выборочную дисперсию"
      ],
      "metadata": {
        "id": "OoPJSt8ywWoM"
      }
    },
    {
      "cell_type": "code",
      "source": [
        "c1 = []\n",
        "for i in range(len(students)):\n",
        "    c1.append((students['num'][i] - sred1) ** 2)\n",
        "\n",
        "v1 = sum(c1) / len(students)\n",
        "print(v1)"
      ],
      "metadata": {
        "colab": {
          "base_uri": "https://localhost:8080/"
        },
        "id": "JcdoFpw1XVX-",
        "outputId": "539c793a-ebde-49a6-daf3-f77a097113c9"
      },
      "execution_count": null,
      "outputs": [
        {
          "output_type": "stream",
          "name": "stdout",
          "text": [
            "9.9375\n"
          ]
        }
      ]
    },
    {
      "cell_type": "markdown",
      "source": [
        "4.3 Рассчитать выборочное стандартное отклонение"
      ],
      "metadata": {
        "id": "bKwlwkWAwda1"
      }
    },
    {
      "cell_type": "code",
      "source": [
        "s1 = v1 ** 0.5\n",
        "print(s1)"
      ],
      "metadata": {
        "colab": {
          "base_uri": "https://localhost:8080/"
        },
        "id": "bjxU_ClvW3IJ",
        "outputId": "d481abcc-7536-4ff6-8831-fc5a920c064e"
      },
      "execution_count": null,
      "outputs": [
        {
          "output_type": "stream",
          "name": "stdout",
          "text": [
            "3.152380053229623\n"
          ]
        }
      ]
    },
    {
      "cell_type": "markdown",
      "source": [
        "4.4 Рассчитать медиану и моду"
      ],
      "metadata": {
        "id": "m7idxEPvwiUu"
      }
    },
    {
      "cell_type": "code",
      "source": [
        "n1 = len(sort_num1)\n",
        "if n1 % 2 == 0:\n",
        "    median1 = (sort_num1[n1 // 2 - 1] + sort_num1[n1 // 2]) / 2\n",
        "else:\n",
        "    median1 = sort_num1[n1 // 2]\n",
        "\n",
        "print(median1)"
      ],
      "metadata": {
        "colab": {
          "base_uri": "https://localhost:8080/"
        },
        "id": "Om_p-EX-aI45",
        "outputId": "68fbc514-e2ef-43ff-c18d-3e389b06da00"
      },
      "execution_count": null,
      "outputs": [
        {
          "output_type": "stream",
          "name": "stdout",
          "text": [
            "3.5\n"
          ]
        }
      ]
    },
    {
      "cell_type": "code",
      "source": [
        "import statistics\n",
        "\n",
        "\n",
        "print(statistics.mode(sort_num1))"
      ],
      "metadata": {
        "colab": {
          "base_uri": "https://localhost:8080/"
        },
        "id": "WDKvWk0Fk8VT",
        "outputId": "8bc7d3ea-c4f5-41a9-e52f-3cc65d2feae8"
      },
      "execution_count": null,
      "outputs": [
        {
          "output_type": "stream",
          "name": "stdout",
          "text": [
            "0\n"
          ]
        }
      ]
    },
    {
      "cell_type": "markdown",
      "source": [
        "4.5 Рассчитать коэффициент вариации"
      ],
      "metadata": {
        "id": "5ohyv_kWwnhk"
      }
    },
    {
      "cell_type": "code",
      "source": [
        "var1 = s1 / sred1\n",
        "print(var1)"
      ],
      "metadata": {
        "colab": {
          "base_uri": "https://localhost:8080/"
        },
        "id": "8Hjz5p-tbMbJ",
        "outputId": "8939e552-37ca-48d6-dc7e-e6a8b809260a"
      },
      "execution_count": null,
      "outputs": [
        {
          "output_type": "stream",
          "name": "stdout",
          "text": [
            "0.8406346808612327\n"
          ]
        }
      ]
    },
    {
      "cell_type": "markdown",
      "source": [
        "# **Пункт 3**"
      ],
      "metadata": {
        "id": "R2CM6JwP64RH"
      }
    },
    {
      "cell_type": "markdown",
      "source": [
        "1. Вариационный ряд"
      ],
      "metadata": {
        "id": "ntTFp0ltxCh1"
      }
    },
    {
      "cell_type": "code",
      "source": [
        "sort_num3 = sorted(students['month'])\n",
        "sort_num3"
      ],
      "metadata": {
        "colab": {
          "base_uri": "https://localhost:8080/"
        },
        "id": "l6jTgIh2pZ4B",
        "outputId": "072554df-adbc-4983-8f2f-6721e082c9a2"
      },
      "execution_count": null,
      "outputs": [
        {
          "output_type": "execute_result",
          "data": {
            "text/plain": [
              "[1, 1, 8, 9, 11, 12, 12, 12]"
            ]
          },
          "metadata": {},
          "execution_count": 22
        }
      ]
    },
    {
      "cell_type": "code",
      "source": [
        "absolute_frequencies2 = students['month'].value_counts()\n",
        "absolute_frequencies2"
      ],
      "metadata": {
        "colab": {
          "base_uri": "https://localhost:8080/",
          "height": 272
        },
        "id": "uZ-jwFAM5Dm5",
        "outputId": "644ab03f-1124-4a09-bf14-a532d3a615a2"
      },
      "execution_count": null,
      "outputs": [
        {
          "output_type": "execute_result",
          "data": {
            "text/plain": [
              "month\n",
              "12    3\n",
              "1     2\n",
              "11    1\n",
              "9     1\n",
              "8     1\n",
              "Name: count, dtype: int64"
            ],
            "text/html": [
              "<div>\n",
              "<style scoped>\n",
              "    .dataframe tbody tr th:only-of-type {\n",
              "        vertical-align: middle;\n",
              "    }\n",
              "\n",
              "    .dataframe tbody tr th {\n",
              "        vertical-align: top;\n",
              "    }\n",
              "\n",
              "    .dataframe thead th {\n",
              "        text-align: right;\n",
              "    }\n",
              "</style>\n",
              "<table border=\"1\" class=\"dataframe\">\n",
              "  <thead>\n",
              "    <tr style=\"text-align: right;\">\n",
              "      <th></th>\n",
              "      <th>count</th>\n",
              "    </tr>\n",
              "    <tr>\n",
              "      <th>month</th>\n",
              "      <th></th>\n",
              "    </tr>\n",
              "  </thead>\n",
              "  <tbody>\n",
              "    <tr>\n",
              "      <th>12</th>\n",
              "      <td>3</td>\n",
              "    </tr>\n",
              "    <tr>\n",
              "      <th>1</th>\n",
              "      <td>2</td>\n",
              "    </tr>\n",
              "    <tr>\n",
              "      <th>11</th>\n",
              "      <td>1</td>\n",
              "    </tr>\n",
              "    <tr>\n",
              "      <th>9</th>\n",
              "      <td>1</td>\n",
              "    </tr>\n",
              "    <tr>\n",
              "      <th>8</th>\n",
              "      <td>1</td>\n",
              "    </tr>\n",
              "  </tbody>\n",
              "</table>\n",
              "</div><br><label><b>dtype:</b> int64</label>"
            ]
          },
          "metadata": {},
          "execution_count": 23
        }
      ]
    },
    {
      "cell_type": "code",
      "source": [
        "ryad3 = [1, 8, 9, 11, 12]\n",
        "absol3 = [2, 1, 1, 1, 3] # вариационный ряд с абсолютными частотами\n",
        "otn3 = []\n",
        "for i in range(len(absol3)):\n",
        "    otn3.append(absol3[i] / sum(absol3))\n",
        "print(otn3) # вариационный ряд с относительными частотами"
      ],
      "metadata": {
        "colab": {
          "base_uri": "https://localhost:8080/"
        },
        "id": "TE8MRVeupm3B",
        "outputId": "90be7426-3ce7-4362-a0af-cce9059e2054"
      },
      "execution_count": null,
      "outputs": [
        {
          "output_type": "stream",
          "name": "stdout",
          "text": [
            "[0.25, 0.125, 0.125, 0.125, 0.375]\n"
          ]
        }
      ]
    },
    {
      "cell_type": "markdown",
      "source": [
        "2. Полигон относительных частот вариационного ряда"
      ],
      "metadata": {
        "id": "nzTHUWwpxhU-"
      }
    },
    {
      "cell_type": "code",
      "source": [
        "import matplotlib.pyplot as plt\n",
        "\n",
        "\n",
        "plt.plot(ryad3, otn3)\n",
        "plt.show()"
      ],
      "metadata": {
        "colab": {
          "base_uri": "https://localhost:8080/",
          "height": 430
        },
        "id": "jxA-CB2Kp3qz",
        "outputId": "e08cf44c-9b42-49ce-ee10-c4987314c10b"
      },
      "execution_count": null,
      "outputs": [
        {
          "output_type": "display_data",
          "data": {
            "text/plain": [
              "<Figure size 640x480 with 1 Axes>"
            ],
            "image/png": "[encoded data removed]"
          },
          "metadata": {}
        }
      ]
    },
    {
      "cell_type": "markdown",
      "source": [
        "3. Эмпирическая функция распределения"
      ],
      "metadata": {
        "id": "u2EzobiJ7Imq"
      }
    },
    {
      "cell_type": "code",
      "source": [
        "def emp_func(data):\n",
        "    sorted_data = np.sort(data)\n",
        "    n = len(data)\n",
        "    return sorted_data, np.arange(1, n + 1) / n\n",
        "\n",
        "\n",
        "x_num, y_num = emp_func(students['num'])\n",
        "x_month, y_month = emp_func(students['month'])\n",
        "\n",
        "plt.figure(figsize=(12, 6))\n",
        "\n",
        "plt.subplot(1, 2, 2)\n",
        "plt.step(x_month, y_month, where='post', label='Эмпирическая функция распределения', color='green')\n",
        "plt.title('Эмпирическая функция распределения для month')\n",
        "plt.xlabel('Значения')\n",
        "plt.ylabel('Эмпирическая вероятность')\n",
        "plt.grid()\n",
        "plt.legend()\n",
        "\n",
        "plt.tight_layout()\n",
        "plt.show()"
      ],
      "metadata": {
        "colab": {
          "base_uri": "https://localhost:8080/",
          "height": 607
        },
        "id": "7wg-8fV57I3_",
        "outputId": "64e7d7a7-0843-47bc-cd68-d7b86366715b"
      },
      "execution_count": null,
      "outputs": [
        {
          "output_type": "display_data",
          "data": {
            "text/plain": [
              "<Figure size 1200x600 with 1 Axes>"
            ],
            "image/png": "[encoded data removed]"
          },
          "metadata": {}
        }
      ]
    },
    {
      "cell_type": "markdown",
      "source": [
        "4.1 Рассчитать выборочное среднее"
      ],
      "metadata": {
        "id": "H4GYnTyfx_kT"
      }
    },
    {
      "cell_type": "code",
      "source": [
        "sred3 = students['month'].sum() / len(students)\n",
        "sred3"
      ],
      "metadata": {
        "colab": {
          "base_uri": "https://localhost:8080/"
        },
        "id": "Tbe6w1xlw4B0",
        "outputId": "284c7dd8-3cb9-4ea7-afb8-d9296f4e51ae"
      },
      "execution_count": null,
      "outputs": [
        {
          "output_type": "execute_result",
          "data": {
            "text/plain": [
              "8.25"
            ]
          },
          "metadata": {},
          "execution_count": 27
        }
      ]
    },
    {
      "cell_type": "markdown",
      "source": [
        "4.2 Рассчитать выборочную дисперсию"
      ],
      "metadata": {
        "id": "-ghy0Dsp2M-W"
      }
    },
    {
      "cell_type": "code",
      "source": [
        "c3 = []\n",
        "for i in range(len(students)):\n",
        "    c3.append((students['month'][i] - sred3) ** 2)\n",
        "\n",
        "v3 = sum(c3) / len(students)\n",
        "print(v3)"
      ],
      "metadata": {
        "colab": {
          "base_uri": "https://localhost:8080/"
        },
        "id": "t_8ywWZEqRon",
        "outputId": "9e12b9c3-e023-45ac-b763-0b788ff3628f"
      },
      "execution_count": null,
      "outputs": [
        {
          "output_type": "stream",
          "name": "stdout",
          "text": [
            "19.4375\n"
          ]
        }
      ]
    },
    {
      "cell_type": "markdown",
      "source": [
        "4.3 Рассчитать выборочное стандартное отклонение"
      ],
      "metadata": {
        "id": "H_k93u7w2gRD"
      }
    },
    {
      "cell_type": "code",
      "source": [
        "s3 = v3 ** 0.5\n",
        "print(s3)"
      ],
      "metadata": {
        "colab": {
          "base_uri": "https://localhost:8080/"
        },
        "id": "NgKuFx1DqZhS",
        "outputId": "e1cbca66-515d-4999-e3cf-c0df9efd9a4e"
      },
      "execution_count": null,
      "outputs": [
        {
          "output_type": "stream",
          "name": "stdout",
          "text": [
            "4.408798022137099\n"
          ]
        }
      ]
    },
    {
      "cell_type": "markdown",
      "source": [
        "4.4 Рассчитать медиану и моду"
      ],
      "metadata": {
        "id": "9IAW_yo-2n5D"
      }
    },
    {
      "cell_type": "code",
      "source": [
        "n3 = len(sort_num3)\n",
        "if n3 % 2 == 0:\n",
        "    median3 = (sort_num3[n3 // 2 - 1] + sort_num3[n3 // 2]) / 2\n",
        "else:\n",
        "    median3 = sort_num3[n3 // 2]\n",
        "\n",
        "print(median3)"
      ],
      "metadata": {
        "colab": {
          "base_uri": "https://localhost:8080/"
        },
        "id": "7ukg6-lPqdZr",
        "outputId": "ead4b3c7-188f-4f42-d7d6-e6a94c3df94a"
      },
      "execution_count": null,
      "outputs": [
        {
          "output_type": "stream",
          "name": "stdout",
          "text": [
            "10.0\n"
          ]
        }
      ]
    },
    {
      "cell_type": "code",
      "source": [
        "import statistics\n",
        "\n",
        "\n",
        "print(statistics.mode(sort_num3))"
      ],
      "metadata": {
        "colab": {
          "base_uri": "https://localhost:8080/"
        },
        "id": "xvCKvzoGq3sW",
        "outputId": "f4bef709-2f00-4bbe-fdd5-2063acb358e3"
      },
      "execution_count": null,
      "outputs": [
        {
          "output_type": "stream",
          "name": "stdout",
          "text": [
            "12\n"
          ]
        }
      ]
    },
    {
      "cell_type": "markdown",
      "source": [
        "4.5 Рассчитать коэффициент вариации"
      ],
      "metadata": {
        "id": "SAgomdRo3Adz"
      }
    },
    {
      "cell_type": "code",
      "source": [
        "var3 = s3 / sred3\n",
        "print(var3)"
      ],
      "metadata": {
        "colab": {
          "base_uri": "https://localhost:8080/"
        },
        "id": "1jq7NGhjciiv",
        "outputId": "bc601881-e990-46be-b3b3-e909c90499f3"
      },
      "execution_count": null,
      "outputs": [
        {
          "output_type": "stream",
          "name": "stdout",
          "text": [
            "0.5343997602590423\n"
          ]
        }
      ]
    },
    {
      "cell_type": "markdown",
      "source": [
        "# **Пункт 2**"
      ],
      "metadata": {
        "id": "c9bq4HZQ6-YR"
      }
    },
    {
      "cell_type": "markdown",
      "source": [
        "1. Рассчитать число групп (интервалов) m для квантования исходных данных по правилу Стёрджесса\n",
        "2. Вычислить значения m+1 границ групп для значений выборки по\n",
        "правилу фиксированной величины интервала"
      ],
      "metadata": {
        "id": "SGgOSu725VM-"
      }
    },
    {
      "cell_type": "code",
      "source": [
        "absolute_frequencies3 = students['height'].value_counts()\n",
        "absolute_frequencies3"
      ],
      "metadata": {
        "colab": {
          "base_uri": "https://localhost:8080/",
          "height": 303
        },
        "id": "OIP2RNAA5Ova",
        "outputId": "af9eb421-2ae4-4066-fccf-d22ec4c2f2fd"
      },
      "execution_count": null,
      "outputs": [
        {
          "output_type": "execute_result",
          "data": {
            "text/plain": [
              "height\n",
              "1.84    2\n",
              "1.80    2\n",
              "1.75    1\n",
              "1.57    1\n",
              "1.85    1\n",
              "1.83    1\n",
              "Name: count, dtype: int64"
            ],
            "text/html": [
              "<div>\n",
              "<style scoped>\n",
              "    .dataframe tbody tr th:only-of-type {\n",
              "        vertical-align: middle;\n",
              "    }\n",
              "\n",
              "    .dataframe tbody tr th {\n",
              "        vertical-align: top;\n",
              "    }\n",
              "\n",
              "    .dataframe thead th {\n",
              "        text-align: right;\n",
              "    }\n",
              "</style>\n",
              "<table border=\"1\" class=\"dataframe\">\n",
              "  <thead>\n",
              "    <tr style=\"text-align: right;\">\n",
              "      <th></th>\n",
              "      <th>count</th>\n",
              "    </tr>\n",
              "    <tr>\n",
              "      <th>height</th>\n",
              "      <th></th>\n",
              "    </tr>\n",
              "  </thead>\n",
              "  <tbody>\n",
              "    <tr>\n",
              "      <th>1.84</th>\n",
              "      <td>2</td>\n",
              "    </tr>\n",
              "    <tr>\n",
              "      <th>1.80</th>\n",
              "      <td>2</td>\n",
              "    </tr>\n",
              "    <tr>\n",
              "      <th>1.75</th>\n",
              "      <td>1</td>\n",
              "    </tr>\n",
              "    <tr>\n",
              "      <th>1.57</th>\n",
              "      <td>1</td>\n",
              "    </tr>\n",
              "    <tr>\n",
              "      <th>1.85</th>\n",
              "      <td>1</td>\n",
              "    </tr>\n",
              "    <tr>\n",
              "      <th>1.83</th>\n",
              "      <td>1</td>\n",
              "    </tr>\n",
              "  </tbody>\n",
              "</table>\n",
              "</div><br><label><b>dtype:</b> int64</label>"
            ]
          },
          "metadata": {},
          "execution_count": 33
        }
      ]
    },
    {
      "cell_type": "code",
      "source": [
        "import math\n",
        "\n",
        "\n",
        "ryad2 = [1.57, 1.75, 1.8, 1.83, 1.84, 1.85]\n",
        "absol2 = [1, 1, 2, 1, 2, 1] # вариационный ряд с абсолютными частотами\n",
        "otn2 = []\n",
        "for i in range(len(absol2)):\n",
        "    otn2.append(absol2[i] / sum(absol2))\n",
        "print(otn2) # вариационный ряд с относительными частотами\n",
        "m = int(1 + 3.332 * math.log10(sum(absol2))) # границ\n",
        "m"
      ],
      "metadata": {
        "colab": {
          "base_uri": "https://localhost:8080/"
        },
        "id": "IUZ_Rty4dled",
        "outputId": "4e8a9024-eb5b-4d86-98c4-c8ba3773c5d2"
      },
      "execution_count": null,
      "outputs": [
        {
          "output_type": "stream",
          "name": "stdout",
          "text": [
            "[0.125, 0.125, 0.25, 0.125, 0.25, 0.125]\n"
          ]
        },
        {
          "output_type": "execute_result",
          "data": {
            "text/plain": [
              "4"
            ]
          },
          "metadata": {},
          "execution_count": 55
        }
      ]
    },
    {
      "cell_type": "markdown",
      "source": [
        "3. Вариационный ряд"
      ],
      "metadata": {
        "id": "Le2A6Rnu5vF_"
      }
    },
    {
      "cell_type": "code",
      "source": [
        "sort_num2 = sorted(students['height'])\n",
        "sort_num2"
      ],
      "metadata": {
        "colab": {
          "base_uri": "https://localhost:8080/"
        },
        "id": "mfrFVl67aeUG",
        "outputId": "5c8a244c-b85e-48eb-ebab-95c1f63a198e"
      },
      "execution_count": null,
      "outputs": [
        {
          "output_type": "execute_result",
          "data": {
            "text/plain": [
              "[1.57, 1.75, 1.8, 1.8, 1.83, 1.84, 1.84, 1.85]"
            ]
          },
          "metadata": {},
          "execution_count": 56
        }
      ]
    },
    {
      "cell_type": "markdown",
      "source": [
        "4. Гистограмма распределения относительных частот для\n",
        "рассчитанных интервалов выборки"
      ],
      "metadata": {
        "id": "fxZyJcak6R8v"
      }
    },
    {
      "cell_type": "code",
      "source": [
        "max_ryad2 = max(ryad2)\n",
        "min_ryad2 = min(ryad2)\n",
        "h = (max_ryad2 - min_ryad2) / m\n",
        "h"
      ],
      "metadata": {
        "colab": {
          "base_uri": "https://localhost:8080/"
        },
        "id": "K7c8ToSGemWG",
        "outputId": "440e1c90-4897-4c04-956a-a91474f82e2c"
      },
      "execution_count": null,
      "outputs": [
        {
          "output_type": "execute_result",
          "data": {
            "text/plain": [
              "0.07"
            ]
          },
          "metadata": {},
          "execution_count": 57
        }
      ]
    },
    {
      "cell_type": "code",
      "source": [
        "first_height = round(min_ryad2 - (h / 2), 5)\n",
        "hh = []\n",
        "for i in range(m + 1):\n",
        "    hh.append(first_height)\n",
        "    first_height = round(first_height + h, 5)\n",
        "hh"
      ],
      "metadata": {
        "colab": {
          "base_uri": "https://localhost:8080/"
        },
        "id": "_rXgXoy7sWc-",
        "outputId": "b33f332b-3c24-4ac7-ae15-f6a6b84fae71"
      },
      "execution_count": null,
      "outputs": [
        {
          "output_type": "execute_result",
          "data": {
            "text/plain": [
              "[1.535, 1.605, 1.675, 1.745, 1.815]"
            ]
          },
          "metadata": {},
          "execution_count": 58
        }
      ]
    },
    {
      "cell_type": "code",
      "source": [
        "hist, _ = np.histogram(students['height'], bins=hh)\n",
        "print(hist)"
      ],
      "metadata": {
        "colab": {
          "base_uri": "https://localhost:8080/"
        },
        "id": "13dVCJt47WdD",
        "outputId": "2439e10a-4a37-416f-84b0-57bb32c001c1"
      },
      "execution_count": null,
      "outputs": [
        {
          "output_type": "stream",
          "name": "stdout",
          "text": [
            "[1 0 0 3]\n"
          ]
        }
      ]
    },
    {
      "cell_type": "code",
      "source": [
        "relative_frequencies = hist / len(hh)\n",
        "print(relative_frequencies)"
      ],
      "metadata": {
        "colab": {
          "base_uri": "https://localhost:8080/"
        },
        "id": "BolZSj0M7ene",
        "outputId": "f8d966ce-154e-4b66-a234-2615f5be3925"
      },
      "execution_count": null,
      "outputs": [
        {
          "output_type": "stream",
          "name": "stdout",
          "text": [
            "[0.2 0.  0.  0.6]\n"
          ]
        }
      ]
    },
    {
      "cell_type": "code",
      "source": [
        "plt.figure(figsize=(10, 8))\n",
        "plt.bar([f\"{hh[i], 2}-{hh[i+1], 2}\" for i in range(m)], relative_frequencies)\n",
        "plt.xlabel('Интервалы')\n",
        "plt.ylabel('Относительная частота')\n",
        "plt.title('Гистограмма распределения относительных частот')\n",
        "plt.show()"
      ],
      "metadata": {
        "colab": {
          "base_uri": "https://localhost:8080/",
          "height": 718
        },
        "id": "TMcqRubY7ncM",
        "outputId": "49d3b4cc-1817-422a-aba9-a07205493ce6"
      },
      "execution_count": null,
      "outputs": [
        {
          "output_type": "display_data",
          "data": {
            "text/plain": [
              "<Figure size 1000x800 with 1 Axes>"
            ],
            "image/png": "[encoded data removed]"
          },
          "metadata": {}
        }
      ]
    },
    {
      "cell_type": "code",
      "source": [
        "s_ryad2 = ['1.535 1.605', '1.605 1.675', '1.675 1.745', '1.745 1.815']\n",
        "otn21 = [otn2[0], 0, 0, sum(otn2[1:])]\n",
        "plt.figure(figsize=(10, 8))\n",
        "\n",
        "plt.bar(s_ryad2, otn21)\n",
        "plt.show()"
      ],
      "metadata": {
        "colab": {
          "base_uri": "https://localhost:8080/",
          "height": 676
        },
        "id": "OMY-Szt9gA6u",
        "outputId": "19b50bba-ef38-4b21-cd8f-3c892c35f26c"
      },
      "execution_count": null,
      "outputs": [
        {
          "output_type": "display_data",
          "data": {
            "text/plain": [
              "<Figure size 1000x800 with 1 Axes>"
            ],
            "image/png": "[encoded data removed]"
          },
          "metadata": {}
        }
      ]
    },
    {
      "cell_type": "markdown",
      "source": [
        "5. Эмпирическая функция распределения"
      ],
      "metadata": {
        "id": "5VeYDzDb6glO"
      }
    },
    {
      "cell_type": "code",
      "source": [
        "def emp_func(data):\n",
        "    sorted_data = np.sort(data)\n",
        "    n = len(data)\n",
        "    return sorted_data, np.arange(1, n + 1) / n\n",
        "\n",
        "\n",
        "x_h, y_h = emp_func(students['height'])\n",
        "\n",
        "plt.figure(figsize=(12, 6))\n",
        "\n",
        "plt.subplot(1, 2, 1)\n",
        "plt.step(x_h, y_h, where='post', label='Эмпирическая функция распределения', color = 'blue')\n",
        "plt.title('Эмпирическая функция распределения для height')\n",
        "plt.xlabel('Значения')\n",
        "plt.ylabel('Эмпирическая вероятность')\n",
        "plt.grid()\n",
        "plt.legend()\n",
        "\n",
        "\n",
        "plt.tight_layout()\n",
        "plt.show()"
      ],
      "metadata": {
        "colab": {
          "base_uri": "https://localhost:8080/",
          "height": 607
        },
        "id": "SZhC1OPr6ltr",
        "outputId": "e50ab402-e89e-4788-8df1-cfd0aa604374"
      },
      "execution_count": null,
      "outputs": [
        {
          "output_type": "display_data",
          "data": {
            "text/plain": [
              "<Figure size 1200x600 with 1 Axes>"
            ],
            "image/png": "[encoded data removed]"
          },
          "metadata": {}
        }
      ]
    },
    {
      "cell_type": "markdown",
      "source": [
        "6.1 Рассчитать выборочное среднее"
      ],
      "metadata": {
        "id": "GgZKQudW3Y7i"
      }
    },
    {
      "cell_type": "code",
      "source": [
        "sred2 = students['height'].sum() / len(students)\n",
        "sred2"
      ],
      "metadata": {
        "colab": {
          "base_uri": "https://localhost:8080/"
        },
        "id": "y2-BimFF3YtX",
        "outputId": "edb370a0-115c-4005-ac32-1e7397def468"
      },
      "execution_count": null,
      "outputs": [
        {
          "output_type": "execute_result",
          "data": {
            "text/plain": [
              "1.7850000000000001"
            ]
          },
          "metadata": {},
          "execution_count": 38
        }
      ]
    },
    {
      "cell_type": "markdown",
      "source": [
        "6.2 Рассчитать выборочную дисперсию"
      ],
      "metadata": {
        "id": "zrFbFwdk32u8"
      }
    },
    {
      "cell_type": "code",
      "source": [
        "c2 = []\n",
        "for i in range(len(students)):\n",
        "    c2.append((students['height'][i] - sred2) ** 2)\n",
        "\n",
        "v2 = sum(c2) / len(students)\n",
        "print(v2)"
      ],
      "metadata": {
        "colab": {
          "base_uri": "https://localhost:8080/"
        },
        "id": "aS6cgw11YoQ4",
        "outputId": "5ce8dcea-3882-4e24-8b7e-8d1fc5c7e5bf"
      },
      "execution_count": null,
      "outputs": [
        {
          "output_type": "stream",
          "name": "stdout",
          "text": [
            "0.007525000000000001\n"
          ]
        }
      ]
    },
    {
      "cell_type": "markdown",
      "source": [
        "6.3 Рассчитать выборочное стандартное отклонение"
      ],
      "metadata": {
        "id": "3rsGalky3_u6"
      }
    },
    {
      "cell_type": "code",
      "source": [
        "s2 = v2 ** 0.5\n",
        "print(s2)"
      ],
      "metadata": {
        "colab": {
          "base_uri": "https://localhost:8080/"
        },
        "id": "I7UNjJOyZDct",
        "outputId": "e151df15-5eb0-4460-95bc-5e08157eaeab"
      },
      "execution_count": null,
      "outputs": [
        {
          "output_type": "stream",
          "name": "stdout",
          "text": [
            "0.08674675786448736\n"
          ]
        }
      ]
    },
    {
      "cell_type": "markdown",
      "source": [
        "6.4 Рассчитать медиану и моду"
      ],
      "metadata": {
        "id": "PJrQJdXi4NxX"
      }
    },
    {
      "cell_type": "code",
      "source": [
        "n2 = len(sort_num2)\n",
        "if n2 % 2 == 0:\n",
        "    median2 = (sort_num2[n2 // 2 - 1] + sort_num2[n2 // 2]) / 2\n",
        "else:\n",
        "    median2 = sort_num2[n2 // 2]\n",
        "\n",
        "print(median2)"
      ],
      "metadata": {
        "colab": {
          "base_uri": "https://localhost:8080/"
        },
        "id": "tfTWwGeaZsZu",
        "outputId": "fe300568-8dcc-4737-b464-178a7fe92cf0"
      },
      "execution_count": null,
      "outputs": [
        {
          "output_type": "stream",
          "name": "stdout",
          "text": [
            "1.815\n"
          ]
        }
      ]
    },
    {
      "cell_type": "code",
      "source": [
        "import statistics\n",
        "\n",
        "\n",
        "print(statistics.mode(sort_num2))"
      ],
      "metadata": {
        "colab": {
          "base_uri": "https://localhost:8080/"
        },
        "id": "OQI43yjDk8PB",
        "outputId": "d91874a3-366d-4765-aeb2-703764eb2b7b"
      },
      "execution_count": null,
      "outputs": [
        {
          "output_type": "stream",
          "name": "stdout",
          "text": [
            "1.8\n"
          ]
        }
      ]
    },
    {
      "cell_type": "markdown",
      "source": [
        "6.5 Рассчитать коэффициент вариации"
      ],
      "metadata": {
        "id": "vUAQbkHn4QwF"
      }
    },
    {
      "cell_type": "code",
      "source": [
        "var2 = s2 / sred2\n",
        "print(var2)"
      ],
      "metadata": {
        "colab": {
          "base_uri": "https://localhost:8080/"
        },
        "id": "ayzhs2W3bZe5",
        "outputId": "02394638-abd2-46c6-d63d-45ea2f6ece85"
      },
      "execution_count": null,
      "outputs": [
        {
          "output_type": "stream",
          "name": "stdout",
          "text": [
            "0.04859762345349432\n"
          ]
        }
      ]
    }
  ]
}