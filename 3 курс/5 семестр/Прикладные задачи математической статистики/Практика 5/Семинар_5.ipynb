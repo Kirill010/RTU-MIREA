{
  "nbformat": 4,
  "nbformat_minor": 0,
  "metadata": {
    "colab": {
      "provenance": []
    },
    "kernelspec": {
      "name": "python3",
      "display_name": "Python 3"
    },
    "language_info": {
      "name": "python"
    }
  },
  "cells": [
    {
      "cell_type": "code",
      "execution_count": 1,
      "metadata": {
        "id": "WTPWxNjDpf4N"
      },
      "outputs": [],
      "source": [
        "import numpy as np\n",
        "import pandas as pd\n",
        "import scipy.stats\n",
        "import statsmodels.api as sm\n",
        "import matplotlib.pyplot as plt\n",
        "from math import *\n",
        "from sklearn.linear_model import LinearRegression"
      ]
    },
    {
      "cell_type": "markdown",
      "source": [
        "1. Оценить коэффициент корреляции Пирсона 𝑟(𝑥, 𝑦) между двумя переменными в первом и втором столбце"
      ],
      "metadata": {
        "id": "bp32RZzvEbgx"
      }
    },
    {
      "cell_type": "code",
      "source": [
        "x = []\n",
        "y = []"
      ],
      "metadata": {
        "id": "oHzkwrg1B6Mu"
      },
      "execution_count": 2,
      "outputs": []
    },
    {
      "cell_type": "code",
      "source": [
        "with open(\"/content/1.txt\",'r') as file1:\n",
        "    for i in file1:\n",
        "        temp = i.split(',')\n",
        "        x.append(float(temp[0]))\n",
        "        y.append(float(temp[1]))"
      ],
      "metadata": {
        "id": "P3DheOPktcup"
      },
      "execution_count": 3,
      "outputs": []
    },
    {
      "cell_type": "code",
      "source": [
        "sred_x = sum(x) / len(x)\n",
        "sred_y = sum(y) / len(y)\n",
        "sred_xy = sum([x * y for x, y in zip(x, y)]) / len(x)\n",
        "s_x = (sum(i ** 2 - sred_x ** 2 for i in x) / len(x)) ** 0.5\n",
        "s_y = (sum(j ** 2 - sred_y ** 2 for j in y) / len(y)) ** 0.5\n",
        "r = (sred_xy - sred_x * sred_y) / (s_x * s_y)\n",
        "print(\"Коэффициент корреляции Пирсона:\", r)"
      ],
      "metadata": {
        "colab": {
          "base_uri": "https://localhost:8080/"
        },
        "id": "kGAy7jcdFaPW",
        "outputId": "560fee76-c4d7-42d9-c35a-dc2fd38765f7"
      },
      "execution_count": 4,
      "outputs": [
        {
          "output_type": "stream",
          "name": "stdout",
          "text": [
            "Коэффициент корреляции Пирсона: 0.9837478356281872\n"
          ]
        }
      ]
    },
    {
      "cell_type": "markdown",
      "source": [
        "2. По шкале Чеддока оценить характеристику корреляционной связи между величинами"
      ],
      "metadata": {
        "id": "1_pWDhWJEiJE"
      }
    },
    {
      "cell_type": "code",
      "source": [
        "if abs(r) < 0:\n",
        "    print(\"Слабая связь\")\n",
        "elif abs(r) < 0.3:\n",
        "    print(\"Умеренная связь\")\n",
        "elif abs(r) < 0.7:\n",
        "    print(\"Заметная связь\")\n",
        "elif abs(r) < 0.9:\n",
        "    print(\"Высокая связь\")\n",
        "else:\n",
        "    print(\"Весьма высокая связь\")"
      ],
      "metadata": {
        "id": "3rng-WIq9_bN",
        "colab": {
          "base_uri": "https://localhost:8080/"
        },
        "outputId": "eeaaafd9-c226-4d91-bbf1-169a9d98f00c"
      },
      "execution_count": 5,
      "outputs": [
        {
          "output_type": "stream",
          "name": "stdout",
          "text": [
            "Весьма высокая связь\n"
          ]
        }
      ]
    },
    {
      "cell_type": "markdown",
      "source": [
        "3. Проверить статистическую значимость коэффициента корреляции Пирсона с помощью 𝑡-статистики"
      ],
      "metadata": {
        "id": "Esm0O0UYEmaJ"
      }
    },
    {
      "cell_type": "code",
      "source": [
        "t = r * ((len(x) - 2) / (1 - r ** 2)) ** 0.5\n",
        "print(\"Критерий Стьюдента (t):\", t)\n",
        "print(\"Критерий Стьюдента табличный (t)\", scipy.stats.t.ppf(1-0.05 / 2, len(x) - 2))\n",
        "print(scipy.stats.t.ppf(1 - 0.05 / 2, len(x) - 2) < t)"
      ],
      "metadata": {
        "colab": {
          "base_uri": "https://localhost:8080/"
        },
        "id": "tG0geJ_B-lwD",
        "outputId": "057babae-1d5f-4957-d424-d9e8332a18ac"
      },
      "execution_count": 6,
      "outputs": [
        {
          "output_type": "stream",
          "name": "stdout",
          "text": [
            "Критерий Стьюдента (t): 54.23729126263767\n",
            "Критерий Стьюдента табличный (t) 1.984467454426692\n",
            "True\n"
          ]
        }
      ]
    },
    {
      "cell_type": "markdown",
      "source": [
        "4. Построить линейную регрессию между столбцами, оценить значение коэффициентов линейной зависимости"
      ],
      "metadata": {
        "id": "AAUgHI48EqtH"
      }
    },
    {
      "cell_type": "code",
      "source": [
        "a1 = r * s_y / s_x\n",
        "b1 = sred_y - a1 * sred_x\n",
        "print(a1, b1)\n",
        "xf = np.linspace(5, 25, 100)\n",
        "yf = a1 * xf + b1\n",
        "plt.plot(xf, yf)\n",
        "plt.scatter(x, y, c='green')\n",
        "plt.grid()\n",
        "plt.legend(['Модель', 'Данные'])\n",
        "plt.show()"
      ],
      "metadata": {
        "id": "5NyaCXmE_4NO",
        "colab": {
          "base_uri": "https://localhost:8080/",
          "height": 447
        },
        "outputId": "405be8f0-0cb5-4635-d0e1-772f4dfbea66"
      },
      "execution_count": 7,
      "outputs": [
        {
          "output_type": "stream",
          "name": "stdout",
          "text": [
            "2.407560361275928 -2.343587204139169\n"
          ]
        },
        {
          "output_type": "display_data",
          "data": {
            "text/plain": [
              "<Figure size 640x480 with 1 Axes>"
            ],
            "image/png": "[encoded data removed]"
          },
          "metadata": {}
        }
      ]
    },
    {
      "cell_type": "markdown",
      "source": [
        "5. Оценить адекватность модели с использованием критерия Фишера"
      ],
      "metadata": {
        "id": "FeIrh5y2Ets-"
      }
    },
    {
      "cell_type": "code",
      "source": [
        "d_theta1 = 2\n",
        "\n",
        "S2_mod1 =  sum((i - j) ** 2 for i, j in zip(y, yf)) / (len(y) - d_theta1)\n",
        "\n",
        "S2_total1 = sum((e - sred_y) ** 2 for e in y) / (len(y) - 1)\n",
        "\n",
        "S2_M1 = min(S2_mod1, S2_total1)\n",
        "S2_B1 = max(S2_mod1, S2_total1)\n",
        "\n",
        "F1 = S2_B1 / S2_M1\n",
        "\n",
        "print(\"Критерий Фишера (F):\", F1)\n",
        "print(\"Критерий Фишера табличный(F):\", scipy.stats.f.ppf(0.05, len(x) - 2, len(x) - 1))\n",
        "print(scipy.stats.f.ppf(0.05, len(x) - 2, len(x) - 1) < F1)"
      ],
      "metadata": {
        "colab": {
          "base_uri": "https://localhost:8080/"
        },
        "id": "2-hP699oPRGv",
        "outputId": "abafa55f-c581-4616-fb92-3cd8f5238022"
      },
      "execution_count": 8,
      "outputs": [
        {
          "output_type": "stream",
          "name": "stdout",
          "text": [
            "Критерий Фишера (F): 30.703876399069895\n",
            "Критерий Фишера табличный(F): 0.7165989462583362\n",
            "True\n"
          ]
        }
      ]
    },
    {
      "cell_type": "markdown",
      "source": [
        "6. Оценить значимость полученных коэффициентов линейной регрессии"
      ],
      "metadata": {
        "id": "NZYhBEpcGzB_"
      }
    },
    {
      "cell_type": "code",
      "source": [
        "ma1 = (S2_mod1) ** 0.5 / (s_x * (len(x)) ** 0.5)\n",
        "mb1 = ((S2_mod1) * (sum(x ** 2 for x in x))) ** 0.5 / (s_x * len(x))\n",
        "\n",
        "Ta1 = a1 / ma1\n",
        "Tb1 = b1 / mb1\n",
        "\n",
        "print(Ta1)\n",
        "print(Tb1)\n",
        "print(\"Критерий Стьюдента  табличный (t)\", scipy.stats.t.ppf(1 - 0.05 / 2, len(x) - 2))\n",
        "print(scipy.stats.t.ppf(1 - 0.05 / 2, len(x) - 2) < Ta1)\n",
        "print(scipy.stats.t.ppf(1 - 0.05 / 2, len(x) - 2) < Tb1)"
      ],
      "metadata": {
        "colab": {
          "base_uri": "https://localhost:8080/"
        },
        "id": "gHeYCmObPVCN",
        "outputId": "23efd124-2ccc-4562-ec3e-2b3f36ff53be"
      },
      "execution_count": 9,
      "outputs": [
        {
          "output_type": "stream",
          "name": "stdout",
          "text": [
            "54.23729126263516\n",
            "-3.280548007976656\n",
            "Критерий Стьюдента  табличный (t) 1.984467454426692\n",
            "True\n",
            "False\n"
          ]
        }
      ]
    },
    {
      "cell_type": "markdown",
      "source": [
        "7. Построить доверительные интервалы для полученных коэффициентов"
      ],
      "metadata": {
        "id": "408NmPmZG11G"
      }
    },
    {
      "cell_type": "code",
      "source": [
        "af1 = a1 - scipy.stats.t.ppf(1-0.05/2, len(x)-2)*ma1\n",
        "af2 = a1 + scipy.stats.t.ppf(1-0.05/2, len(x)-2)*ma1\n",
        "bf1 = b1 - scipy.stats.t.ppf(1-0.05/2, len(x)-2)*mb1\n",
        "bf2 = b1 + scipy.stats.t.ppf(1-0.05/2, len(x)-2)*mb1\n",
        "print(af1, af2, bf1, bf2)\n",
        "\n",
        "plt.plot(xf, yf)\n",
        "plt.scatter(x, y)\n",
        "plt.legend(['Модель', 'Данные'])\n",
        "plt.plot(xf, af1*xf+bf1)\n",
        "plt.plot(xf, af2*xf+bf2)\n",
        "plt.show()"
      ],
      "metadata": {
        "colab": {
          "base_uri": "https://localhost:8080/",
          "height": 447
        },
        "id": "C9cOwEV-PX8S",
        "outputId": "1709290f-6530-46b2-b49c-08103a4843c2"
      },
      "execution_count": 10,
      "outputs": [
        {
          "output_type": "stream",
          "name": "stdout",
          "text": [
            "2.31947105832043 2.495649664231426 -3.761268799383825 -0.9259056088945128\n"
          ]
        },
        {
          "output_type": "display_data",
          "data": {
            "text/plain": [
              "<Figure size 640x480 with 1 Axes>"
            ],
            "image/png": "[encoded data removed]"
          },
          "metadata": {}
        }
      ]
    },
    {
      "cell_type": "markdown",
      "source": [
        "8. Оценить интервал прогноза для линейной модели на 𝜟𝒙 = 3 значения вперед"
      ],
      "metadata": {
        "id": "sU2ujYztG31z"
      }
    },
    {
      "cell_type": "code",
      "source": [
        "xi = 25.6\n",
        "yi = a1*xi+b1\n",
        "E = scipy.stats.t.ppf(1-0.05/2, len(x)-2)*(S2_mod1*(1+1/len(x)+(xi-sred_x)**2/(len(x)*s_x)))**0.5\n",
        "print('[', yi-E, ';', yi+E, ']', sep='')"
      ],
      "metadata": {
        "colab": {
          "base_uri": "https://localhost:8080/"
        },
        "id": "jvjC8HojPZyQ",
        "outputId": "a5e545a5-7639-40a2-d4ee-3ce36e7fe56d"
      },
      "execution_count": 11,
      "outputs": [
        {
          "output_type": "stream",
          "name": "stdout",
          "text": [
            "[53.656434809936066;64.92348127911312]\n"
          ]
        }
      ]
    },
    {
      "cell_type": "markdown",
      "source": [
        "1. С помощью теста Чоу обосновать необходимость деления выборки по одной из качественных факторных переменных. Произвести разбиение и построить две линейные регрессии, оценить коэффициенты моделей."
      ],
      "metadata": {
        "id": "wuYKY57SMZos"
      }
    },
    {
      "cell_type": "code",
      "source": [
        "x2 = []\n",
        "b2 = []\n",
        "d2 = []\n",
        "y2 = []"
      ],
      "metadata": {
        "id": "gLXbPRHVMYhs"
      },
      "execution_count": 12,
      "outputs": []
    },
    {
      "cell_type": "code",
      "source": [
        "with open(\"/content/2.txt\",'r') as file1:\n",
        "    for i in file1:\n",
        "        temp = i.split(',')\n",
        "        x2.append(float(temp[0]))\n",
        "        b2.append(float(temp[1]))\n",
        "        d2.append(float(temp[2]))\n",
        "        y2.append(float(temp[3]))"
      ],
      "metadata": {
        "id": "C1O_53rwtd9f"
      },
      "execution_count": 13,
      "outputs": []
    },
    {
      "cell_type": "code",
      "source": [
        "df = pd.DataFrame({'x': x2, 'y': y2, 'd': b2})\n",
        "df1 = df[df['d'] == 0]\n",
        "df2 = df[df['d'] == 1]"
      ],
      "metadata": {
        "id": "FGFKnpW1TSXF"
      },
      "execution_count": 14,
      "outputs": []
    },
    {
      "cell_type": "code",
      "source": [
        "xd1 = np.array(df['x'])\n",
        "yd1 = np.array(df['y'])\n",
        "reg1 = LinearRegression().fit(xd1.reshape((-1, 1)), yd1)\n",
        "yp1 = reg1.predict(xd1.reshape((-1, 1)))\n",
        "\n",
        "xd2 = np.array(df1['x'])\n",
        "yd2 = np.array(df1['y'])\n",
        "reg2 = LinearRegression().fit(xd2.reshape((-1, 1)), yd2)\n",
        "yp2 = reg2.predict(xd2.reshape((-1, 1)))\n",
        "\n",
        "xd3 = np.array(df2['x'])\n",
        "yd3 = np.array(df2['y'])\n",
        "reg3 = LinearRegression().fit(xd3.reshape((-1, 1)), yd3)\n",
        "yp3 = reg3.predict(xd3.reshape((-1, 1)))\n",
        "\n",
        "print(reg2.coef_[0], reg2.intercept_)\n",
        "print(reg3.coef_[0], reg3.intercept_)"
      ],
      "metadata": {
        "colab": {
          "base_uri": "https://localhost:8080/"
        },
        "id": "HUGYR8rkTSUR",
        "outputId": "96ed3017-bf0b-45f5-a145-bbe8950e3564"
      },
      "execution_count": 15,
      "outputs": [
        {
          "output_type": "stream",
          "name": "stdout",
          "text": [
            "2.3190864640698567 1.6959299168928865\n",
            "1.3086293145807264 0.3573450459105949\n"
          ]
        }
      ]
    },
    {
      "cell_type": "code",
      "source": [
        "plt.figure(figsize = (12, 6))\n",
        "plt.subplot(1, 2, 1)\n",
        "plt.scatter(xd2, yd2, color = 'orange')\n",
        "plt.plot(xd2, yp2)\n",
        "plt.legend(['d = 0', 'Модель'])\n",
        "plt.subplot(1, 2, 2)\n",
        "plt.scatter(xd3, yd3, color = 'orange')\n",
        "plt.plot(xd3, yp3)\n",
        "plt.legend(['d = 1', 'Модель'])\n",
        "plt.show()"
      ],
      "metadata": {
        "colab": {
          "base_uri": "https://localhost:8080/",
          "height": 522
        },
        "id": "j0XABQLMTSPQ",
        "outputId": "96ef6844-f010-4179-9ecb-ab7665c1c25f"
      },
      "execution_count": 16,
      "outputs": [
        {
          "output_type": "display_data",
          "data": {
            "text/plain": [
              "<Figure size 1200x600 with 2 Axes>"
            ],
            "image/png": "[encoded data removed]"
          },
          "metadata": {}
        }
      ]
    },
    {
      "cell_type": "code",
      "source": [
        "RSS = sum((y-y1)**2 for y, y1 in zip(yd1, yp1))\n",
        "RSS1 = sum((y-y1)**2 for y, y1 in zip(yd2, yp2))\n",
        "RSS2 = sum((y-y1)**2 for y, y1 in zip(yd3, yp3))"
      ],
      "metadata": {
        "id": "4wbDGAmNTSM0"
      },
      "execution_count": 17,
      "outputs": []
    },
    {
      "cell_type": "code",
      "source": [
        "F = ((RSS - RSS1 - RSS2)/2)/((RSS1 + RSS2)/(len(xd1)-2*2))\n",
        "print(F)\n",
        "print(scipy.stats.f.ppf(0.95, 2, len(xd1)-2*2))\n",
        "print(F > scipy.stats.f.ppf(0.95, 2, len(xd1)-2*2))"
      ],
      "metadata": {
        "colab": {
          "base_uri": "https://localhost:8080/"
        },
        "id": "wvAc08FbTSKI",
        "outputId": "571090f6-df14-4dcb-dc85-d03e1fbba087"
      },
      "execution_count": 18,
      "outputs": [
        {
          "output_type": "stream",
          "name": "stdout",
          "text": [
            "2240.60078345355\n",
            "3.0419902345156493\n",
            "True\n"
          ]
        }
      ]
    },
    {
      "cell_type": "code",
      "source": [
        "df = pd.DataFrame({'x': x2, 'y': y2, 'd': d2})\n",
        "df1 = df[df['d'] == 0]\n",
        "df2 = df[df['d'] == 1]"
      ],
      "metadata": {
        "id": "X_vJkvwOzW37"
      },
      "execution_count": 19,
      "outputs": []
    },
    {
      "cell_type": "code",
      "source": [
        "xd1 = np.array(df['x'])\n",
        "yd1 = np.array(df['y'])\n",
        "reg1 = LinearRegression().fit(xd1.reshape((-1, 1)), yd1)\n",
        "yp1 = reg1.predict(xd1.reshape((-1, 1)))\n",
        "\n",
        "xd2 = np.array(df1['x'])\n",
        "yd2 = np.array(df1['y'])\n",
        "reg2 = LinearRegression().fit(xd2.reshape((-1, 1)), yd2)\n",
        "yp2 = reg2.predict(xd2.reshape((-1, 1)))\n",
        "\n",
        "xd3 = np.array(df2['x'])\n",
        "yd3 = np.array(df2['y'])\n",
        "reg3 = LinearRegression().fit(xd3.reshape((-1, 1)), yd3)\n",
        "yp3 = reg3.predict(xd3.reshape((-1, 1)))\n",
        "\n",
        "print(reg2.coef_[0], reg2.intercept_)\n",
        "print(reg3.coef_[0], reg3.intercept_)"
      ],
      "metadata": {
        "colab": {
          "base_uri": "https://localhost:8080/"
        },
        "id": "jXw0xmY8_lKm",
        "outputId": "787285d2-e041-4ccb-ff31-b430e210da02"
      },
      "execution_count": 20,
      "outputs": [
        {
          "output_type": "stream",
          "name": "stdout",
          "text": [
            "1.9053856774117746 -0.07807157474107385\n",
            "1.7503005315059166 1.8898463264875431\n"
          ]
        }
      ]
    },
    {
      "cell_type": "code",
      "source": [
        "plt.figure(figsize = (12, 6))\n",
        "plt.subplot(1, 2, 1)\n",
        "plt.scatter(xd2, yd2, color = 'orange')\n",
        "plt.plot(xd2, yp2)\n",
        "plt.legend(['d = 0', 'Модель'])\n",
        "plt.subplot(1, 2, 2)\n",
        "plt.scatter(xd3, yd3, color = 'orange')\n",
        "plt.plot(xd3, yp3)\n",
        "plt.legend(['d = 1', 'Модель'])\n",
        "plt.show()"
      ],
      "metadata": {
        "colab": {
          "base_uri": "https://localhost:8080/",
          "height": 522
        },
        "id": "iIXB9xBb_lE2",
        "outputId": "daa90829-5a4b-453d-bd46-04c1a54590f4"
      },
      "execution_count": 21,
      "outputs": [
        {
          "output_type": "display_data",
          "data": {
            "text/plain": [
              "<Figure size 1200x600 with 2 Axes>"
            ],
            "image/png": "[encoded data removed]"
          },
          "metadata": {}
        }
      ]
    },
    {
      "cell_type": "code",
      "source": [
        "RSS = sum((y-y1)**2 for y, y1 in zip(yd1, yp1))\n",
        "RSS1 = sum((y-y1)**2 for y, y1 in zip(yd2, yp2))\n",
        "RSS2 = sum((y-y1)**2 for y, y1 in zip(yd3, yp3))"
      ],
      "metadata": {
        "id": "jHf1Ajs8_lCE"
      },
      "execution_count": 22,
      "outputs": []
    },
    {
      "cell_type": "code",
      "source": [
        "F = ((RSS - RSS1 - RSS2)/2)/((RSS1 + RSS2)/(len(xd1)-2*2))\n",
        "print(F)\n",
        "print(scipy.stats.f.ppf(0.95, 2, len(xd1)-2*2))\n",
        "print(F > scipy.stats.f.ppf(0.95, 2, len(xd1)-2*2))"
      ],
      "metadata": {
        "colab": {
          "base_uri": "https://localhost:8080/"
        },
        "id": "0tmRyZ_E_k-_",
        "outputId": "a5d1ce0c-fabe-44ca-ca31-9b4764478048"
      },
      "execution_count": 23,
      "outputs": [
        {
          "output_type": "stream",
          "name": "stdout",
          "text": [
            "0.2725076291641063\n",
            "3.0419902345156493\n",
            "False\n"
          ]
        }
      ]
    },
    {
      "cell_type": "markdown",
      "source": [
        "1. Построить линейную регрессию, оценить значения коэффициентов модели."
      ],
      "metadata": {
        "id": "7kMmFZz0N8Th"
      }
    },
    {
      "cell_type": "code",
      "source": [
        "w = []\n",
        "z = []"
      ],
      "metadata": {
        "id": "jVV2E0dPN34V"
      },
      "execution_count": 24,
      "outputs": []
    },
    {
      "cell_type": "code",
      "source": [
        "with open(\"/content/3.txt\",'r') as file1:\n",
        "    for i in file1:\n",
        "        temp = i.split(',')\n",
        "        w.append(float(temp[0]))\n",
        "        z.append(float(temp[1]))"
      ],
      "metadata": {
        "id": "J-58DC7JtfIe"
      },
      "execution_count": 25,
      "outputs": []
    },
    {
      "cell_type": "code",
      "source": [
        "plt.scatter(w, z)"
      ],
      "metadata": {
        "colab": {
          "base_uri": "https://localhost:8080/",
          "height": 447
        },
        "id": "lmvWUtbI48Lw",
        "outputId": "fc9c4c25-baaa-4bbd-b3af-5b2017fd932c"
      },
      "execution_count": 26,
      "outputs": [
        {
          "output_type": "execute_result",
          "data": {
            "text/plain": [
              "<matplotlib.collections.PathCollection at 0x7c80ee18b6d0>"
            ]
          },
          "metadata": {},
          "execution_count": 26
        },
        {
          "output_type": "display_data",
          "data": {
            "text/plain": [
              "<Figure size 640x480 with 1 Axes>"
            ],
            "image/png": "[encoded data removed]"
          },
          "metadata": {}
        }
      ]
    },
    {
      "cell_type": "code",
      "source": [
        "sax3 = sum(w) / len(w)\n",
        "say3 = sum(z) / len(z)\n",
        "sa3 = sum([x * y for x, y in zip(w, z)]) / len(w)\n",
        "sdx3 = (sum(x ** 2 - sax3 ** 2 for x in w) / len(w)) ** 0.5\n",
        "sdy3 = (sum(y ** 2 - say3 ** 2 for y in z) / len(z)) ** 0.5\n",
        "r3 = (sa3-sax3*say3) / (sdx3*sdy3)\n",
        "print(r3)"
      ],
      "metadata": {
        "colab": {
          "base_uri": "https://localhost:8080/"
        },
        "id": "3pHglHtX5F1x",
        "outputId": "70023a9d-3720-4da5-c3f3-721704f8b266"
      },
      "execution_count": 27,
      "outputs": [
        {
          "output_type": "stream",
          "name": "stdout",
          "text": [
            "0.19352142324127178\n"
          ]
        }
      ]
    },
    {
      "cell_type": "code",
      "source": [
        "t3 = r3 * ((len(w) - 2) / (1 - r3 ** 2)) ** 0.5\n",
        "print(\"Критерий Стьюдента (t):\", t3)\n",
        "print(\"Критерий Стьюдента  табличный (t)\", scipy.stats.t.ppf(1 - 0.05 / 2, len(x) - 2))\n",
        "print(scipy.stats.t.ppf(1 - 0.05 / 2, len(x) - 2) < t3)"
      ],
      "metadata": {
        "colab": {
          "base_uri": "https://localhost:8080/"
        },
        "id": "4ikN-hvD5Cs_",
        "outputId": "ad111c24-3da5-47ac-9f10-787bdeabd22c"
      },
      "execution_count": 28,
      "outputs": [
        {
          "output_type": "stream",
          "name": "stdout",
          "text": [
            "Критерий Стьюдента (t): 1.9526776711403289\n",
            "Критерий Стьюдента  табличный (t) 1.984467454426692\n",
            "False\n"
          ]
        }
      ]
    },
    {
      "cell_type": "code",
      "source": [
        "a3 = r3 * sdy3 / sdx3\n",
        "b3 = say3 - a3 * sax3\n",
        "print(a3, b3)\n",
        "\n",
        "xt = np.linspace(5, 25, 100)\n",
        "yt = a3 * xt + b3\n",
        "plt.plot(xt, yt)\n",
        "plt.scatter(w, z, c='green')\n",
        "plt.grid()\n",
        "plt.legend(['Модель', 'Данные'])\n",
        "plt.show()"
      ],
      "metadata": {
        "colab": {
          "base_uri": "https://localhost:8080/",
          "height": 447
        },
        "id": "Z7jqzZma5gaX",
        "outputId": "07f0d53e-837f-43c2-dea4-58ff99b37dc2"
      },
      "execution_count": 29,
      "outputs": [
        {
          "output_type": "stream",
          "name": "stdout",
          "text": [
            "1.1371651922687598 20.59876940378577\n"
          ]
        },
        {
          "output_type": "display_data",
          "data": {
            "text/plain": [
              "<Figure size 640x480 with 1 Axes>"
            ],
            "image/png": "[encoded data removed]"
          },
          "metadata": {}
        }
      ]
    },
    {
      "cell_type": "markdown",
      "source": [
        "2. Оценить значимость полученных коэффициентов и адекватность модели."
      ],
      "metadata": {
        "id": "u_ojzEbOONdb"
      }
    },
    {
      "cell_type": "code",
      "source": [
        "d_theta3 = 2\n",
        "\n",
        "S2_mod3 =  sum((yn - yp) ** 2 for yn, yp in zip(z, yt)) / (len(z) - d_theta3)\n",
        "\n",
        "S2_total3 = sum((y - say3) ** 2 for y in z) / (len(z) - 1)\n",
        "\n",
        "S2_M3 = min(S2_mod3, S2_total3)\n",
        "S2_B3 = max(S2_mod3, S2_total3)\n",
        "\n",
        "F3 = S2_B3 / S2_M3\n",
        "\n",
        "print(\"Критерий Фишера (F):\", F3)\n",
        "print(\"Критерий Фишера табличный(F):\", scipy.stats.f.ppf(0.05, len(w) - 2, len(w) - 1))\n",
        "print(scipy.stats.f.ppf(0.05, len(w) - 2, len(w) - 1) < F3)"
      ],
      "metadata": {
        "colab": {
          "base_uri": "https://localhost:8080/"
        },
        "id": "tYpb_v-DqbwM",
        "outputId": "e529988b-c006-4eb2-8cd0-55f7916b000d"
      },
      "execution_count": 30,
      "outputs": [
        {
          "output_type": "stream",
          "name": "stdout",
          "text": [
            "Критерий Фишера (F): 1.028413637246161\n",
            "Критерий Фишера табличный(F): 0.7165989462583362\n",
            "True\n"
          ]
        }
      ]
    },
    {
      "cell_type": "code",
      "source": [
        "ma3 = (S2_mod3) ** 0.5 / (sdx3 * (len(w)) ** 0.5)\n",
        "mb3 = ((S2_mod3) * (sum(x ** 2 for x in w))) ** 0.5 / (sdx3 * len(w))\n",
        "\n",
        "Ta3 = a3 / ma3\n",
        "Tb3 = b3 / mb3\n",
        "\n",
        "print(Ta3)\n",
        "print(Tb3)\n",
        "print(\"Критерий Стьюдента  табличный (t)\", scipy.stats.t.ppf(1 - 0.05 / 2, len(w) - 2))\n",
        "print(scipy.stats.t.ppf(1 - 0.05 / 2, len(w) - 2) < Ta3)\n",
        "print(scipy.stats.t.ppf(1 - 0.05 / 2, len(w) - 2) < Tb3)"
      ],
      "metadata": {
        "id": "kSFfSFTTOPoe",
        "colab": {
          "base_uri": "https://localhost:8080/"
        },
        "outputId": "d7899788-03c5-4065-eaf3-b6fa2deb0d62"
      },
      "execution_count": 31,
      "outputs": [
        {
          "output_type": "stream",
          "name": "stdout",
          "text": [
            "1.9526776711403286\n",
            "2.1978231844738296\n",
            "Критерий Стьюдента  табличный (t) 1.984467454426692\n",
            "False\n",
            "True\n"
          ]
        }
      ]
    },
    {
      "cell_type": "markdown",
      "source": [
        "3. Двумя способами (тест Спирмена и тест Гольдфельда-Квандта) определить, присутствует ли в данных гетероскедастичность"
      ],
      "metadata": {
        "id": "xnsM90GoOI5A"
      }
    },
    {
      "cell_type": "code",
      "source": [
        "# Тест Спирмена\n",
        "# Рассчитываем остатки моделя\n",
        "e = [yi - yxi for yi, yxi in zip(z, yt)]\n",
        "print(e[0:5])"
      ],
      "metadata": {
        "id": "SmfeJCeZ7DO6",
        "colab": {
          "base_uri": "https://localhost:8080/"
        },
        "outputId": "58f0310d-ddfd-47bf-9685-583a7d887ff3"
      },
      "execution_count": 32,
      "outputs": [
        {
          "output_type": "stream",
          "name": "stdout",
          "text": [
            "[-21.904027214228357, 3.352195943134184, -1.4646835681240908, -16.820437253018717, -5.623089882632531]\n"
          ]
        }
      ]
    },
    {
      "cell_type": "code",
      "source": [
        "data = pd.DataFrame({'x': w, 'y': z, 'e': e})\n",
        "data['rangX'] = data['x'].rank()\n",
        "data['rangE'] = data['e'].rank()\n",
        "data.head()"
      ],
      "metadata": {
        "colab": {
          "base_uri": "https://localhost:8080/",
          "height": 206
        },
        "id": "PPLqUbctsWPA",
        "outputId": "8fb0823e-be72-4518-e2a3-45aea17a7887"
      },
      "execution_count": 33,
      "outputs": [
        {
          "output_type": "execute_result",
          "data": {
            "text/plain": [
              "          x          y          e  rangX  rangE\n",
              "0  5.000000   4.380568 -21.904027    1.0   24.0\n",
              "1  5.202020  29.866522   3.352196    2.0   56.0\n",
              "2  5.404040  25.279372  -1.464684    3.0   47.0\n",
              "3  5.606061  10.153349 -16.820437    4.0   31.0\n",
              "4  5.808081  21.580427  -5.623090    5.0   45.0"
            ],
            "text/html": [
              "\n",
              "  <div id=\"df-1c0dbbc1-f59e-4d08-8ec9-30a8de557072\" class=\"colab-df-container\">\n",
              "    <div>\n",
              "<style scoped>\n",
              "    .dataframe tbody tr th:only-of-type {\n",
              "        vertical-align: middle;\n",
              "    }\n",
              "\n",
              "    .dataframe tbody tr th {\n",
              "        vertical-align: top;\n",
              "    }\n",
              "\n",
              "    .dataframe thead th {\n",
              "        text-align: right;\n",
              "    }\n",
              "</style>\n",
              "<table border=\"1\" class=\"dataframe\">\n",
              "  <thead>\n",
              "    <tr style=\"text-align: right;\">\n",
              "      <th></th>\n",
              "      <th>x</th>\n",
              "      <th>y</th>\n",
              "      <th>e</th>\n",
              "      <th>rangX</th>\n",
              "      <th>rangE</th>\n",
              "    </tr>\n",
              "  </thead>\n",
              "  <tbody>\n",
              "    <tr>\n",
              "      <th>0</th>\n",
              "      <td>5.000000</td>\n",
              "      <td>4.380568</td>\n",
              "      <td>-21.904027</td>\n",
              "      <td>1.0</td>\n",
              "      <td>24.0</td>\n",
              "    </tr>\n",
              "    <tr>\n",
              "      <th>1</th>\n",
              "      <td>5.202020</td>\n",
              "      <td>29.866522</td>\n",
              "      <td>3.352196</td>\n",
              "      <td>2.0</td>\n",
              "      <td>56.0</td>\n",
              "    </tr>\n",
              "    <tr>\n",
              "      <th>2</th>\n",
              "      <td>5.404040</td>\n",
              "      <td>25.279372</td>\n",
              "      <td>-1.464684</td>\n",
              "      <td>3.0</td>\n",
              "      <td>47.0</td>\n",
              "    </tr>\n",
              "    <tr>\n",
              "      <th>3</th>\n",
              "      <td>5.606061</td>\n",
              "      <td>10.153349</td>\n",
              "      <td>-16.820437</td>\n",
              "      <td>4.0</td>\n",
              "      <td>31.0</td>\n",
              "    </tr>\n",
              "    <tr>\n",
              "      <th>4</th>\n",
              "      <td>5.808081</td>\n",
              "      <td>21.580427</td>\n",
              "      <td>-5.623090</td>\n",
              "      <td>5.0</td>\n",
              "      <td>45.0</td>\n",
              "    </tr>\n",
              "  </tbody>\n",
              "</table>\n",
              "</div>\n",
              "    <div class=\"colab-df-buttons\">\n",
              "\n",
              "  <div class=\"colab-df-container\">\n",
              "    <button class=\"colab-df-convert\" onclick=\"convertToInteractive('df-1c0dbbc1-f59e-4d08-8ec9-30a8de557072')\"\n",
              "            title=\"Convert this dataframe to an interactive table.\"\n",
              "            style=\"display:none;\">\n",
              "\n",
              "  <svg xmlns=\"http://www.w3.org/2000/svg\" height=\"24px\" viewBox=\"0 -960 960 960\">\n",
              "    <path d=\"M120-120v-720h720v720H120Zm60-500h600v-160H180v160Zm220 220h160v-160H400v160Zm0 220h160v-160H400v160ZM180-400h160v-160H180v160Zm440 0h160v-160H620v160ZM180-180h160v-160H180v160Zm440 0h160v-160H620v160Z\"/>\n",
              "  </svg>\n",
              "    </button>\n",
              "\n",
              "  <style>\n",
              "    .colab-df-container {\n",
              "      display:flex;\n",
              "      gap: 12px;\n",
              "    }\n",
              "\n",
              "    .colab-df-convert {\n",
              "      background-color: #E8F0FE;\n",
              "      border: none;\n",
              "      border-radius: 50%;\n",
              "      cursor: pointer;\n",
              "      display: none;\n",
              "      fill: #1967D2;\n",
              "      height: 32px;\n",
              "      padding: 0 0 0 0;\n",
              "      width: 32px;\n",
              "    }\n",
              "\n",
              "    .colab-df-convert:hover {\n",
              "      background-color: #E2EBFA;\n",
              "      box-shadow: 0px 1px 2px rgba(60, 64, 67, 0.3), 0px 1px 3px 1px rgba(60, 64, 67, 0.15);\n",
              "      fill: #174EA6;\n",
              "    }\n",
              "\n",
              "    .colab-df-buttons div {\n",
              "      margin-bottom: 4px;\n",
              "    }\n",
              "\n",
              "    [theme=dark] .colab-df-convert {\n",
              "      background-color: #3B4455;\n",
              "      fill: #D2E3FC;\n",
              "    }\n",
              "\n",
              "    [theme=dark] .colab-df-convert:hover {\n",
              "      background-color: #434B5C;\n",
              "      box-shadow: 0px 1px 3px 1px rgba(0, 0, 0, 0.15);\n",
              "      filter: drop-shadow(0px 1px 2px rgba(0, 0, 0, 0.3));\n",
              "      fill: #FFFFFF;\n",
              "    }\n",
              "  </style>\n",
              "\n",
              "    <script>\n",
              "      const buttonEl =\n",
              "        document.querySelector('#df-1c0dbbc1-f59e-4d08-8ec9-30a8de557072 button.colab-df-convert');\n",
              "      buttonEl.style.display =\n",
              "        google.colab.kernel.accessAllowed ? 'block' : 'none';\n",
              "\n",
              "      async function convertToInteractive(key) {\n",
              "        const element = document.querySelector('#df-1c0dbbc1-f59e-4d08-8ec9-30a8de557072');\n",
              "        const dataTable =\n",
              "          await google.colab.kernel.invokeFunction('convertToInteractive',\n",
              "                                                    [key], {});\n",
              "        if (!dataTable) return;\n",
              "\n",
              "        const docLinkHtml = 'Like what you see? Visit the ' +\n",
              "          '<a target=\"_blank\" href=https://colab.research.google.com/notebooks/data_table.ipynb>data table notebook</a>'\n",
              "          + ' to learn more about interactive tables.';\n",
              "        element.innerHTML = '';\n",
              "        dataTable['output_type'] = 'display_data';\n",
              "        await google.colab.output.renderOutput(dataTable, element);\n",
              "        const docLink = document.createElement('div');\n",
              "        docLink.innerHTML = docLinkHtml;\n",
              "        element.appendChild(docLink);\n",
              "      }\n",
              "    </script>\n",
              "  </div>\n",
              "\n",
              "\n",
              "<div id=\"df-41368f4f-4efb-42c4-a9e7-4729b6ce530b\">\n",
              "  <button class=\"colab-df-quickchart\" onclick=\"quickchart('df-41368f4f-4efb-42c4-a9e7-4729b6ce530b')\"\n",
              "            title=\"Suggest charts\"\n",
              "            style=\"display:none;\">\n",
              "\n",
              "<svg xmlns=\"http://www.w3.org/2000/svg\" height=\"24px\"viewBox=\"0 0 24 24\"\n",
              "     width=\"24px\">\n",
              "    <g>\n",
              "        <path d=\"M19 3H5c-1.1 0-2 .9-2 2v14c0 1.1.9 2 2 2h14c1.1 0 2-.9 2-2V5c0-1.1-.9-2-2-2zM9 17H7v-7h2v7zm4 0h-2V7h2v10zm4 0h-2v-4h2v4z\"/>\n",
              "    </g>\n",
              "</svg>\n",
              "  </button>\n",
              "\n",
              "<style>\n",
              "  .colab-df-quickchart {\n",
              "      --bg-color: #E8F0FE;\n",
              "      --fill-color: #1967D2;\n",
              "      --hover-bg-color: #E2EBFA;\n",
              "      --hover-fill-color: #174EA6;\n",
              "      --disabled-fill-color: #AAA;\n",
              "      --disabled-bg-color: #DDD;\n",
              "  }\n",
              "\n",
              "  [theme=dark] .colab-df-quickchart {\n",
              "      --bg-color: #3B4455;\n",
              "      --fill-color: #D2E3FC;\n",
              "      --hover-bg-color: #434B5C;\n",
              "      --hover-fill-color: #FFFFFF;\n",
              "      --disabled-bg-color: #3B4455;\n",
              "      --disabled-fill-color: #666;\n",
              "  }\n",
              "\n",
              "  .colab-df-quickchart {\n",
              "    background-color: var(--bg-color);\n",
              "    border: none;\n",
              "    border-radius: 50%;\n",
              "    cursor: pointer;\n",
              "    display: none;\n",
              "    fill: var(--fill-color);\n",
              "    height: 32px;\n",
              "    padding: 0;\n",
              "    width: 32px;\n",
              "  }\n",
              "\n",
              "  .colab-df-quickchart:hover {\n",
              "    background-color: var(--hover-bg-color);\n",
              "    box-shadow: 0 1px 2px rgba(60, 64, 67, 0.3), 0 1px 3px 1px rgba(60, 64, 67, 0.15);\n",
              "    fill: var(--button-hover-fill-color);\n",
              "  }\n",
              "\n",
              "  .colab-df-quickchart-complete:disabled,\n",
              "  .colab-df-quickchart-complete:disabled:hover {\n",
              "    background-color: var(--disabled-bg-color);\n",
              "    fill: var(--disabled-fill-color);\n",
              "    box-shadow: none;\n",
              "  }\n",
              "\n",
              "  .colab-df-spinner {\n",
              "    border: 2px solid var(--fill-color);\n",
              "    border-color: transparent;\n",
              "    border-bottom-color: var(--fill-color);\n",
              "    animation:\n",
              "      spin 1s steps(1) infinite;\n",
              "  }\n",
              "\n",
              "  @keyframes spin {\n",
              "    0% {\n",
              "      border-color: transparent;\n",
              "      border-bottom-color: var(--fill-color);\n",
              "      border-left-color: var(--fill-color);\n",
              "    }\n",
              "    20% {\n",
              "      border-color: transparent;\n",
              "      border-left-color: var(--fill-color);\n",
              "      border-top-color: var(--fill-color);\n",
              "    }\n",
              "    30% {\n",
              "      border-color: transparent;\n",
              "      border-left-color: var(--fill-color);\n",
              "      border-top-color: var(--fill-color);\n",
              "      border-right-color: var(--fill-color);\n",
              "    }\n",
              "    40% {\n",
              "      border-color: transparent;\n",
              "      border-right-color: var(--fill-color);\n",
              "      border-top-color: var(--fill-color);\n",
              "    }\n",
              "    60% {\n",
              "      border-color: transparent;\n",
              "      border-right-color: var(--fill-color);\n",
              "    }\n",
              "    80% {\n",
              "      border-color: transparent;\n",
              "      border-right-color: var(--fill-color);\n",
              "      border-bottom-color: var(--fill-color);\n",
              "    }\n",
              "    90% {\n",
              "      border-color: transparent;\n",
              "      border-bottom-color: var(--fill-color);\n",
              "    }\n",
              "  }\n",
              "</style>\n",
              "\n",
              "  <script>\n",
              "    async function quickchart(key) {\n",
              "      const quickchartButtonEl =\n",
              "        document.querySelector('#' + key + ' button');\n",
              "      quickchartButtonEl.disabled = true;  // To prevent multiple clicks.\n",
              "      quickchartButtonEl.classList.add('colab-df-spinner');\n",
              "      try {\n",
              "        const charts = await google.colab.kernel.invokeFunction(\n",
              "            'suggestCharts', [key], {});\n",
              "      } catch (error) {\n",
              "        console.error('Error during call to suggestCharts:', error);\n",
              "      }\n",
              "      quickchartButtonEl.classList.remove('colab-df-spinner');\n",
              "      quickchartButtonEl.classList.add('colab-df-quickchart-complete');\n",
              "    }\n",
              "    (() => {\n",
              "      let quickchartButtonEl =\n",
              "        document.querySelector('#df-41368f4f-4efb-42c4-a9e7-4729b6ce530b button');\n",
              "      quickchartButtonEl.style.display =\n",
              "        google.colab.kernel.accessAllowed ? 'block' : 'none';\n",
              "    })();\n",
              "  </script>\n",
              "</div>\n",
              "    </div>\n",
              "  </div>\n"
            ],
            "application/vnd.google.colaboratory.intrinsic+json": {
              "type": "dataframe",
              "variable_name": "data",
              "summary": "{\n  \"name\": \"data\",\n  \"rows\": 100,\n  \"fields\": [\n    {\n      \"column\": \"x\",\n      \"properties\": {\n        \"dtype\": \"number\",\n        \"std\": 5.860907469875156,\n        \"min\": 5.0,\n        \"max\": 25.0,\n        \"num_unique_values\": 100,\n        \"samples\": [\n          21.767676767676768,\n          15.707070707070708,\n          19.141414141414142\n        ],\n        \"semantic_type\": \"\",\n        \"description\": \"\"\n      }\n    },\n    {\n      \"column\": \"y\",\n      \"properties\": {\n        \"dtype\": \"number\",\n        \"std\": 34.43970108436356,\n        \"min\": -64.50131212331675,\n        \"max\": 118.8862229971437,\n        \"num_unique_values\": 100,\n        \"samples\": [\n          58.73855277060084,\n          31.742006236782515,\n          96.4071666271899\n        ],\n        \"semantic_type\": \"\",\n        \"description\": \"\"\n      }\n    },\n    {\n      \"column\": \"e\",\n      \"properties\": {\n        \"dtype\": \"number\",\n        \"std\": 33.78865468688865,\n        \"min\": -110.31298654760684,\n        \"max\": 77.89888575217563,\n        \"num_unique_values\": 100,\n        \"samples\": [\n          13.386339030055701,\n          -6.718297247588325,\n          54.041447330986955\n        ],\n        \"semantic_type\": \"\",\n        \"description\": \"\"\n      }\n    },\n    {\n      \"column\": \"rangX\",\n      \"properties\": {\n        \"dtype\": \"number\",\n        \"std\": 29.011491975882016,\n        \"min\": 1.0,\n        \"max\": 100.0,\n        \"num_unique_values\": 100,\n        \"samples\": [\n          84.0,\n          54.0,\n          71.0\n        ],\n        \"semantic_type\": \"\",\n        \"description\": \"\"\n      }\n    },\n    {\n      \"column\": \"rangE\",\n      \"properties\": {\n        \"dtype\": \"number\",\n        \"std\": 29.011491975882016,\n        \"min\": 1.0,\n        \"max\": 100.0,\n        \"num_unique_values\": 100,\n        \"samples\": [\n          66.0,\n          43.0,\n          95.0\n        ],\n        \"semantic_type\": \"\",\n        \"description\": \"\"\n      }\n    }\n  ]\n}"
            }
          },
          "metadata": {},
          "execution_count": 33
        }
      ]
    },
    {
      "cell_type": "code",
      "source": [
        "rs = 1 - 6 * sum([(data['rangE'][i] - data['rangX'][i]) ** 2 for i in range(len(w))]) / (len(w) * ((len(w)) ** 2 - 1))\n",
        "ts = rs * (len(w) - 1) ** 0.5\n",
        "print(\"t:\", ts)\n",
        "print(\"Табличный t:\", scipy.stats.t.ppf(1 - 0.05 / 2, len(w) - 2))\n",
        "print(scipy.stats.t.ppf(1 - 0.05 / 2, len(w) - 2) < ts) # => Гетероскедастичность присутствует."
      ],
      "metadata": {
        "colab": {
          "base_uri": "https://localhost:8080/"
        },
        "id": "38d1YnmTsWEK",
        "outputId": "458d9487-393c-4d2e-9f9d-32999067a087"
      },
      "execution_count": 34,
      "outputs": [
        {
          "output_type": "stream",
          "name": "stdout",
          "text": [
            "t: 0.49603094074298254\n",
            "Табличный t: 1.984467454426692\n",
            "False\n"
          ]
        }
      ]
    },
    {
      "cell_type": "code",
      "source": [
        "rs"
      ],
      "metadata": {
        "id": "hvAPIrCEpgg_",
        "outputId": "4c789598-11f9-451d-f214-dd1ad29e02a9",
        "colab": {
          "base_uri": "https://localhost:8080/"
        }
      },
      "execution_count": 35,
      "outputs": [
        {
          "output_type": "execute_result",
          "data": {
            "text/plain": [
              "0.049852985298529884"
            ]
          },
          "metadata": {},
          "execution_count": 35
        }
      ]
    },
    {
      "cell_type": "code",
      "source": [
        "# Тест Гольдфельда-Квандта\n",
        "m = round(3 * len(w) / 8)\n",
        "print(m)"
      ],
      "metadata": {
        "id": "GtJC3VSv7DMr",
        "colab": {
          "base_uri": "https://localhost:8080/"
        },
        "outputId": "63d6d719-0dd6-456e-ee8c-a3b6607173bf"
      },
      "execution_count": 36,
      "outputs": [
        {
          "output_type": "stream",
          "name": "stdout",
          "text": [
            "38\n"
          ]
        }
      ]
    },
    {
      "cell_type": "code",
      "source": [
        "w1 = w[0:38]\n",
        "z1 = z[0:38]\n",
        "w2 = w[-38:]\n",
        "z2 = z[-38:]"
      ],
      "metadata": {
        "id": "OZJJExnr7DKF"
      },
      "execution_count": 37,
      "outputs": []
    },
    {
      "cell_type": "code",
      "source": [
        "sax31 = sum(w1)/len(w1)\n",
        "say31 = sum(z1)/len(z1)\n",
        "sa31 = sum([x*y for x, y in zip(w1, z1)])/len(w1)\n",
        "sdx31 = (sum(x**2-sax31**2 for x in w1)/len(w1))**0.5\n",
        "sdy31 = (sum(y**2-say3**2 for y in z)/len(z1))**0.5\n",
        "r31 = round((sa31-sax31*say31)/(sdx31*sdy31), 4)\n",
        "print(r31)"
      ],
      "metadata": {
        "colab": {
          "base_uri": "https://localhost:8080/"
        },
        "id": "TgUCB4iLvQx6",
        "outputId": "37351d45-5c75-4bac-f36d-0e64cd27167f"
      },
      "execution_count": 38,
      "outputs": [
        {
          "output_type": "stream",
          "name": "stdout",
          "text": [
            "0.0799\n"
          ]
        }
      ]
    },
    {
      "cell_type": "code",
      "source": [
        "t31 = r31*((len(w1)-2)/(1-r31**2))**0.5\n",
        "print(\"Критерий Стьюдента (t):\", t31)\n",
        "print(\"Критерий Стьюдента  табличный (t)\", scipy.stats.t.ppf(1-0.05/2, len(x)-2))\n",
        "print(scipy.stats.t.ppf(1-0.05/2, len(x)-2) < t31)"
      ],
      "metadata": {
        "colab": {
          "base_uri": "https://localhost:8080/"
        },
        "id": "GcV0kjOyvSZw",
        "outputId": "24ec4203-5013-472d-9593-bb9e592781a0"
      },
      "execution_count": 39,
      "outputs": [
        {
          "output_type": "stream",
          "name": "stdout",
          "text": [
            "Критерий Стьюдента (t): 0.48093761322987405\n",
            "Критерий Стьюдента  табличный (t) 1.984467454426692\n",
            "False\n"
          ]
        }
      ]
    },
    {
      "cell_type": "code",
      "source": [
        "a31 = r31*sdy31/sdx31\n",
        "b31 = say31 - a31*sax31\n",
        "\n",
        "xt = np.linspace(min(w1), max(w1), 100)\n",
        "yt1 = a31*xt+b31\n",
        "plt.plot(xt, yt1)\n",
        "plt.scatter(w1, z1, color = 'orange')\n",
        "plt.grid()\n",
        "plt.legend(['Модель', 'Данные'])\n",
        "plt.show()"
      ],
      "metadata": {
        "colab": {
          "base_uri": "https://localhost:8080/",
          "height": 430
        },
        "id": "hTsbSb2QvToq",
        "outputId": "c1901c8d-89d7-44a4-ee9f-55018ddc0447"
      },
      "execution_count": 40,
      "outputs": [
        {
          "output_type": "display_data",
          "data": {
            "text/plain": [
              "<Figure size 640x480 with 1 Axes>"
            ],
            "image/png": "[encoded data removed]"
          },
          "metadata": {}
        }
      ]
    },
    {
      "cell_type": "code",
      "source": [
        "a31"
      ],
      "metadata": {
        "colab": {
          "base_uri": "https://localhost:8080/"
        },
        "id": "4dl9ac5gorTm",
        "outputId": "b28dc715-33ff-4457-fd33-3fd93ebfee2c"
      },
      "execution_count": 41,
      "outputs": [
        {
          "output_type": "execute_result",
          "data": {
            "text/plain": [
              "2.0049087355385797"
            ]
          },
          "metadata": {},
          "execution_count": 41
        }
      ]
    },
    {
      "cell_type": "code",
      "source": [
        "b31"
      ],
      "metadata": {
        "colab": {
          "base_uri": "https://localhost:8080/"
        },
        "id": "cjEGOOfxosLl",
        "outputId": "904f4129-a44d-4adf-ea48-784ecf69fec4"
      },
      "execution_count": 42,
      "outputs": [
        {
          "output_type": "execute_result",
          "data": {
            "text/plain": [
              "7.742976282898958"
            ]
          },
          "metadata": {},
          "execution_count": 42
        }
      ]
    },
    {
      "cell_type": "code",
      "source": [
        "sax32 = sum(w2)/len(w2)\n",
        "say32 = sum(z2)/len(z2)\n",
        "sa32 = sum([x*y for x, y in zip(w2, z2)])/len(w2)\n",
        "sdx32 = (sum(x**2-sax32**2 for x in w2)/len(w2))**0.5\n",
        "sdy32 = (sum(y**2-say32**2 for y in z2)/len(z2))**0.5\n",
        "r32 = round((sa32-sax32*say32)/(sdx32*sdy32), 4)\n",
        "print(r32)"
      ],
      "metadata": {
        "colab": {
          "base_uri": "https://localhost:8080/"
        },
        "id": "yeWg3kJnvVRO",
        "outputId": "26d04063-00b3-4197-c024-642227057929"
      },
      "execution_count": 43,
      "outputs": [
        {
          "output_type": "stream",
          "name": "stdout",
          "text": [
            "-0.1821\n"
          ]
        }
      ]
    },
    {
      "cell_type": "code",
      "source": [
        "t32 = r32*((len(w2)-2)/(1-r32**2))**0.5\n",
        "print(\"Критерий Стьюдента (t):\", t32)\n",
        "print(\"Критерий Стьюдента  табличный (t)\", scipy.stats.t.ppf(1-0.05/2, len(x)-2))\n",
        "print(scipy.stats.t.ppf(1-0.05/2, len(x)-2) < t32)"
      ],
      "metadata": {
        "colab": {
          "base_uri": "https://localhost:8080/"
        },
        "id": "Q3WVpOnovZbS",
        "outputId": "7e20e0fa-edde-4d4c-ca39-80f9a005960c"
      },
      "execution_count": 44,
      "outputs": [
        {
          "output_type": "stream",
          "name": "stdout",
          "text": [
            "Критерий Стьюдента (t): -1.111178893239805\n",
            "Критерий Стьюдента  табличный (t) 1.984467454426692\n",
            "False\n"
          ]
        }
      ]
    },
    {
      "cell_type": "code",
      "source": [
        "a32 = r32*sdy32/sdx32\n",
        "b32 = say32 - a32*sax32\n",
        "\n",
        "xt = np.linspace(min(w2), max(w2), 100)\n",
        "yt2 = a32*xt+b32\n",
        "plt.plot(xt, yt2)\n",
        "plt.scatter(w2, z2, color = 'orange')\n",
        "plt.grid()\n",
        "plt.legend(['Модель', 'Данные'])\n",
        "plt.show()"
      ],
      "metadata": {
        "colab": {
          "base_uri": "https://localhost:8080/",
          "height": 430
        },
        "id": "C7_IAjP_vaoe",
        "outputId": "f3634d74-b588-4915-828f-c99e500564b7"
      },
      "execution_count": 45,
      "outputs": [
        {
          "output_type": "display_data",
          "data": {
            "text/plain": [
              "<Figure size 640x480 with 1 Axes>"
            ],
            "image/png": "[encoded data removed]"
          },
          "metadata": {}
        }
      ]
    },
    {
      "cell_type": "code",
      "source": [
        "F = (sum((y1 - y2)**2 for y1, y2 in zip(yt1, z[0:m]))/\n",
        "     sum((y1 - y2)**2 for y1, y2 in zip(yt2, z[-38:])))\n",
        "print(F)\n",
        "print(scipy.stats.f.ppf(1-0.05/2, m-1, m-1))\n",
        "print(scipy.stats.f.ppf(1-0.05/2, m-1, m-1) < F) # Дисперсии не равны"
      ],
      "metadata": {
        "colab": {
          "base_uri": "https://localhost:8080/"
        },
        "id": "8VFG5XzfvcAI",
        "outputId": "d8848396-f175-458d-9bce-2ca4047160f3"
      },
      "execution_count": 46,
      "outputs": [
        {
          "output_type": "stream",
          "name": "stdout",
          "text": [
            "0.2775183349292832\n",
            "1.9241131018183546\n",
            "False\n"
          ]
        }
      ]
    },
    {
      "cell_type": "code",
      "source": [],
      "metadata": {
        "id": "UzZAk4ylvfNt"
      },
      "execution_count": 46,
      "outputs": []
    }
  ]
}