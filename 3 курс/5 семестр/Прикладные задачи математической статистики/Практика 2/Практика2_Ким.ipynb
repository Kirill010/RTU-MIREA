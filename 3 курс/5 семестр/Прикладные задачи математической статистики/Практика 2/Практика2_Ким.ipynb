{
  "nbformat": 4,
  "nbformat_minor": 0,
  "metadata": {
    "colab": {
      "provenance": []
    },
    "kernelspec": {
      "name": "python3",
      "display_name": "Python 3"
    },
    "language_info": {
      "name": "python"
    }
  },
  "cells": [
    {
      "cell_type": "markdown",
      "source": [
        "Для выполнения практического задания необходимо:\n",
        "1. Открыть папку, соотвествующую своей группе.\n",
        "2. Открыть папку с вариантом, совпадающим с вашим номером в списке.\n",
        "В папке 4 файла с данными. Для каждого из файлов необходимо:\n",
        "а) Рассчитать точечные оценки мат. ожидания (генерального среднего) и среднеквадратического отклонения.\n",
        "б) Для этих же параметров рассчитать доверительные интервалы с надежностью 0.95. При рассчете доверительного интервала для мат. ожидания использовать 2 метода для ВСЕХ файлов: с помощью t-распределения и с помощью нормального распределения.\n",
        "3. Оформить отчет по проделанно работе. В отчете указать соответвующие оценки и формулы их получения.\n",
        "4. После предварительной защиты работы будут выданы истинные значения параметров распределения. Необходимо будет в выводе отразить, попали ли они в доверительные интервалы."
      ],
      "metadata": {
        "id": "D_08QJ9Te_WA"
      }
    },
    {
      "cell_type": "markdown",
      "source": [
        "# 1. Рассчитать точечные оценки математического ожидания и стандартного отклонения"
      ],
      "metadata": {
        "id": "lXLZoMnV1dOL"
      }
    },
    {
      "cell_type": "code",
      "source": [
        "import numpy as np"
      ],
      "metadata": {
        "id": "ggmXOPvIeKFY"
      },
      "execution_count": 1,
      "outputs": []
    },
    {
      "cell_type": "code",
      "source": [
        "with open(\"/content/1.txt\",'r') as file1:\n",
        "    temp = file1.readlines()\n",
        "    for i in range(len(temp)):\n",
        "        temp[i]=float(temp[i][:-1])\n",
        "    norm_dist_100 = np.array(temp)"
      ],
      "metadata": {
        "id": "ZKvqyjfWd4mi"
      },
      "execution_count": 2,
      "outputs": []
    },
    {
      "cell_type": "code",
      "source": [
        "with open(\"/content/2.txt\",'r') as file1:\n",
        "    temp = file1.readlines()\n",
        "    for i in range(len(temp)):\n",
        "        temp[i]=float(temp[i][:-1])\n",
        "    norm_dist_10 = np.array(temp)"
      ],
      "metadata": {
        "id": "WpQNeweKfoRy"
      },
      "execution_count": 3,
      "outputs": []
    },
    {
      "cell_type": "code",
      "source": [
        "with open(\"/content/3.txt\",'r') as file1:\n",
        "    temp = file1.readlines()\n",
        "    for i in range(len(temp)):\n",
        "        temp[i]=float(temp[i][:-1])\n",
        "    unif_dist_100 = np.array(temp)"
      ],
      "metadata": {
        "id": "-7VmMiBGfp4Z"
      },
      "execution_count": 4,
      "outputs": []
    },
    {
      "cell_type": "code",
      "source": [
        "with open(\"/content/4.txt\",'r') as file1:\n",
        "    temp = file1.readlines()\n",
        "    for i in range(len(temp)):\n",
        "        temp[i]=float(temp[i][:-1])\n",
        "    unif_dist_10 = np.array(temp)"
      ],
      "metadata": {
        "id": "z4Igaf8cfrJu"
      },
      "execution_count": 5,
      "outputs": []
    },
    {
      "cell_type": "markdown",
      "source": [
        "# **Математическое ожидание**"
      ],
      "metadata": {
        "id": "ShpYTYGKgpMI"
      }
    },
    {
      "cell_type": "code",
      "source": [
        "m1 = sum(norm_dist_100) / len(norm_dist_100)\n",
        "m1"
      ],
      "metadata": {
        "colab": {
          "base_uri": "https://localhost:8080/"
        },
        "id": "AXssJu6bgo-4",
        "outputId": "75a673ba-e760-4aec-95dd-829f2b45f7df"
      },
      "execution_count": 6,
      "outputs": [
        {
          "output_type": "execute_result",
          "data": {
            "text/plain": [
              "39.38832945039304"
            ]
          },
          "metadata": {},
          "execution_count": 6
        }
      ]
    },
    {
      "cell_type": "code",
      "source": [
        "m2 = sum(norm_dist_10) / len(norm_dist_10)\n",
        "m2"
      ],
      "metadata": {
        "colab": {
          "base_uri": "https://localhost:8080/"
        },
        "id": "0PLSB1EKgo8C",
        "outputId": "45cfa203-0b49-45ff-f39b-59a93af0facc"
      },
      "execution_count": 7,
      "outputs": [
        {
          "output_type": "execute_result",
          "data": {
            "text/plain": [
              "46.439891239277586"
            ]
          },
          "metadata": {},
          "execution_count": 7
        }
      ]
    },
    {
      "cell_type": "code",
      "source": [
        "m3 = sum(unif_dist_100) / len(unif_dist_100)\n",
        "m3"
      ],
      "metadata": {
        "colab": {
          "base_uri": "https://localhost:8080/"
        },
        "id": "YYCO22Ytgo2A",
        "outputId": "f2b2982b-c3b1-4240-ce89-8001e6351f1a"
      },
      "execution_count": 8,
      "outputs": [
        {
          "output_type": "execute_result",
          "data": {
            "text/plain": [
              "75.15875623172265"
            ]
          },
          "metadata": {},
          "execution_count": 8
        }
      ]
    },
    {
      "cell_type": "code",
      "source": [
        "m4 = sum(unif_dist_10) / len(unif_dist_10)\n",
        "m4"
      ],
      "metadata": {
        "colab": {
          "base_uri": "https://localhost:8080/"
        },
        "id": "2hOYgNB3gorZ",
        "outputId": "8989c173-de02-4c5e-f05c-0af3fba2eb89"
      },
      "execution_count": 9,
      "outputs": [
        {
          "output_type": "execute_result",
          "data": {
            "text/plain": [
              "43.7445138958043"
            ]
          },
          "metadata": {},
          "execution_count": 9
        }
      ]
    },
    {
      "cell_type": "markdown",
      "source": [
        "# **Стандартное отклонение**"
      ],
      "metadata": {
        "id": "Tkk2j_XiiAKL"
      }
    },
    {
      "cell_type": "code",
      "source": [
        "c1 = []\n",
        "for i in range(len(norm_dist_100)):\n",
        "    c1.append((norm_dist_100[i] - m1) ** 2)\n",
        "\n",
        "v1 = sum(c1) / len(norm_dist_100) # дисперсия\n",
        "s1 = v1 ** 0.5\n",
        "print(s1)"
      ],
      "metadata": {
        "colab": {
          "base_uri": "https://localhost:8080/"
        },
        "id": "XhHSCqBogomd",
        "outputId": "6c85a6aa-f88d-4a5d-a974-8e3eb2d3392b"
      },
      "execution_count": 10,
      "outputs": [
        {
          "output_type": "stream",
          "name": "stdout",
          "text": [
            "1.8058074686901993\n"
          ]
        }
      ]
    },
    {
      "cell_type": "code",
      "source": [
        "c2 = []\n",
        "for i in range(len(norm_dist_10)):\n",
        "    c2.append((norm_dist_10[i] - m2) ** 2)\n",
        "\n",
        "v2 = sum(c2) / len(norm_dist_10) # дисперсия\n",
        "s2 = v2 ** 0.5\n",
        "print(s2)"
      ],
      "metadata": {
        "colab": {
          "base_uri": "https://localhost:8080/"
        },
        "id": "uW8TFy7eindG",
        "outputId": "58c51068-9ec1-44b0-b78a-5b861d4b5e10"
      },
      "execution_count": 11,
      "outputs": [
        {
          "output_type": "stream",
          "name": "stdout",
          "text": [
            "7.6285985375939935\n"
          ]
        }
      ]
    },
    {
      "cell_type": "code",
      "source": [
        "c3 = []\n",
        "for i in range(len(unif_dist_100)):\n",
        "    c3.append((unif_dist_100[i] - m3) ** 2)\n",
        "\n",
        "v3 = sum(c3) / len(unif_dist_100) # дисперсия\n",
        "s3 = v3 ** 0.5\n",
        "print(s3)"
      ],
      "metadata": {
        "colab": {
          "base_uri": "https://localhost:8080/"
        },
        "id": "zxh07hSUinXt",
        "outputId": "aaf962dc-c8d5-42dc-a6f7-5fbddbd238b5"
      },
      "execution_count": 12,
      "outputs": [
        {
          "output_type": "stream",
          "name": "stdout",
          "text": [
            "8.828378776406373\n"
          ]
        }
      ]
    },
    {
      "cell_type": "code",
      "source": [
        "c4 = []\n",
        "for i in range(len(unif_dist_10)):\n",
        "    c4.append((unif_dist_10[i] - m4) ** 2)\n",
        "\n",
        "v4 = sum(c4) / len(unif_dist_10) # дисперсия\n",
        "s4 = v4 ** 0.5\n",
        "print(s4)"
      ],
      "metadata": {
        "colab": {
          "base_uri": "https://localhost:8080/"
        },
        "id": "0sI1tLgninPY",
        "outputId": "43977e92-2528-4c96-eee3-ade844246583"
      },
      "execution_count": 13,
      "outputs": [
        {
          "output_type": "stream",
          "name": "stdout",
          "text": [
            "5.869916694561608\n"
          ]
        }
      ]
    },
    {
      "cell_type": "markdown",
      "source": [
        "# 2. Найти границы доверительного интервала мат. ожидания по правилу нормального распределения, используя таблицу критических значений функции Лапласа Ф(x) = y / 2 = 0.475; y = 0.95; x = 1.96"
      ],
      "metadata": {
        "id": "yfEB1HLWzJVC"
      }
    },
    {
      "cell_type": "code",
      "source": [
        "left_100 = m1 - 1.96 * s1 / np.sqrt(100)\n",
        "right_100 = m1 + 1.96 * s1 / np.sqrt(100)\n",
        "print(f'Выборочное среднее для выборки размером 100 из нормальной ГС: {m1}')\n",
        "print(f'Для выборки размером 100 из нормальной ГС получен следующие границы интервала для матожидания: [{left_100}; {right_100}]')\n",
        "print(f'Ширина доверительного интервала: {right_100 - left_100}')"
      ],
      "metadata": {
        "colab": {
          "base_uri": "https://localhost:8080/"
        },
        "id": "53UpCjPLzJJL",
        "outputId": "35dd920e-0474-4fa5-a601-7589628f2833"
      },
      "execution_count": 14,
      "outputs": [
        {
          "output_type": "stream",
          "name": "stdout",
          "text": [
            "Выборочное среднее для выборки размером 100 из нормальной ГС: 39.38832945039304\n",
            "Для выборки размером 100 из нормальной ГС получен следующие границы интервала для матожидания: [39.03439118652976; 39.742267714256315]\n",
            "Ширина доверительного интервала: 0.7078765277265546\n"
          ]
        }
      ]
    },
    {
      "cell_type": "code",
      "source": [
        "left_10 = m2 - 1.96 * s2 / np.sqrt(10)\n",
        "right_10 = m2 + 1.96 * s2 / np.sqrt(10)\n",
        "print(f'Выборочное среднее для выборки размером 10 из нормальной ГС: {m2}')\n",
        "print(f'Для выборки размером 10 из нормальной ГС получен следующие границы интервала для матожидания: [{left_10}; {right_10}]')\n",
        "print(f'Ширина доверительного интервала: {right_10 - left_10}')"
      ],
      "metadata": {
        "colab": {
          "base_uri": "https://localhost:8080/"
        },
        "id": "ETqMSwv1zJGC",
        "outputId": "8f7312b5-927e-4217-f345-4782f29fc023"
      },
      "execution_count": 15,
      "outputs": [
        {
          "output_type": "stream",
          "name": "stdout",
          "text": [
            "Выборочное среднее для выборки размером 10 из нормальной ГС: 46.439891239277586\n",
            "Для выборки размером 10 из нормальной ГС получен следующие границы интервала для матожидания: [41.71163687944756; 51.16814559910761]\n",
            "Ширина доверительного интервала: 9.45650871966005\n"
          ]
        }
      ]
    },
    {
      "cell_type": "code",
      "source": [
        "left_un100 = m3 - 1.96 * s3 / np.sqrt(100)\n",
        "right_un100 = m3 + 1.96 * s3 / np.sqrt(100)\n",
        "print(f'Выборочное среднее для выборки размером 100 из равномерной ГС: {m3}')\n",
        "print(f'Для выборки размером 100 из равномерной ГС получен следующие границы интервала для матожидания: [{left_un100}; {right_un100}]')\n",
        "print(f'Ширина доверительного интервала: {right_un100 - left_un100}')"
      ],
      "metadata": {
        "colab": {
          "base_uri": "https://localhost:8080/"
        },
        "id": "Nfo4jQkTzJC7",
        "outputId": "3f413437-1102-42f4-c4a7-c7591387b7e2"
      },
      "execution_count": 16,
      "outputs": [
        {
          "output_type": "stream",
          "name": "stdout",
          "text": [
            "Выборочное среднее для выборки размером 100 из равномерной ГС: 75.15875623172265\n",
            "Для выборки размером 100 из равномерной ГС получен следующие границы интервала для матожидания: [73.428393991547; 76.8891184718983]\n",
            "Ширина доверительного интервала: 3.4607244803513026\n"
          ]
        }
      ]
    },
    {
      "cell_type": "code",
      "source": [
        "left_un10 = m4 - 1.96 * s4 / np.sqrt(10)\n",
        "right_un10 = m4 + 1.96 * s4 / np.sqrt(10)\n",
        "print(f'Выборочное среднее для выборки размером 10 из равномерной ГС: {m4}')\n",
        "print(f'Для выборки размером 10 из равномерной ГС получен следующие границы интервала для матожидания: [{left_un10}; {right_un10}]')\n",
        "print(f'Ширина доверительного интервала: {right_un10 - left_un10}')"
      ],
      "metadata": {
        "colab": {
          "base_uri": "https://localhost:8080/"
        },
        "id": "XlL7pweQzJAf",
        "outputId": "0777ca96-8c51-47de-dba2-d2f28f9b5ef5"
      },
      "execution_count": 17,
      "outputs": [
        {
          "output_type": "stream",
          "name": "stdout",
          "text": [
            "Выборочное среднее для выборки размером 10 из равномерной ГС: 43.7445138958043\n",
            "Для выборки размером 10 из равномерной ГС получен следующие границы интервала для матожидания: [40.10630183547303; 47.38272595613557]\n",
            "Ширина доверительного интервала: 7.27642412066254\n"
          ]
        }
      ]
    },
    {
      "cell_type": "markdown",
      "source": [
        "# 3.  По правилу t-распределения Стьюдента, используя таблицу критических значений 𝑡𝛾,𝑛 t-распределения при значении уверенности 𝛾 = 0.95\n"
      ],
      "metadata": {
        "id": "RWFsAtA41jyp"
      }
    },
    {
      "cell_type": "code",
      "source": [
        "left_ed100 = m1 - 1.98 * s1 / np.sqrt(100)\n",
        "right_e100 = m1 + 1.98 * s1 / np.sqrt(100)\n",
        "print(f'Выборочное среднее для выборки размером 100 из нормальной ГС: {m1}')\n",
        "print(f'Для выборки размером 100 из нормальной ГС получен следующие границы интервала для мат. ожидания: [{left_ed100}; {right_e100}]')\n",
        "print(f'Ширина доверительного интервала: {right_e100 - left_ed100}')"
      ],
      "metadata": {
        "id": "AkKbhmA2zI83",
        "colab": {
          "base_uri": "https://localhost:8080/"
        },
        "outputId": "82bc4c96-4347-454b-f58b-a6f50089b609"
      },
      "execution_count": 18,
      "outputs": [
        {
          "output_type": "stream",
          "name": "stdout",
          "text": [
            "Выборочное среднее для выборки размером 100 из нормальной ГС: 39.38832945039304\n",
            "Для выборки размером 100 из нормальной ГС получен следующие границы интервала для мат. ожидания: [39.030779571592376; 39.7458793291937]\n",
            "Ширина доверительного интервала: 0.7150997576013225\n"
          ]
        }
      ]
    },
    {
      "cell_type": "code",
      "source": [
        "left_ed10 = m2 - 2.26 * s2 / np.sqrt(10)\n",
        "right_ed10 = m2 + 2.26 * s2 / np.sqrt(10)\n",
        "print(f'Выборочное среднее для выборки размером 10 из нормальной ГС: {m2}')\n",
        "print(f'Для выборки размером 10 из нормальной ГС получен следующие границы интервала для мат. ожидания: [{left_ed10}; {right_ed10}]')\n",
        "print(f'Ширина доверительного интервала: {right_ed10 - left_ed10}')"
      ],
      "metadata": {
        "id": "w1mFNfUYzI2f",
        "colab": {
          "base_uri": "https://localhost:8080/"
        },
        "outputId": "74eed315-e31a-4219-944a-038d89c3d2aa"
      },
      "execution_count": 19,
      "outputs": [
        {
          "output_type": "stream",
          "name": "stdout",
          "text": [
            "Выборочное среднее для выборки размером 10 из нормальной ГС: 46.439891239277586\n",
            "Для выборки размером 10 из нормальной ГС получен следующие границы интервала для мат. ожидания: [40.98792447743276; 51.89185800112241]\n",
            "Ширина доверительного интервала: 10.903933523689645\n"
          ]
        }
      ]
    },
    {
      "cell_type": "code",
      "source": [
        "left_edun100 = m3 - 1.98 * s3 / np.sqrt(100)\n",
        "right_edun100 = m3 + 1.98 * s3 / np.sqrt(100)\n",
        "print(f'Выборочное среднее для выборки размером 100 из равномерной ГС: {m3}')\n",
        "print(f'Для выборки размером 100 из равномерной ГС получен следующие границы интервала для мат. ожидания: [{left_edun100}; {right_edun100}]')\n",
        "print(f'Ширина доверительного интервала: {right_edun100 - left_edun100}')"
      ],
      "metadata": {
        "id": "qwqob09_2j1I",
        "colab": {
          "base_uri": "https://localhost:8080/"
        },
        "outputId": "b009956b-0b23-416a-bb1d-196b95b56aa7"
      },
      "execution_count": 20,
      "outputs": [
        {
          "output_type": "stream",
          "name": "stdout",
          "text": [
            "Выборочное среднее для выборки размером 100 из равномерной ГС: 75.15875623172265\n",
            "Для выборки размером 100 из равномерной ГС получен следующие границы интервала для мат. ожидания: [73.41073723399418; 76.90677522945111]\n",
            "Ширина доверительного интервала: 3.4960379954569305\n"
          ]
        }
      ]
    },
    {
      "cell_type": "code",
      "source": [
        "left_edun10 = m4 - 2.26 * s4 / np.sqrt(10)\n",
        "right_edun10 = m4 + 2.26 * s4 / np.sqrt(10)\n",
        "print(f'Выборочное среднее для выборки размером 10 из равномерной ГС: {m4}')\n",
        "print(f'Для выборки размером 10 из равномерной ГС получен следующие границы интервала для мат. ожидания: [{left_edun10}; {right_edun10}]')\n",
        "print(f'Ширина доверительного интервала: {right_edun10 - left_edun10}')"
      ],
      "metadata": {
        "id": "ALAjk1V12jwK",
        "colab": {
          "base_uri": "https://localhost:8080/"
        },
        "outputId": "96fa77d7-5f53-4086-c931-106bc5e1be76"
      },
      "execution_count": 21,
      "outputs": [
        {
          "output_type": "stream",
          "name": "stdout",
          "text": [
            "Выборочное среднее для выборки размером 10 из равномерной ГС: 43.7445138958043\n",
            "Для выборки размером 10 из равномерной ГС получен следующие границы интервала для мат. ожидания: [39.549432642565186; 47.93959514904342]\n",
            "Ширина доверительного интервала: 8.390162506478234\n"
          ]
        }
      ]
    },
    {
      "cell_type": "markdown",
      "source": [
        "# 4.  Найти границы доверительного интервала для среднеквадратического отклонения по оценке 𝜒2-распределения при значении уверенности 𝛾 = 0.95"
      ],
      "metadata": {
        "id": "6CqeZMXA2Soq"
      }
    },
    {
      "cell_type": "code",
      "source": [
        "from scipy.stats import chi2"
      ],
      "metadata": {
        "id": "Kk9vIPAtmfXk"
      },
      "execution_count": 26,
      "outputs": []
    },
    {
      "cell_type": "code",
      "source": [
        "def quad_interval(std_dev, n, confidence_level=0.95):\n",
        "    alpha = 1 - confidence_level\n",
        "    chi2_lower = chi2.ppf(alpha / 2, df=n - 1)\n",
        "    chi2_upper = chi2.ppf(1 - alpha / 2, df=n - 1)\n",
        "    lower_bound_chi = std_dev * np.sqrt((n - 1) / chi2_upper)\n",
        "    upper_bound_chi = std_dev * np.sqrt((n - 1) / chi2_lower)\n",
        "    return (lower_bound_chi, upper_bound_chi)"
      ],
      "metadata": {
        "id": "GQa3DdHvmkfd"
      },
      "execution_count": 27,
      "outputs": []
    },
    {
      "cell_type": "code",
      "source": [
        "print(quad_interval(s1, 100, 0.95))"
      ],
      "metadata": {
        "colab": {
          "base_uri": "https://localhost:8080/"
        },
        "id": "sUcwznhNmmrG",
        "outputId": "446b19e1-db61-4b53-9352-6dd4be47f379"
      },
      "execution_count": 28,
      "outputs": [
        {
          "output_type": "stream",
          "name": "stdout",
          "text": [
            "(1.5855113189914307, 2.0977618522036208)\n"
          ]
        }
      ]
    },
    {
      "cell_type": "code",
      "source": [
        "print(quad_interval(s2, 10, 0.95))"
      ],
      "metadata": {
        "colab": {
          "base_uri": "https://localhost:8080/"
        },
        "id": "2YNdF18jm1-C",
        "outputId": "919feeb0-ae41-4ab6-d5e3-d46cad692749"
      },
      "execution_count": 29,
      "outputs": [
        {
          "output_type": "stream",
          "name": "stdout",
          "text": [
            "(5.247218652311081, 13.926847168585525)\n"
          ]
        }
      ]
    },
    {
      "cell_type": "code",
      "source": [
        "print(quad_interval(s3, 100, 0.95))"
      ],
      "metadata": {
        "colab": {
          "base_uri": "https://localhost:8080/"
        },
        "id": "AfGdlSmXm2YT",
        "outputId": "4a33882b-e784-4cc3-951f-52b480f3a419"
      },
      "execution_count": 30,
      "outputs": [
        {
          "output_type": "stream",
          "name": "stdout",
          "text": [
            "(7.751376999503043, 10.255709168919488)\n"
          ]
        }
      ]
    },
    {
      "cell_type": "code",
      "source": [
        "print(quad_interval(s4, 10, 0.95))"
      ],
      "metadata": {
        "colab": {
          "base_uri": "https://localhost:8080/"
        },
        "id": "77JjeRMGm3Ft",
        "outputId": "6c22e843-e833-4b2e-9043-521300b02a0b"
      },
      "execution_count": 32,
      "outputs": [
        {
          "output_type": "stream",
          "name": "stdout",
          "text": [
            "(4.0375353632031885, 10.71617968813331)\n"
          ]
        }
      ]
    },
    {
      "cell_type": "code",
      "source": [],
      "metadata": {
        "id": "OuzXplaxQQzX"
      },
      "execution_count": null,
      "outputs": []
    },
    {
      "cell_type": "code",
      "source": [],
      "metadata": {
        "id": "WthCk-ILQQwr"
      },
      "execution_count": null,
      "outputs": []
    }
  ]
}