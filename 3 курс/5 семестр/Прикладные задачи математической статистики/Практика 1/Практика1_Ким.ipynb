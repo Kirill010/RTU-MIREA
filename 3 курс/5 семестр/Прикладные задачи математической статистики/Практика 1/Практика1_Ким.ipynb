{
  "nbformat": 4,
  "nbformat_minor": 0,
  "metadata": {
    "colab": {
      "provenance": []
    },
    "kernelspec": {
      "name": "python3",
      "display_name": "Python 3"
    },
    "language_info": {
      "name": "python"
    }
  },
  "cells": [
    {
      "cell_type": "markdown",
      "source": [
        "# **Пункт 1**"
      ],
      "metadata": {
        "id": "BjMRaiYz6o_E"
      }
    },
    {
      "cell_type": "markdown",
      "source": [
        "Целочисленные данные"
      ],
      "metadata": {
        "id": "AenF7pAPuKpu"
      }
    },
    {
      "cell_type": "code",
      "execution_count": 52,
      "metadata": {
        "colab": {
          "base_uri": "https://localhost:8080/"
        },
        "id": "hH-RLLjsMWCt",
        "outputId": "4dd5246b-7de3-4212-8ee9-c2ee80c4392e"
      },
      "outputs": [
        {
          "output_type": "stream",
          "name": "stdout",
          "text": [
            "      name  num  height  month\n",
            "0  Timofey    7    1.84      1\n",
            "1   Kirill    0    1.75     11\n",
            "2   Bogdan    8    1.80     12\n",
            "3  Arseniy    2    1.84      9\n",
            "4     Aisa    1    1.57      1\n",
            "5    Vanya    0    1.85     12\n",
            "6     Dima    5    1.83      8\n",
            "7   Arthur    7    1.80     12\n"
          ]
        }
      ],
      "source": [
        "import pandas as pd\n",
        "import numpy as np\n",
        "\n",
        "\n",
        "students_marks_dict = {\"name\": [\"Timofey\", \"Kirill\", \"Bogdan\", \"Arseniy\", \"Aisa\", \"Vanya\", \"Dima\", \"Arthur\"],\n",
        "                        \"num\": [7, 0, 8, 2, 1, 0, 5, 7],\n",
        "                        \"height\": [1.84, 1.75, 1.80, 1.84, 1.57, 1.85, 1.83, 1.80],\n",
        "                        \"month\": [1, 11, 12, 9, 1, 12, 8, 12]}\n",
        "students = pd.DataFrame(students_marks_dict)\n",
        "print(students)"
      ]
    },
    {
      "cell_type": "code",
      "source": [
        "students.describe()"
      ],
      "metadata": {
        "colab": {
          "base_uri": "https://localhost:8080/",
          "height": 300
        },
        "id": "tAtIECKgQTCM",
        "outputId": "aafc1a9c-6e65-4368-d4f1-42869c326e5a"
      },
      "execution_count": 53,
      "outputs": [
        {
          "output_type": "execute_result",
          "data": {
            "text/plain": [
              "            num    height      month\n",
              "count  8.000000  8.000000   8.000000\n",
              "mean   3.750000  1.785000   8.250000\n",
              "std    3.370036  0.092736   4.713203\n",
              "min    0.000000  1.570000   1.000000\n",
              "25%    0.750000  1.787500   6.250000\n",
              "50%    3.500000  1.815000  10.000000\n",
              "75%    7.000000  1.840000  12.000000\n",
              "max    8.000000  1.850000  12.000000"
            ],
            "text/html": [
              "\n",
              "  <div id=\"df-89eef995-cb71-402f-868f-44886a8bf266\" class=\"colab-df-container\">\n",
              "    <div>\n",
              "<style scoped>\n",
              "    .dataframe tbody tr th:only-of-type {\n",
              "        vertical-align: middle;\n",
              "    }\n",
              "\n",
              "    .dataframe tbody tr th {\n",
              "        vertical-align: top;\n",
              "    }\n",
              "\n",
              "    .dataframe thead th {\n",
              "        text-align: right;\n",
              "    }\n",
              "</style>\n",
              "<table border=\"1\" class=\"dataframe\">\n",
              "  <thead>\n",
              "    <tr style=\"text-align: right;\">\n",
              "      <th></th>\n",
              "      <th>num</th>\n",
              "      <th>height</th>\n",
              "      <th>month</th>\n",
              "    </tr>\n",
              "  </thead>\n",
              "  <tbody>\n",
              "    <tr>\n",
              "      <th>count</th>\n",
              "      <td>8.000000</td>\n",
              "      <td>8.000000</td>\n",
              "      <td>8.000000</td>\n",
              "    </tr>\n",
              "    <tr>\n",
              "      <th>mean</th>\n",
              "      <td>3.750000</td>\n",
              "      <td>1.785000</td>\n",
              "      <td>8.250000</td>\n",
              "    </tr>\n",
              "    <tr>\n",
              "      <th>std</th>\n",
              "      <td>3.370036</td>\n",
              "      <td>0.092736</td>\n",
              "      <td>4.713203</td>\n",
              "    </tr>\n",
              "    <tr>\n",
              "      <th>min</th>\n",
              "      <td>0.000000</td>\n",
              "      <td>1.570000</td>\n",
              "      <td>1.000000</td>\n",
              "    </tr>\n",
              "    <tr>\n",
              "      <th>25%</th>\n",
              "      <td>0.750000</td>\n",
              "      <td>1.787500</td>\n",
              "      <td>6.250000</td>\n",
              "    </tr>\n",
              "    <tr>\n",
              "      <th>50%</th>\n",
              "      <td>3.500000</td>\n",
              "      <td>1.815000</td>\n",
              "      <td>10.000000</td>\n",
              "    </tr>\n",
              "    <tr>\n",
              "      <th>75%</th>\n",
              "      <td>7.000000</td>\n",
              "      <td>1.840000</td>\n",
              "      <td>12.000000</td>\n",
              "    </tr>\n",
              "    <tr>\n",
              "      <th>max</th>\n",
              "      <td>8.000000</td>\n",
              "      <td>1.850000</td>\n",
              "      <td>12.000000</td>\n",
              "    </tr>\n",
              "  </tbody>\n",
              "</table>\n",
              "</div>\n",
              "    <div class=\"colab-df-buttons\">\n",
              "\n",
              "  <div class=\"colab-df-container\">\n",
              "    <button class=\"colab-df-convert\" onclick=\"convertToInteractive('df-89eef995-cb71-402f-868f-44886a8bf266')\"\n",
              "            title=\"Convert this dataframe to an interactive table.\"\n",
              "            style=\"display:none;\">\n",
              "\n",
              "  <svg xmlns=\"http://www.w3.org/2000/svg\" height=\"24px\" viewBox=\"0 -960 960 960\">\n",
              "    <path d=\"M120-120v-720h720v720H120Zm60-500h600v-160H180v160Zm220 220h160v-160H400v160Zm0 220h160v-160H400v160ZM180-400h160v-160H180v160Zm440 0h160v-160H620v160ZM180-180h160v-160H180v160Zm440 0h160v-160H620v160Z\"/>\n",
              "  </svg>\n",
              "    </button>\n",
              "\n",
              "  <style>\n",
              "    .colab-df-container {\n",
              "      display:flex;\n",
              "      gap: 12px;\n",
              "    }\n",
              "\n",
              "    .colab-df-convert {\n",
              "      background-color: #E8F0FE;\n",
              "      border: none;\n",
              "      border-radius: 50%;\n",
              "      cursor: pointer;\n",
              "      display: none;\n",
              "      fill: #1967D2;\n",
              "      height: 32px;\n",
              "      padding: 0 0 0 0;\n",
              "      width: 32px;\n",
              "    }\n",
              "\n",
              "    .colab-df-convert:hover {\n",
              "      background-color: #E2EBFA;\n",
              "      box-shadow: 0px 1px 2px rgba(60, 64, 67, 0.3), 0px 1px 3px 1px rgba(60, 64, 67, 0.15);\n",
              "      fill: #174EA6;\n",
              "    }\n",
              "\n",
              "    .colab-df-buttons div {\n",
              "      margin-bottom: 4px;\n",
              "    }\n",
              "\n",
              "    [theme=dark] .colab-df-convert {\n",
              "      background-color: #3B4455;\n",
              "      fill: #D2E3FC;\n",
              "    }\n",
              "\n",
              "    [theme=dark] .colab-df-convert:hover {\n",
              "      background-color: #434B5C;\n",
              "      box-shadow: 0px 1px 3px 1px rgba(0, 0, 0, 0.15);\n",
              "      filter: drop-shadow(0px 1px 2px rgba(0, 0, 0, 0.3));\n",
              "      fill: #FFFFFF;\n",
              "    }\n",
              "  </style>\n",
              "\n",
              "    <script>\n",
              "      const buttonEl =\n",
              "        document.querySelector('#df-89eef995-cb71-402f-868f-44886a8bf266 button.colab-df-convert');\n",
              "      buttonEl.style.display =\n",
              "        google.colab.kernel.accessAllowed ? 'block' : 'none';\n",
              "\n",
              "      async function convertToInteractive(key) {\n",
              "        const element = document.querySelector('#df-89eef995-cb71-402f-868f-44886a8bf266');\n",
              "        const dataTable =\n",
              "          await google.colab.kernel.invokeFunction('convertToInteractive',\n",
              "                                                    [key], {});\n",
              "        if (!dataTable) return;\n",
              "\n",
              "        const docLinkHtml = 'Like what you see? Visit the ' +\n",
              "          '<a target=\"_blank\" href=https://colab.research.google.com/notebooks/data_table.ipynb>data table notebook</a>'\n",
              "          + ' to learn more about interactive tables.';\n",
              "        element.innerHTML = '';\n",
              "        dataTable['output_type'] = 'display_data';\n",
              "        await google.colab.output.renderOutput(dataTable, element);\n",
              "        const docLink = document.createElement('div');\n",
              "        docLink.innerHTML = docLinkHtml;\n",
              "        element.appendChild(docLink);\n",
              "      }\n",
              "    </script>\n",
              "  </div>\n",
              "\n",
              "\n",
              "<div id=\"df-bf29325f-4779-494c-841f-ac6d5889fd01\">\n",
              "  <button class=\"colab-df-quickchart\" onclick=\"quickchart('df-bf29325f-4779-494c-841f-ac6d5889fd01')\"\n",
              "            title=\"Suggest charts\"\n",
              "            style=\"display:none;\">\n",
              "\n",
              "<svg xmlns=\"http://www.w3.org/2000/svg\" height=\"24px\"viewBox=\"0 0 24 24\"\n",
              "     width=\"24px\">\n",
              "    <g>\n",
              "        <path d=\"M19 3H5c-1.1 0-2 .9-2 2v14c0 1.1.9 2 2 2h14c1.1 0 2-.9 2-2V5c0-1.1-.9-2-2-2zM9 17H7v-7h2v7zm4 0h-2V7h2v10zm4 0h-2v-4h2v4z\"/>\n",
              "    </g>\n",
              "</svg>\n",
              "  </button>\n",
              "\n",
              "<style>\n",
              "  .colab-df-quickchart {\n",
              "      --bg-color: #E8F0FE;\n",
              "      --fill-color: #1967D2;\n",
              "      --hover-bg-color: #E2EBFA;\n",
              "      --hover-fill-color: #174EA6;\n",
              "      --disabled-fill-color: #AAA;\n",
              "      --disabled-bg-color: #DDD;\n",
              "  }\n",
              "\n",
              "  [theme=dark] .colab-df-quickchart {\n",
              "      --bg-color: #3B4455;\n",
              "      --fill-color: #D2E3FC;\n",
              "      --hover-bg-color: #434B5C;\n",
              "      --hover-fill-color: #FFFFFF;\n",
              "      --disabled-bg-color: #3B4455;\n",
              "      --disabled-fill-color: #666;\n",
              "  }\n",
              "\n",
              "  .colab-df-quickchart {\n",
              "    background-color: var(--bg-color);\n",
              "    border: none;\n",
              "    border-radius: 50%;\n",
              "    cursor: pointer;\n",
              "    display: none;\n",
              "    fill: var(--fill-color);\n",
              "    height: 32px;\n",
              "    padding: 0;\n",
              "    width: 32px;\n",
              "  }\n",
              "\n",
              "  .colab-df-quickchart:hover {\n",
              "    background-color: var(--hover-bg-color);\n",
              "    box-shadow: 0 1px 2px rgba(60, 64, 67, 0.3), 0 1px 3px 1px rgba(60, 64, 67, 0.15);\n",
              "    fill: var(--button-hover-fill-color);\n",
              "  }\n",
              "\n",
              "  .colab-df-quickchart-complete:disabled,\n",
              "  .colab-df-quickchart-complete:disabled:hover {\n",
              "    background-color: var(--disabled-bg-color);\n",
              "    fill: var(--disabled-fill-color);\n",
              "    box-shadow: none;\n",
              "  }\n",
              "\n",
              "  .colab-df-spinner {\n",
              "    border: 2px solid var(--fill-color);\n",
              "    border-color: transparent;\n",
              "    border-bottom-color: var(--fill-color);\n",
              "    animation:\n",
              "      spin 1s steps(1) infinite;\n",
              "  }\n",
              "\n",
              "  @keyframes spin {\n",
              "    0% {\n",
              "      border-color: transparent;\n",
              "      border-bottom-color: var(--fill-color);\n",
              "      border-left-color: var(--fill-color);\n",
              "    }\n",
              "    20% {\n",
              "      border-color: transparent;\n",
              "      border-left-color: var(--fill-color);\n",
              "      border-top-color: var(--fill-color);\n",
              "    }\n",
              "    30% {\n",
              "      border-color: transparent;\n",
              "      border-left-color: var(--fill-color);\n",
              "      border-top-color: var(--fill-color);\n",
              "      border-right-color: var(--fill-color);\n",
              "    }\n",
              "    40% {\n",
              "      border-color: transparent;\n",
              "      border-right-color: var(--fill-color);\n",
              "      border-top-color: var(--fill-color);\n",
              "    }\n",
              "    60% {\n",
              "      border-color: transparent;\n",
              "      border-right-color: var(--fill-color);\n",
              "    }\n",
              "    80% {\n",
              "      border-color: transparent;\n",
              "      border-right-color: var(--fill-color);\n",
              "      border-bottom-color: var(--fill-color);\n",
              "    }\n",
              "    90% {\n",
              "      border-color: transparent;\n",
              "      border-bottom-color: var(--fill-color);\n",
              "    }\n",
              "  }\n",
              "</style>\n",
              "\n",
              "  <script>\n",
              "    async function quickchart(key) {\n",
              "      const quickchartButtonEl =\n",
              "        document.querySelector('#' + key + ' button');\n",
              "      quickchartButtonEl.disabled = true;  // To prevent multiple clicks.\n",
              "      quickchartButtonEl.classList.add('colab-df-spinner');\n",
              "      try {\n",
              "        const charts = await google.colab.kernel.invokeFunction(\n",
              "            'suggestCharts', [key], {});\n",
              "      } catch (error) {\n",
              "        console.error('Error during call to suggestCharts:', error);\n",
              "      }\n",
              "      quickchartButtonEl.classList.remove('colab-df-spinner');\n",
              "      quickchartButtonEl.classList.add('colab-df-quickchart-complete');\n",
              "    }\n",
              "    (() => {\n",
              "      let quickchartButtonEl =\n",
              "        document.querySelector('#df-bf29325f-4779-494c-841f-ac6d5889fd01 button');\n",
              "      quickchartButtonEl.style.display =\n",
              "        google.colab.kernel.accessAllowed ? 'block' : 'none';\n",
              "    })();\n",
              "  </script>\n",
              "</div>\n",
              "    </div>\n",
              "  </div>\n"
            ],
            "application/vnd.google.colaboratory.intrinsic+json": {
              "type": "dataframe",
              "summary": "{\n  \"name\": \"students\",\n  \"rows\": 8,\n  \"fields\": [\n    {\n      \"column\": \"num\",\n      \"properties\": {\n        \"dtype\": \"number\",\n        \"std\": 3.106898332784432,\n        \"min\": 0.0,\n        \"max\": 8.0,\n        \"num_unique_values\": 7,\n        \"samples\": [\n          8.0,\n          3.75,\n          3.5\n        ],\n        \"semantic_type\": \"\",\n        \"description\": \"\"\n      }\n    },\n    {\n      \"column\": \"height\",\n      \"properties\": {\n        \"dtype\": \"number\",\n        \"std\": 2.362131292967467,\n        \"min\": 0.09273618495495704,\n        \"max\": 8.0,\n        \"num_unique_values\": 8,\n        \"samples\": [\n          1.7850000000000001,\n          1.815,\n          8.0\n        ],\n        \"semantic_type\": \"\",\n        \"description\": \"\"\n      }\n    },\n    {\n      \"column\": \"month\",\n      \"properties\": {\n        \"dtype\": \"number\",\n        \"std\": 3.75174153851247,\n        \"min\": 1.0,\n        \"max\": 12.0,\n        \"num_unique_values\": 7,\n        \"samples\": [\n          8.0,\n          8.25,\n          10.0\n        ],\n        \"semantic_type\": \"\",\n        \"description\": \"\"\n      }\n    }\n  ]\n}"
            }
          },
          "metadata": {},
          "execution_count": 53
        }
      ]
    },
    {
      "cell_type": "markdown",
      "source": [
        "1. Вариационный ряд"
      ],
      "metadata": {
        "id": "PeqTP4eTuygD"
      }
    },
    {
      "cell_type": "code",
      "source": [
        "sort_num1 = sorted(students['num'])\n",
        "sort_num1"
      ],
      "metadata": {
        "colab": {
          "base_uri": "https://localhost:8080/"
        },
        "id": "zklGZ-NoQgPu",
        "outputId": "04dc0880-bc9a-404f-fda8-74e88a14f5ca"
      },
      "execution_count": 54,
      "outputs": [
        {
          "output_type": "execute_result",
          "data": {
            "text/plain": [
              "[0, 0, 1, 2, 5, 7, 7, 8]"
            ]
          },
          "metadata": {},
          "execution_count": 54
        }
      ]
    },
    {
      "cell_type": "code",
      "source": [
        "absolute_frequencies1 = students['num'].value_counts()\n",
        "absolute_frequencies1"
      ],
      "metadata": {
        "colab": {
          "base_uri": "https://localhost:8080/",
          "height": 303
        },
        "id": "-TyrU_1d4fOP",
        "outputId": "da7ef967-e25c-40c9-8a29-78b2f1d59d12"
      },
      "execution_count": 55,
      "outputs": [
        {
          "output_type": "execute_result",
          "data": {
            "text/plain": [
              "num\n",
              "7    2\n",
              "0    2\n",
              "8    1\n",
              "2    1\n",
              "1    1\n",
              "5    1\n",
              "Name: count, dtype: int64"
            ],
            "text/html": [
              "<div>\n",
              "<style scoped>\n",
              "    .dataframe tbody tr th:only-of-type {\n",
              "        vertical-align: middle;\n",
              "    }\n",
              "\n",
              "    .dataframe tbody tr th {\n",
              "        vertical-align: top;\n",
              "    }\n",
              "\n",
              "    .dataframe thead th {\n",
              "        text-align: right;\n",
              "    }\n",
              "</style>\n",
              "<table border=\"1\" class=\"dataframe\">\n",
              "  <thead>\n",
              "    <tr style=\"text-align: right;\">\n",
              "      <th></th>\n",
              "      <th>count</th>\n",
              "    </tr>\n",
              "    <tr>\n",
              "      <th>num</th>\n",
              "      <th></th>\n",
              "    </tr>\n",
              "  </thead>\n",
              "  <tbody>\n",
              "    <tr>\n",
              "      <th>7</th>\n",
              "      <td>2</td>\n",
              "    </tr>\n",
              "    <tr>\n",
              "      <th>0</th>\n",
              "      <td>2</td>\n",
              "    </tr>\n",
              "    <tr>\n",
              "      <th>8</th>\n",
              "      <td>1</td>\n",
              "    </tr>\n",
              "    <tr>\n",
              "      <th>2</th>\n",
              "      <td>1</td>\n",
              "    </tr>\n",
              "    <tr>\n",
              "      <th>1</th>\n",
              "      <td>1</td>\n",
              "    </tr>\n",
              "    <tr>\n",
              "      <th>5</th>\n",
              "      <td>1</td>\n",
              "    </tr>\n",
              "  </tbody>\n",
              "</table>\n",
              "</div><br><label><b>dtype:</b> int64</label>"
            ]
          },
          "metadata": {},
          "execution_count": 55
        }
      ]
    },
    {
      "cell_type": "code",
      "source": [
        "ryad1 = [0, 1, 2, 5, 7, 8]\n",
        "absol1 = [2, 1, 1, 1, 2, 1] # вариационный ряд с абсолютными частотами\n",
        "otn1 = []\n",
        "for i in range(len(absol1)):\n",
        "    otn1.append(absol1[i] / sum(absol1))\n",
        "print(otn1) # вариационный ряд с относительными частотами"
      ],
      "metadata": {
        "colab": {
          "base_uri": "https://localhost:8080/"
        },
        "id": "g_EjhimlRP8M",
        "outputId": "69e97846-8633-4008-bae0-8aa674d4a51d"
      },
      "execution_count": 56,
      "outputs": [
        {
          "output_type": "stream",
          "name": "stdout",
          "text": [
            "[0.25, 0.125, 0.125, 0.125, 0.25, 0.125]\n"
          ]
        }
      ]
    },
    {
      "cell_type": "markdown",
      "source": [
        "2. Полигон относительных частот вариационного ряда"
      ],
      "metadata": {
        "id": "7ttuJD2HvhAt"
      }
    },
    {
      "cell_type": "code",
      "source": [
        "import matplotlib.pyplot as plt\n",
        "\n",
        "\n",
        "plt.plot(ryad1, otn1)\n",
        "plt.show()"
      ],
      "metadata": {
        "colab": {
          "base_uri": "https://localhost:8080/",
          "height": 430
        },
        "id": "gje-rJTSSj5w",
        "outputId": "6a5a6211-e024-403c-c539-f43994cb3e47"
      },
      "execution_count": 57,
      "outputs": [
        {
          "output_type": "display_data",
          "data": {
            "text/plain": [
              "<Figure size 640x480 with 1 Axes>"
            ],
            "image/png": "[encoded data removed]"
          },
          "metadata": {}
        }
      ]
    },
    {
      "cell_type": "markdown",
      "source": [
        "3. Эмпирическая функция распределения"
      ],
      "metadata": {
        "id": "CC1HXzAH61Ql"
      }
    },
    {
      "cell_type": "code",
      "source": [
        "def emp_func(data):\n",
        "    sorted_data = np.sort(data)\n",
        "    n = len(data)\n",
        "    return sorted_data, np.arange(1, n + 1) / n\n",
        "\n",
        "\n",
        "x_num, y_num = emp_func(students['num'])\n",
        "\n",
        "plt.figure(figsize=(12, 6))\n",
        "plt.subplot(1, 2, 1)\n",
        "plt.step(x_num, y_num, where='post', label='Эмпирическая функция распределения', color = 'red')\n",
        "plt.title('Эмпирическая функция распределения для number')\n",
        "plt.xlabel('Значения')\n",
        "plt.ylabel('Эмпирическая вероятность')\n",
        "plt.grid()\n",
        "plt.legend()"
      ],
      "metadata": {
        "colab": {
          "base_uri": "https://localhost:8080/",
          "height": 581
        },
        "id": "jt4dtPPE62QC",
        "outputId": "75e7f3d5-9420-4bfe-bebb-db27d04ac2a7"
      },
      "execution_count": 58,
      "outputs": [
        {
          "output_type": "execute_result",
          "data": {
            "text/plain": [
              "<matplotlib.legend.Legend at 0x7f5189402320>"
            ]
          },
          "metadata": {},
          "execution_count": 58
        },
        {
          "output_type": "display_data",
          "data": {
            "text/plain": [
              "<Figure size 1200x600 with 1 Axes>"
            ],
            "image/png": "[encoded data removed]"
          },
          "metadata": {}
        }
      ]
    },
    {
      "cell_type": "markdown",
      "source": [
        "4.1 Рассчитать выборочное среднее"
      ],
      "metadata": {
        "id": "7O07D9fdwMFj"
      }
    },
    {
      "cell_type": "code",
      "source": [
        "sred1 = students['num'].sum() / len(students)\n",
        "sred1"
      ],
      "metadata": {
        "colab": {
          "base_uri": "https://localhost:8080/"
        },
        "id": "Ltl-WhMdPpyk",
        "outputId": "1f75dce7-918c-4d58-8a17-e859260666ea"
      },
      "execution_count": 59,
      "outputs": [
        {
          "output_type": "execute_result",
          "data": {
            "text/plain": [
              "3.75"
            ]
          },
          "metadata": {},
          "execution_count": 59
        }
      ]
    },
    {
      "cell_type": "markdown",
      "source": [
        "4.2 Рассчитать выборочную дисперсию"
      ],
      "metadata": {
        "id": "OoPJSt8ywWoM"
      }
    },
    {
      "cell_type": "code",
      "source": [
        "c1 = []\n",
        "for i in range(len(students)):\n",
        "    c1.append((students['num'][i] - sred1) ** 2)\n",
        "\n",
        "v1 = sum(c1) / len(students)\n",
        "print(v1)"
      ],
      "metadata": {
        "colab": {
          "base_uri": "https://localhost:8080/"
        },
        "id": "JcdoFpw1XVX-",
        "outputId": "b51b857e-385a-47d1-8c00-9c661795cb8d"
      },
      "execution_count": 60,
      "outputs": [
        {
          "output_type": "stream",
          "name": "stdout",
          "text": [
            "9.9375\n"
          ]
        }
      ]
    },
    {
      "cell_type": "markdown",
      "source": [
        "4.3 Рассчитать выборочное стандартное отклонение"
      ],
      "metadata": {
        "id": "bKwlwkWAwda1"
      }
    },
    {
      "cell_type": "code",
      "source": [
        "s1 = v1 ** 0.5\n",
        "print(s1)"
      ],
      "metadata": {
        "colab": {
          "base_uri": "https://localhost:8080/"
        },
        "id": "bjxU_ClvW3IJ",
        "outputId": "aac8a96d-58b3-4d00-ba49-5331b64f77a8"
      },
      "execution_count": 61,
      "outputs": [
        {
          "output_type": "stream",
          "name": "stdout",
          "text": [
            "3.152380053229623\n"
          ]
        }
      ]
    },
    {
      "cell_type": "markdown",
      "source": [
        "4.4 Рассчитать медиану и моду"
      ],
      "metadata": {
        "id": "m7idxEPvwiUu"
      }
    },
    {
      "cell_type": "code",
      "source": [
        "n1 = len(sort_num1)\n",
        "if n1 % 2 == 0:\n",
        "    median1 = (sort_num1[n1 // 2 - 1] + sort_num1[n1 // 2]) / 2\n",
        "else:\n",
        "    median1 = sort_num1[n1 // 2]\n",
        "\n",
        "print(median1)"
      ],
      "metadata": {
        "colab": {
          "base_uri": "https://localhost:8080/"
        },
        "id": "Om_p-EX-aI45",
        "outputId": "d40c6316-3cc7-464e-842f-8c2e1a3f7f9c"
      },
      "execution_count": 62,
      "outputs": [
        {
          "output_type": "stream",
          "name": "stdout",
          "text": [
            "3.5\n"
          ]
        }
      ]
    },
    {
      "cell_type": "code",
      "source": [
        "import statistics\n",
        "\n",
        "\n",
        "print(statistics.mode(sort_num1))"
      ],
      "metadata": {
        "colab": {
          "base_uri": "https://localhost:8080/"
        },
        "id": "WDKvWk0Fk8VT",
        "outputId": "c9519ddd-d5d0-402b-986b-1af5270e557d"
      },
      "execution_count": 63,
      "outputs": [
        {
          "output_type": "stream",
          "name": "stdout",
          "text": [
            "0\n"
          ]
        }
      ]
    },
    {
      "cell_type": "markdown",
      "source": [
        "4.5 Рассчитать коэффициент вариации"
      ],
      "metadata": {
        "id": "5ohyv_kWwnhk"
      }
    },
    {
      "cell_type": "code",
      "source": [
        "var1 = s1 / sred1\n",
        "print(var1)"
      ],
      "metadata": {
        "colab": {
          "base_uri": "https://localhost:8080/"
        },
        "id": "8Hjz5p-tbMbJ",
        "outputId": "f008800b-9047-4fef-a004-5833fce5c66b"
      },
      "execution_count": 64,
      "outputs": [
        {
          "output_type": "stream",
          "name": "stdout",
          "text": [
            "0.8406346808612327\n"
          ]
        }
      ]
    },
    {
      "cell_type": "markdown",
      "source": [
        "# **Пункт 3**"
      ],
      "metadata": {
        "id": "R2CM6JwP64RH"
      }
    },
    {
      "cell_type": "markdown",
      "source": [
        "1. Вариационный ряд"
      ],
      "metadata": {
        "id": "ntTFp0ltxCh1"
      }
    },
    {
      "cell_type": "code",
      "source": [
        "sort_num3 = sorted(students['month'])\n",
        "sort_num3"
      ],
      "metadata": {
        "colab": {
          "base_uri": "https://localhost:8080/"
        },
        "id": "l6jTgIh2pZ4B",
        "outputId": "c8ed2316-5b0a-4abc-b339-280c6dc1f75b"
      },
      "execution_count": 65,
      "outputs": [
        {
          "output_type": "execute_result",
          "data": {
            "text/plain": [
              "[1, 1, 8, 9, 11, 12, 12, 12]"
            ]
          },
          "metadata": {},
          "execution_count": 65
        }
      ]
    },
    {
      "cell_type": "code",
      "source": [
        "absolute_frequencies2 = students['month'].value_counts()\n",
        "absolute_frequencies2"
      ],
      "metadata": {
        "colab": {
          "base_uri": "https://localhost:8080/",
          "height": 272
        },
        "id": "uZ-jwFAM5Dm5",
        "outputId": "b7f8c65b-d855-487d-da00-08cde6d60b15"
      },
      "execution_count": 66,
      "outputs": [
        {
          "output_type": "execute_result",
          "data": {
            "text/plain": [
              "month\n",
              "12    3\n",
              "1     2\n",
              "11    1\n",
              "9     1\n",
              "8     1\n",
              "Name: count, dtype: int64"
            ],
            "text/html": [
              "<div>\n",
              "<style scoped>\n",
              "    .dataframe tbody tr th:only-of-type {\n",
              "        vertical-align: middle;\n",
              "    }\n",
              "\n",
              "    .dataframe tbody tr th {\n",
              "        vertical-align: top;\n",
              "    }\n",
              "\n",
              "    .dataframe thead th {\n",
              "        text-align: right;\n",
              "    }\n",
              "</style>\n",
              "<table border=\"1\" class=\"dataframe\">\n",
              "  <thead>\n",
              "    <tr style=\"text-align: right;\">\n",
              "      <th></th>\n",
              "      <th>count</th>\n",
              "    </tr>\n",
              "    <tr>\n",
              "      <th>month</th>\n",
              "      <th></th>\n",
              "    </tr>\n",
              "  </thead>\n",
              "  <tbody>\n",
              "    <tr>\n",
              "      <th>12</th>\n",
              "      <td>3</td>\n",
              "    </tr>\n",
              "    <tr>\n",
              "      <th>1</th>\n",
              "      <td>2</td>\n",
              "    </tr>\n",
              "    <tr>\n",
              "      <th>11</th>\n",
              "      <td>1</td>\n",
              "    </tr>\n",
              "    <tr>\n",
              "      <th>9</th>\n",
              "      <td>1</td>\n",
              "    </tr>\n",
              "    <tr>\n",
              "      <th>8</th>\n",
              "      <td>1</td>\n",
              "    </tr>\n",
              "  </tbody>\n",
              "</table>\n",
              "</div><br><label><b>dtype:</b> int64</label>"
            ]
          },
          "metadata": {},
          "execution_count": 66
        }
      ]
    },
    {
      "cell_type": "code",
      "source": [
        "ryad3 = [1, 8, 9, 11, 12]\n",
        "absol3 = [2, 1, 1, 1, 3] # вариационный ряд с абсолютными частотами\n",
        "otn3 = []\n",
        "for i in range(len(absol3)):\n",
        "    otn3.append(absol3[i] / sum(absol3))\n",
        "print(otn3) # вариационный ряд с относительными частотами"
      ],
      "metadata": {
        "colab": {
          "base_uri": "https://localhost:8080/"
        },
        "id": "TE8MRVeupm3B",
        "outputId": "5a934cc1-a852-45b4-b18d-dab66d7db069"
      },
      "execution_count": 67,
      "outputs": [
        {
          "output_type": "stream",
          "name": "stdout",
          "text": [
            "[0.25, 0.125, 0.125, 0.125, 0.375]\n"
          ]
        }
      ]
    },
    {
      "cell_type": "markdown",
      "source": [
        "2. Полигон относительных частот вариационного ряда"
      ],
      "metadata": {
        "id": "nzTHUWwpxhU-"
      }
    },
    {
      "cell_type": "code",
      "source": [
        "import matplotlib.pyplot as plt\n",
        "\n",
        "\n",
        "plt.plot(ryad3, otn3)\n",
        "plt.show()"
      ],
      "metadata": {
        "colab": {
          "base_uri": "https://localhost:8080/",
          "height": 430
        },
        "id": "jxA-CB2Kp3qz",
        "outputId": "8235f2b4-57cf-4c88-d988-36420e720fe1"
      },
      "execution_count": 68,
      "outputs": [
        {
          "output_type": "display_data",
          "data": {
            "text/plain": [
              "<Figure size 640x480 with 1 Axes>"
            ],
            "image/png": "[encoded data removed]"
          },
          "metadata": {}
        }
      ]
    },
    {
      "cell_type": "markdown",
      "source": [
        "3. Эмпирическая функция распределения"
      ],
      "metadata": {
        "id": "u2EzobiJ7Imq"
      }
    },
    {
      "cell_type": "code",
      "source": [
        "def emp_func(data):\n",
        "    sorted_data = np.sort(data)\n",
        "    n = len(data)\n",
        "    return sorted_data, np.arange(1, n + 1) / n\n",
        "\n",
        "\n",
        "x_num, y_num = emp_func(students['num'])\n",
        "x_month, y_month = emp_func(students['month'])\n",
        "\n",
        "plt.figure(figsize=(12, 6))\n",
        "\n",
        "plt.subplot(1, 2, 2)\n",
        "plt.step(x_month, y_month, where='post', label='Эмпирическая функция распределения', color='green')\n",
        "plt.title('Эмпирическая функция распределения для month')\n",
        "plt.xlabel('Значения')\n",
        "plt.ylabel('Эмпирическая вероятность')\n",
        "plt.grid()\n",
        "plt.legend()\n",
        "\n",
        "plt.tight_layout()\n",
        "plt.show()"
      ],
      "metadata": {
        "colab": {
          "base_uri": "https://localhost:8080/",
          "height": 607
        },
        "id": "7wg-8fV57I3_",
        "outputId": "a237a3db-575b-404f-b5f5-9c44c7b62b20"
      },
      "execution_count": 69,
      "outputs": [
        {
          "output_type": "display_data",
          "data": {
            "text/plain": [
              "<Figure size 1200x600 with 1 Axes>"
            ],
            "image/png": "[encoded data removed]"
          },
          "metadata": {}
        }
      ]
    },
    {
      "cell_type": "markdown",
      "source": [
        "4.1 Рассчитать выборочное среднее"
      ],
      "metadata": {
        "id": "H4GYnTyfx_kT"
      }
    },
    {
      "cell_type": "code",
      "source": [
        "sred3 = students['month'].sum() / len(students)\n",
        "sred3"
      ],
      "metadata": {
        "colab": {
          "base_uri": "https://localhost:8080/"
        },
        "id": "Tbe6w1xlw4B0",
        "outputId": "31de0101-43a7-4f21-f563-ea5284a4a765"
      },
      "execution_count": 70,
      "outputs": [
        {
          "output_type": "execute_result",
          "data": {
            "text/plain": [
              "8.25"
            ]
          },
          "metadata": {},
          "execution_count": 70
        }
      ]
    },
    {
      "cell_type": "markdown",
      "source": [
        "4.2 Рассчитать выборочную дисперсию"
      ],
      "metadata": {
        "id": "-ghy0Dsp2M-W"
      }
    },
    {
      "cell_type": "code",
      "source": [
        "c3 = []\n",
        "for i in range(len(students)):\n",
        "    c3.append((students['month'][i] - sred3) ** 2)\n",
        "\n",
        "v3 = sum(c3) / len(students)\n",
        "print(v3)"
      ],
      "metadata": {
        "colab": {
          "base_uri": "https://localhost:8080/"
        },
        "id": "t_8ywWZEqRon",
        "outputId": "bd5ed9bc-7e60-469f-e48f-cad1cfaa578f"
      },
      "execution_count": 71,
      "outputs": [
        {
          "output_type": "stream",
          "name": "stdout",
          "text": [
            "19.4375\n"
          ]
        }
      ]
    },
    {
      "cell_type": "markdown",
      "source": [
        "4.3 Рассчитать выборочное стандартное отклонение"
      ],
      "metadata": {
        "id": "H_k93u7w2gRD"
      }
    },
    {
      "cell_type": "code",
      "source": [
        "s3 = v3 ** 0.5\n",
        "print(s3)"
      ],
      "metadata": {
        "colab": {
          "base_uri": "https://localhost:8080/"
        },
        "id": "NgKuFx1DqZhS",
        "outputId": "f6e29232-933b-4895-acff-7f6e33c375c6"
      },
      "execution_count": 72,
      "outputs": [
        {
          "output_type": "stream",
          "name": "stdout",
          "text": [
            "4.408798022137099\n"
          ]
        }
      ]
    },
    {
      "cell_type": "markdown",
      "source": [
        "4.4 Рассчитать медиану и моду"
      ],
      "metadata": {
        "id": "9IAW_yo-2n5D"
      }
    },
    {
      "cell_type": "code",
      "source": [
        "n3 = len(sort_num3)\n",
        "if n3 % 2 == 0:\n",
        "    median3 = (sort_num3[n3 // 2 - 1] + sort_num3[n3 // 2]) / 2\n",
        "else:\n",
        "    median3 = sort_num3[n3 // 2]\n",
        "\n",
        "print(median3)"
      ],
      "metadata": {
        "colab": {
          "base_uri": "https://localhost:8080/"
        },
        "id": "7ukg6-lPqdZr",
        "outputId": "e55ca34f-b880-440b-8ba1-adb82bc4e9d2"
      },
      "execution_count": 73,
      "outputs": [
        {
          "output_type": "stream",
          "name": "stdout",
          "text": [
            "10.0\n"
          ]
        }
      ]
    },
    {
      "cell_type": "code",
      "source": [
        "import statistics\n",
        "\n",
        "\n",
        "print(statistics.mode(sort_num3))"
      ],
      "metadata": {
        "colab": {
          "base_uri": "https://localhost:8080/"
        },
        "id": "xvCKvzoGq3sW",
        "outputId": "faacb9fe-7078-4486-b66a-b8770a712cde"
      },
      "execution_count": 74,
      "outputs": [
        {
          "output_type": "stream",
          "name": "stdout",
          "text": [
            "12\n"
          ]
        }
      ]
    },
    {
      "cell_type": "markdown",
      "source": [
        "4.5 Рассчитать коэффициент вариации"
      ],
      "metadata": {
        "id": "SAgomdRo3Adz"
      }
    },
    {
      "cell_type": "code",
      "source": [
        "var3 = s3 / sred3\n",
        "print(var3)"
      ],
      "metadata": {
        "colab": {
          "base_uri": "https://localhost:8080/"
        },
        "id": "1jq7NGhjciiv",
        "outputId": "644834a6-ecea-44e6-d71a-17e5afc5133a"
      },
      "execution_count": 75,
      "outputs": [
        {
          "output_type": "stream",
          "name": "stdout",
          "text": [
            "0.5343997602590423\n"
          ]
        }
      ]
    },
    {
      "cell_type": "markdown",
      "source": [
        "# **Пункт 2**"
      ],
      "metadata": {
        "id": "c9bq4HZQ6-YR"
      }
    },
    {
      "cell_type": "markdown",
      "source": [
        "1. Рассчитать число групп (интервалов) m для квантования исходных данных по правилу Стёрджесса\n",
        "2. Вычислить значения m+1 границ групп для значений выборки по\n",
        "правилу фиксированной величины интервала"
      ],
      "metadata": {
        "id": "SGgOSu725VM-"
      }
    },
    {
      "cell_type": "code",
      "source": [
        "absolute_frequencies3 = students['height'].value_counts()\n",
        "absolute_frequencies3"
      ],
      "metadata": {
        "colab": {
          "base_uri": "https://localhost:8080/",
          "height": 303
        },
        "id": "OIP2RNAA5Ova",
        "outputId": "e986500f-4347-4379-c7e7-88385f029bf3"
      },
      "execution_count": 76,
      "outputs": [
        {
          "output_type": "execute_result",
          "data": {
            "text/plain": [
              "height\n",
              "1.84    2\n",
              "1.80    2\n",
              "1.75    1\n",
              "1.57    1\n",
              "1.85    1\n",
              "1.83    1\n",
              "Name: count, dtype: int64"
            ],
            "text/html": [
              "<div>\n",
              "<style scoped>\n",
              "    .dataframe tbody tr th:only-of-type {\n",
              "        vertical-align: middle;\n",
              "    }\n",
              "\n",
              "    .dataframe tbody tr th {\n",
              "        vertical-align: top;\n",
              "    }\n",
              "\n",
              "    .dataframe thead th {\n",
              "        text-align: right;\n",
              "    }\n",
              "</style>\n",
              "<table border=\"1\" class=\"dataframe\">\n",
              "  <thead>\n",
              "    <tr style=\"text-align: right;\">\n",
              "      <th></th>\n",
              "      <th>count</th>\n",
              "    </tr>\n",
              "    <tr>\n",
              "      <th>height</th>\n",
              "      <th></th>\n",
              "    </tr>\n",
              "  </thead>\n",
              "  <tbody>\n",
              "    <tr>\n",
              "      <th>1.84</th>\n",
              "      <td>2</td>\n",
              "    </tr>\n",
              "    <tr>\n",
              "      <th>1.80</th>\n",
              "      <td>2</td>\n",
              "    </tr>\n",
              "    <tr>\n",
              "      <th>1.75</th>\n",
              "      <td>1</td>\n",
              "    </tr>\n",
              "    <tr>\n",
              "      <th>1.57</th>\n",
              "      <td>1</td>\n",
              "    </tr>\n",
              "    <tr>\n",
              "      <th>1.85</th>\n",
              "      <td>1</td>\n",
              "    </tr>\n",
              "    <tr>\n",
              "      <th>1.83</th>\n",
              "      <td>1</td>\n",
              "    </tr>\n",
              "  </tbody>\n",
              "</table>\n",
              "</div><br><label><b>dtype:</b> int64</label>"
            ]
          },
          "metadata": {},
          "execution_count": 76
        }
      ]
    },
    {
      "cell_type": "code",
      "source": [
        "import math\n",
        "\n",
        "\n",
        "ryad2 = [1.57, 1.75, 1.8, 1.83, 1.84, 1.85]\n",
        "absol2 = [1, 1, 2, 1, 2, 1] # вариационный ряд с абсолютными частотами\n",
        "otn2 = []\n",
        "for i in range(len(absol2)):\n",
        "    otn2.append(absol2[i] / sum(absol2))\n",
        "print(otn2) # вариационный ряд с относительными частотами\n",
        "m = int(1 + 3.332 * math.log10(sum(absol2))) # границ\n",
        "m"
      ],
      "metadata": {
        "colab": {
          "base_uri": "https://localhost:8080/"
        },
        "id": "IUZ_Rty4dled",
        "outputId": "f145cf1e-49fb-49c0-8c5f-3159bb31596a"
      },
      "execution_count": 77,
      "outputs": [
        {
          "output_type": "stream",
          "name": "stdout",
          "text": [
            "[0.125, 0.125, 0.25, 0.125, 0.25, 0.125]\n"
          ]
        },
        {
          "output_type": "execute_result",
          "data": {
            "text/plain": [
              "4"
            ]
          },
          "metadata": {},
          "execution_count": 77
        }
      ]
    },
    {
      "cell_type": "code",
      "source": [
        "m = int(1 + 3.332 * math.log10(8)) # границ\n",
        "m"
      ],
      "metadata": {
        "colab": {
          "base_uri": "https://localhost:8080/"
        },
        "id": "X5adfmliqDpf",
        "outputId": "63fd81cf-7e84-422d-eb98-11339216e2d9"
      },
      "execution_count": 78,
      "outputs": [
        {
          "output_type": "execute_result",
          "data": {
            "text/plain": [
              "4"
            ]
          },
          "metadata": {},
          "execution_count": 78
        }
      ]
    },
    {
      "cell_type": "markdown",
      "source": [
        "3. Вариационный ряд"
      ],
      "metadata": {
        "id": "Le2A6Rnu5vF_"
      }
    },
    {
      "cell_type": "code",
      "source": [
        "sort_num2 = sorted(students['height'])\n",
        "sort_num2"
      ],
      "metadata": {
        "colab": {
          "base_uri": "https://localhost:8080/"
        },
        "id": "mfrFVl67aeUG",
        "outputId": "bdedbd02-5e64-4894-d467-a359bb408ea7"
      },
      "execution_count": 79,
      "outputs": [
        {
          "output_type": "execute_result",
          "data": {
            "text/plain": [
              "[1.57, 1.75, 1.8, 1.8, 1.83, 1.84, 1.84, 1.85]"
            ]
          },
          "metadata": {},
          "execution_count": 79
        }
      ]
    },
    {
      "cell_type": "markdown",
      "source": [
        "4. Гистограмма распределения относительных частот для\n",
        "рассчитанных интервалов выборки"
      ],
      "metadata": {
        "id": "fxZyJcak6R8v"
      }
    },
    {
      "cell_type": "code",
      "source": [
        "max_ryad2 = max(ryad2)\n",
        "min_ryad2 = min(ryad2)\n",
        "h = (max_ryad2 - min_ryad2) / m\n",
        "h"
      ],
      "metadata": {
        "colab": {
          "base_uri": "https://localhost:8080/"
        },
        "id": "K7c8ToSGemWG",
        "outputId": "76d6fd53-8076-4aa4-8a37-6aa0bec2c1c8"
      },
      "execution_count": 80,
      "outputs": [
        {
          "output_type": "execute_result",
          "data": {
            "text/plain": [
              "0.07"
            ]
          },
          "metadata": {},
          "execution_count": 80
        }
      ]
    },
    {
      "cell_type": "code",
      "source": [
        "first_height = round(min_ryad2 - (h / 2), 5)\n",
        "hh = []\n",
        "for i in range(m + 1):\n",
        "    hh.append(first_height)\n",
        "    first_height = round(first_height + h, 5)\n",
        "hh"
      ],
      "metadata": {
        "colab": {
          "base_uri": "https://localhost:8080/"
        },
        "id": "_rXgXoy7sWc-",
        "outputId": "f95b24f9-7347-4fbb-8524-7aa33af5b727"
      },
      "execution_count": 81,
      "outputs": [
        {
          "output_type": "execute_result",
          "data": {
            "text/plain": [
              "[1.535, 1.605, 1.675, 1.745, 1.815]"
            ]
          },
          "metadata": {},
          "execution_count": 81
        }
      ]
    },
    {
      "cell_type": "code",
      "source": [
        "hist, _ = np.histogram(students['height'], bins=hh)\n",
        "print(hist)"
      ],
      "metadata": {
        "colab": {
          "base_uri": "https://localhost:8080/"
        },
        "id": "13dVCJt47WdD",
        "outputId": "9456f36a-a4dc-4f3b-f942-b494b7e71b60"
      },
      "execution_count": 82,
      "outputs": [
        {
          "output_type": "stream",
          "name": "stdout",
          "text": [
            "[1 0 0 3]\n"
          ]
        }
      ]
    },
    {
      "cell_type": "code",
      "source": [
        "relative_frequencies = hist / (len(hh) - 1)\n",
        "print(relative_frequencies)"
      ],
      "metadata": {
        "colab": {
          "base_uri": "https://localhost:8080/"
        },
        "id": "BolZSj0M7ene",
        "outputId": "4fb8ac5d-eda5-4bbe-b1ac-22917d7c19a6"
      },
      "execution_count": 83,
      "outputs": [
        {
          "output_type": "stream",
          "name": "stdout",
          "text": [
            "[0.25 0.   0.   0.75]\n"
          ]
        }
      ]
    },
    {
      "cell_type": "code",
      "source": [
        "plt.figure(figsize=(10, 8))\n",
        "plt.bar([f\"{hh[i], 3}-{hh[i+1], 3}\" for i in range(m)], relative_frequencies)\n",
        "plt.xlabel('Интервалы')\n",
        "plt.ylabel('Относительная частота')\n",
        "plt.title('Гистограмма распределения относительных частот')\n",
        "plt.show()"
      ],
      "metadata": {
        "colab": {
          "base_uri": "https://localhost:8080/",
          "height": 718
        },
        "id": "TMcqRubY7ncM",
        "outputId": "cf85c571-6ade-4dfb-c634-825176dca605"
      },
      "execution_count": 84,
      "outputs": [
        {
          "output_type": "display_data",
          "data": {
            "text/plain": [
              "<Figure size 1000x800 with 1 Axes>"
            ],
            "image/png": "[encoded data removed]"
          },
          "metadata": {}
        }
      ]
    },
    {
      "cell_type": "code",
      "source": [
        "s_ryad2 = ['1.535 1.605', '1.605 1.675', '1.675 1.745', '1.745 1.815']\n",
        "otn21 = [otn2[0], 0, 0, sum(otn2[1:])]\n",
        "plt.figure(figsize=(10, 8))\n",
        "\n",
        "plt.bar(s_ryad2, otn21)\n",
        "plt.show()"
      ],
      "metadata": {
        "colab": {
          "base_uri": "https://localhost:8080/",
          "height": 676
        },
        "id": "OMY-Szt9gA6u",
        "outputId": "359717a3-1ed7-4f5e-ee9c-7969fc90ba14"
      },
      "execution_count": 85,
      "outputs": [
        {
          "output_type": "display_data",
          "data": {
            "text/plain": [
              "<Figure size 1000x800 with 1 Axes>"
            ],
            "image/png": "[encoded data removed]"
          },
          "metadata": {}
        }
      ]
    },
    {
      "cell_type": "markdown",
      "source": [
        "5. Эмпирическая функция распределения"
      ],
      "metadata": {
        "id": "5VeYDzDb6glO"
      }
    },
    {
      "cell_type": "code",
      "source": [
        "def emp_func(data):\n",
        "    sorted_data = np.sort(data)\n",
        "    n = len(data)\n",
        "    return sorted_data, np.arange(1, n + 1) / n\n",
        "\n",
        "\n",
        "x_h, y_h = emp_func(students['height'])\n",
        "\n",
        "plt.figure(figsize=(12, 6))\n",
        "\n",
        "plt.subplot(1, 2, 1)\n",
        "plt.step(x_h, y_h, where='post', label='Эмпирическая функция распределения', color = 'blue')\n",
        "plt.title('Эмпирическая функция распределения для height')\n",
        "plt.xlabel('Значения')\n",
        "plt.ylabel('Эмпирическая вероятность')\n",
        "plt.grid()\n",
        "plt.legend()\n",
        "\n",
        "\n",
        "plt.tight_layout()\n",
        "plt.show()"
      ],
      "metadata": {
        "colab": {
          "base_uri": "https://localhost:8080/",
          "height": 607
        },
        "id": "SZhC1OPr6ltr",
        "outputId": "f696f569-aac6-4eb4-fdc8-27a2292fee0e"
      },
      "execution_count": 86,
      "outputs": [
        {
          "output_type": "display_data",
          "data": {
            "text/plain": [
              "<Figure size 1200x600 with 1 Axes>"
            ],
            "image/png": "[encoded data removed]"
          },
          "metadata": {}
        }
      ]
    },
    {
      "cell_type": "markdown",
      "source": [
        "6.1 Рассчитать выборочное среднее"
      ],
      "metadata": {
        "id": "GgZKQudW3Y7i"
      }
    },
    {
      "cell_type": "code",
      "source": [
        "sred2 = students['height'].sum() / len(students)\n",
        "sred2"
      ],
      "metadata": {
        "colab": {
          "base_uri": "https://localhost:8080/"
        },
        "id": "y2-BimFF3YtX",
        "outputId": "7029c66d-6a88-42ae-f7ab-d8b82829188d"
      },
      "execution_count": 87,
      "outputs": [
        {
          "output_type": "execute_result",
          "data": {
            "text/plain": [
              "1.7850000000000001"
            ]
          },
          "metadata": {},
          "execution_count": 87
        }
      ]
    },
    {
      "cell_type": "markdown",
      "source": [
        "6.2 Рассчитать выборочную дисперсию"
      ],
      "metadata": {
        "id": "zrFbFwdk32u8"
      }
    },
    {
      "cell_type": "code",
      "source": [
        "c2 = []\n",
        "for i in range(len(students)):\n",
        "    c2.append((students['height'][i] - sred2) ** 2)\n",
        "\n",
        "v2 = sum(c2) / len(students)\n",
        "print(v2)"
      ],
      "metadata": {
        "colab": {
          "base_uri": "https://localhost:8080/"
        },
        "id": "aS6cgw11YoQ4",
        "outputId": "897cf75f-f14d-4294-ae23-5b270a1275f7"
      },
      "execution_count": 88,
      "outputs": [
        {
          "output_type": "stream",
          "name": "stdout",
          "text": [
            "0.007525000000000001\n"
          ]
        }
      ]
    },
    {
      "cell_type": "markdown",
      "source": [
        "6.3 Рассчитать выборочное стандартное отклонение"
      ],
      "metadata": {
        "id": "3rsGalky3_u6"
      }
    },
    {
      "cell_type": "code",
      "source": [
        "s2 = v2 ** 0.5\n",
        "print(s2)"
      ],
      "metadata": {
        "colab": {
          "base_uri": "https://localhost:8080/"
        },
        "id": "I7UNjJOyZDct",
        "outputId": "c57b8f1c-058a-4db8-d2cf-aad69077ef76"
      },
      "execution_count": 89,
      "outputs": [
        {
          "output_type": "stream",
          "name": "stdout",
          "text": [
            "0.08674675786448736\n"
          ]
        }
      ]
    },
    {
      "cell_type": "markdown",
      "source": [
        "6.4 Рассчитать медиану и моду"
      ],
      "metadata": {
        "id": "PJrQJdXi4NxX"
      }
    },
    {
      "cell_type": "code",
      "source": [
        "n2 = len(sort_num2)\n",
        "if n2 % 2 == 0:\n",
        "    median2 = (sort_num2[n2 // 2 - 1] + sort_num2[n2 // 2]) / 2\n",
        "else:\n",
        "    median2 = sort_num2[n2 // 2]\n",
        "\n",
        "print(median2)"
      ],
      "metadata": {
        "colab": {
          "base_uri": "https://localhost:8080/"
        },
        "id": "tfTWwGeaZsZu",
        "outputId": "dbbf5d86-0aba-40dd-fb8b-532500c1e7aa"
      },
      "execution_count": 90,
      "outputs": [
        {
          "output_type": "stream",
          "name": "stdout",
          "text": [
            "1.815\n"
          ]
        }
      ]
    },
    {
      "cell_type": "code",
      "source": [
        "import statistics\n",
        "\n",
        "\n",
        "print(statistics.mode(sort_num2))"
      ],
      "metadata": {
        "colab": {
          "base_uri": "https://localhost:8080/"
        },
        "id": "OQI43yjDk8PB",
        "outputId": "476b7f40-671c-4781-97f3-d7272cfa76de"
      },
      "execution_count": 91,
      "outputs": [
        {
          "output_type": "stream",
          "name": "stdout",
          "text": [
            "1.8\n"
          ]
        }
      ]
    },
    {
      "cell_type": "markdown",
      "source": [
        "6.5 Рассчитать коэффициент вариации"
      ],
      "metadata": {
        "id": "vUAQbkHn4QwF"
      }
    },
    {
      "cell_type": "code",
      "source": [
        "var2 = s2 / sred2\n",
        "print(var2)"
      ],
      "metadata": {
        "colab": {
          "base_uri": "https://localhost:8080/"
        },
        "id": "ayzhs2W3bZe5",
        "outputId": "e852e920-8ffe-4dce-b124-6856aedf50e4"
      },
      "execution_count": 92,
      "outputs": [
        {
          "output_type": "stream",
          "name": "stdout",
          "text": [
            "0.04859762345349432\n"
          ]
        }
      ]
    }
  ]
}