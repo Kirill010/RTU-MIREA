{
 "cells": [
  {
   "cell_type": "markdown",
   "id": "960039e1",
   "metadata": {},
   "source": [
    "# 1.2. Пример"
   ]
  },
  {
   "cell_type": "code",
   "execution_count": 1,
   "id": "5b94ec39",
   "metadata": {},
   "outputs": [],
   "source": [
    "x = 3+5.2*7\n",
    "y = None\n",
    "z = 'a', 5, 12.345, (2, 'b')\n",
    "df = [['Антонова Антонина', 34, 'ж'], ['Борисов Борис', 26, 'м']]\n",
    "A = {1, 'title', 2, 'content'}"
   ]
  },
  {
   "cell_type": "code",
   "execution_count": 2,
   "id": "7b620156",
   "metadata": {},
   "outputs": [
    {
     "name": "stdout",
     "output_type": "stream",
     "text": [
      "39.4 | <class 'float'> \n",
      " None | <class 'NoneType'> \n",
      " ('a', 5, 12.345, (2, 'b')) | <class 'tuple'> \n",
      " [['Антонова Антонина', 34, 'ж'], ['Борисов Борис', 26, 'м']] | <class 'list'> \n",
      " {1, 2, 'title', 'content'} | <class 'set'>\n"
     ]
    }
   ],
   "source": [
    "print(x, '|', type(x), '\\n', y, '|', type(y), '\\n',\n",
    "     z, '|', type(z), '\\n', df, '|', type(df), '\\n', A, '|', type(A))"
   ]
  },
  {
   "cell_type": "markdown",
   "id": "7ebcf223",
   "metadata": {},
   "source": [
    "# 1.3. Задание"
   ]
  },
  {
   "cell_type": "code",
   "execution_count": 3,
   "id": "331848bc",
   "metadata": {},
   "outputs": [],
   "source": [
    "x = 5 >= 2\n",
    "A = {1, 3, 7, 8}\n",
    "B = {2, 4, 5, 10, 'apple'}\n",
    "C = A & B\n",
    "df = 'Антонова Антонина', 34, 'ж'\n",
    "z = 'type'\n",
    "D = [1, 'title', 2, 'content']"
   ]
  },
  {
   "cell_type": "code",
   "execution_count": 4,
   "id": "08d82dd1",
   "metadata": {},
   "outputs": [
    {
     "name": "stdout",
     "output_type": "stream",
     "text": [
      "True | <class 'bool'> \n",
      " {8, 1, 3, 7} | <class 'set'> \n",
      " {2, 'apple', 4, 5, 10} | <class 'set'> \n",
      " set() | <class 'set'> \n",
      " ('Антонова Антонина', 34, 'ж') | <class 'tuple'> \n",
      " type | <class 'str'> \n",
      " [1, 'title', 2, 'content'] | <class 'list'>\n"
     ]
    }
   ],
   "source": [
    "print(x, '|', type(x), '\\n', \n",
    "     A, '|', type(A), '\\n',\n",
    "     B, '|', type(B), '\\n',\n",
    "     C, '|', type(C), '\\n',\n",
    "     df, '|', type(df), '\\n', \n",
    "     z, '|', type(z), '\\n',\n",
    "      D, '|', type(D))"
   ]
  },
  {
   "cell_type": "markdown",
   "id": "1a57d78e",
   "metadata": {},
   "source": [
    "# 2.2. Пример"
   ]
  },
  {
   "cell_type": "code",
   "execution_count": 6,
   "id": "a2be9af7",
   "metadata": {},
   "outputs": [
    {
     "name": "stdout",
     "output_type": "stream",
     "text": [
      "x положительный\n"
     ]
    }
   ],
   "source": [
    "x = 125\n",
    "if (x < 0):\n",
    "    print(\"x отрицательный\")\n",
    "elif (x == 0):\n",
    "    print(\"x равен нулю\")\n",
    "else:\n",
    "    print(\"x положительный\")"
   ]
  },
  {
   "cell_type": "markdown",
   "id": "9b8af144",
   "metadata": {},
   "source": [
    "# 2.3. Задание"
   ]
  },
  {
   "cell_type": "code",
   "execution_count": 10,
   "id": "94288f8a",
   "metadata": {},
   "outputs": [
    {
     "name": "stdout",
     "output_type": "stream",
     "text": [
      "100\n",
      "(5, +infinity)\n"
     ]
    }
   ],
   "source": [
    "x = int(input())\n",
    "if (x < -5):\n",
    "    print(f\"(-infinity, -5)\")\n",
    "elif (x >= -5 and x <= 5):\n",
    "    print(f\"[-5, 5]\")\n",
    "else:\n",
    "    print(f\"(5, +infinity)\")"
   ]
  },
  {
   "cell_type": "markdown",
   "id": "1f0cf0c0",
   "metadata": {},
   "source": [
    "# 3.2.1. Пример"
   ]
  },
  {
   "cell_type": "code",
   "execution_count": 11,
   "id": "54b0521a",
   "metadata": {},
   "outputs": [
    {
     "name": "stdout",
     "output_type": "stream",
     "text": [
      "1\n",
      "4\n",
      "7\n",
      "10\n"
     ]
    }
   ],
   "source": [
    "x = 1\n",
    "while (x <= 10):\n",
    "    print(x)\n",
    "    x += 3"
   ]
  },
  {
   "cell_type": "markdown",
   "id": "fa024e22",
   "metadata": {},
   "source": [
    "# 3.2.2. Пример"
   ]
  },
  {
   "cell_type": "code",
   "execution_count": 12,
   "id": "efc3a357",
   "metadata": {},
   "outputs": [
    {
     "name": "stdout",
     "output_type": "stream",
     "text": [
      "KNN\n",
      "decision tree\n",
      "linear model\n"
     ]
    }
   ],
   "source": [
    "models = ['KNN', 'decision tree', 'linear model']\n",
    "for model in models:\n",
    "    print(model)"
   ]
  },
  {
   "cell_type": "markdown",
   "id": "8a6000c5",
   "metadata": {},
   "source": [
    "# 3.2.3. Пример"
   ]
  },
  {
   "cell_type": "code",
   "execution_count": 13,
   "id": "b647dfbb",
   "metadata": {},
   "outputs": [
    {
     "name": "stdout",
     "output_type": "stream",
     "text": [
      "[1, 8, 15, 22, 29, 36, 43, 50, 57, 64, 71, 78, 85, 92, 99]\n"
     ]
    }
   ],
   "source": [
    "list_int = range(1, 100, 7)\n",
    "print(list(list_int))"
   ]
  },
  {
   "cell_type": "markdown",
   "id": "1987dc03",
   "metadata": {},
   "source": [
    "# 3.2.4. Пример"
   ]
  },
  {
   "cell_type": "code",
   "execution_count": 14,
   "id": "fba61736",
   "metadata": {},
   "outputs": [
    {
     "name": "stdout",
     "output_type": "stream",
     "text": [
      "5\n",
      "30\n",
      "55\n",
      "80\n",
      "105\n"
     ]
    }
   ],
   "source": [
    "for i in range(5, 106, 25):\n",
    "    print(i)"
   ]
  },
  {
   "cell_type": "markdown",
   "id": "08273e31",
   "metadata": {},
   "source": [
    "# 3.2.5. Пример"
   ]
  },
  {
   "cell_type": "code",
   "execution_count": 15,
   "id": "a48f7da5",
   "metadata": {},
   "outputs": [
    {
     "name": "stdout",
     "output_type": "stream",
     "text": [
      "[2, 4, 6]\n",
      "[9, 8, 7, 6, 5, 4, 3, 2, 1]\n"
     ]
    }
   ],
   "source": [
    "a = [1, 2, 3, 4, 5, 6, 7, 8, 9]\n",
    "b = a[1:7:2]\n",
    "c = a[::-1]\n",
    "print(b)\n",
    "print(c)"
   ]
  },
  {
   "cell_type": "markdown",
   "id": "5bde8046",
   "metadata": {},
   "source": [
    "# 3.3.1. Задание"
   ]
  },
  {
   "cell_type": "code",
   "execution_count": 16,
   "id": "b7cc496d",
   "metadata": {},
   "outputs": [
    {
     "name": "stdout",
     "output_type": "stream",
     "text": [
      "10\n",
      "7\n",
      "4\n",
      "1\n"
     ]
    }
   ],
   "source": [
    "x = 10\n",
    "while (x >= 1):\n",
    "    print(x)\n",
    "    x -= 3"
   ]
  },
  {
   "cell_type": "markdown",
   "id": "5149ad91",
   "metadata": {},
   "source": [
    "# 3.3.2. Задание"
   ]
  },
  {
   "cell_type": "code",
   "execution_count": 23,
   "id": "318aab23",
   "metadata": {},
   "outputs": [
    {
     "name": "stdout",
     "output_type": "stream",
     "text": [
      "ходит\n",
      "дышит\n",
      "кушает\n"
     ]
    }
   ],
   "source": [
    "l = ['ходит', 'дышит', 'кушает']\n",
    "for elem in l:\n",
    "    print(elem)"
   ]
  },
  {
   "cell_type": "markdown",
   "id": "947d1e9c",
   "metadata": {},
   "source": [
    "# 3.3.3. Задание"
   ]
  },
  {
   "cell_type": "code",
   "execution_count": 17,
   "id": "bd1301ff",
   "metadata": {},
   "outputs": [
    {
     "name": "stdout",
     "output_type": "stream",
     "text": [
      "[2, 3, 4, 5, 6, 7, 8, 9, 10, 11, 12, 13, 14]\n"
     ]
    }
   ],
   "source": [
    "list_int = range(2, 15, 1)\n",
    "print(list(list_int))"
   ]
  },
  {
   "cell_type": "markdown",
   "id": "99d532d9",
   "metadata": {},
   "source": [
    "# 3.3.4. Задание"
   ]
  },
  {
   "cell_type": "code",
   "execution_count": 21,
   "id": "3c6d9637",
   "metadata": {},
   "outputs": [
    {
     "name": "stdout",
     "output_type": "stream",
     "text": [
      "105\n",
      "80\n",
      "55\n",
      "30\n",
      "5\n"
     ]
    }
   ],
   "source": [
    "for i in range(105, 4, -25):\n",
    "    print(i)"
   ]
  },
  {
   "cell_type": "markdown",
   "id": "b5578a99",
   "metadata": {},
   "source": [
    "# 3.3.5. Задание"
   ]
  },
  {
   "cell_type": "code",
   "execution_count": 33,
   "id": "9e5cbc12",
   "metadata": {},
   "outputs": [
    {
     "name": "stdout",
     "output_type": "stream",
     "text": [
      "[8, 1, 6, 3, 4, 5, 2, 7, 0, 9]\n"
     ]
    }
   ],
   "source": [
    "x = [0, 1, 2, 3, 4, 5, 6, 7, 8, 9]\n",
    "b = x[0:9:2]\n",
    "b = b[::-1]\n",
    "j = 0\n",
    "for i in range(10):\n",
    "    if (i % 2 == 0):\n",
    "        x[i] = b[j]\n",
    "        j += 1\n",
    "print(x)"
   ]
  },
  {
   "cell_type": "markdown",
   "id": "6270e5cb",
   "metadata": {},
   "source": [
    "# 4.2.1. Пример"
   ]
  },
  {
   "cell_type": "code",
   "execution_count": 34,
   "id": "5d23b5ba",
   "metadata": {},
   "outputs": [
    {
     "name": "stdout",
     "output_type": "stream",
     "text": [
      "0.41078129050290885\n"
     ]
    }
   ],
   "source": [
    "import math as m\n",
    "print(m.sin(m.e))"
   ]
  },
  {
   "cell_type": "markdown",
   "id": "fa61e711",
   "metadata": {},
   "source": [
    "# 4.2.2. Пример"
   ]
  },
  {
   "cell_type": "code",
   "execution_count": 36,
   "id": "63f4c783",
   "metadata": {},
   "outputs": [
    {
     "name": "stdout",
     "output_type": "stream",
     "text": [
      "73.50792907748662\n"
     ]
    },
    {
     "data": {
      "image/png": "[encoded data removed]",
      "text/plain": [
       "<Figure size 640x480 with 1 Axes>"
      ]
     },
     "metadata": {},
     "output_type": "display_data"
    }
   ],
   "source": [
    "import numpy as np\n",
    "import matplotlib.pyplot as plt\n",
    "from scipy.integrate import simps\n",
    "from numpy import trapz\n",
    "x = np.arange(0.0, 10, 0.1)\n",
    "y = np.abs(np.sin(x * np.exp(np.cos(x))))\n",
    "plt.grid()\n",
    "plt.plot(x, y, c = \"r\")\n",
    "plt.fill_between(x, y)\n",
    "\n",
    "area = trapz(y)\n",
    "print(area)"
   ]
  },
  {
   "cell_type": "markdown",
   "id": "c7078a5f",
   "metadata": {},
   "source": [
    "# 4.2.3. Пример"
   ]
  },
  {
   "cell_type": "code",
   "execution_count": 37,
   "id": "f1f4d9ee",
   "metadata": {},
   "outputs": [
    {
     "data": {
      "image/png": "[encoded data removed]",
      "text/plain": [
       "<Figure size 1000x700 with 1 Axes>"
      ]
     },
     "metadata": {},
     "output_type": "display_data"
    },
    {
     "data": {
      "text/plain": [
       "<matplotlib.collections.PathCollection at 0x20ff7aeadf0>"
      ]
     },
     "execution_count": 37,
     "metadata": {},
     "output_type": "execute_result"
    },
    {
     "data": {
      "image/png": "[encoded data removed]",
      "text/plain": [
       "<Figure size 640x480 with 1 Axes>"
      ]
     },
     "metadata": {},
     "output_type": "display_data"
    }
   ],
   "source": [
    "from matplotlib import pyplot as plt\n",
    "import numpy as np\n",
    "\n",
    "marks = ['Неуд', 'Удовл', 'Хор', 'Отл']\n",
    "\n",
    "data = [3, 7, 8, 4]\n",
    "fig = plt.figure(figsize=(10, 7))\n",
    "plt.pie(data, labels=marks)\n",
    "plt.show()\n",
    "plt.grid()\n",
    "plt.scatter(marks, data)"
   ]
  },
  {
   "cell_type": "markdown",
   "id": "8d639fc6",
   "metadata": {},
   "source": [
    "# 4.3.1. Задание"
   ]
  },
  {
   "cell_type": "code",
   "execution_count": null,
   "id": "a5817479",
   "metadata": {},
   "outputs": [],
   "source": []
  },
  {
   "cell_type": "markdown",
   "id": "ad33c854",
   "metadata": {},
   "source": [
    "# 4.3.2. Задание"
   ]
  },
  {
   "cell_type": "code",
   "execution_count": null,
   "id": "836f0c37",
   "metadata": {},
   "outputs": [],
   "source": []
  },
  {
   "cell_type": "markdown",
   "id": "aacc9a48",
   "metadata": {},
   "source": [
    "# 4.3.3. Задание"
   ]
  },
  {
   "cell_type": "code",
   "execution_count": null,
   "id": "917c613c",
   "metadata": {},
   "outputs": [],
   "source": []
  },
  {
   "cell_type": "markdown",
   "id": "586757b6",
   "metadata": {},
   "source": [
    "# 4.3.4. Задание"
   ]
  },
  {
   "cell_type": "code",
   "execution_count": null,
   "id": "2b1aac7e",
   "metadata": {},
   "outputs": [],
   "source": []
  },
  {
   "cell_type": "markdown",
   "id": "356ebc52",
   "metadata": {},
   "source": [
    "# 4.3.5. Задание"
   ]
  },
  {
   "cell_type": "code",
   "execution_count": null,
   "id": "a74a2660",
   "metadata": {},
   "outputs": [],
   "source": []
  }
 ],
 "metadata": {
  "kernelspec": {
   "display_name": "Python 3 (ipykernel)",
   "language": "python",
   "name": "python3"
  },
  "language_info": {
   "codemirror_mode": {
    "name": "ipython",
    "version": 3
   },
   "file_extension": ".py",
   "mimetype": "text/x-python",
   "name": "python",
   "nbconvert_exporter": "python",
   "pygments_lexer": "ipython3",
   "version": "3.9.13"
  }
 },
 "nbformat": 4,
 "nbformat_minor": 5
}
